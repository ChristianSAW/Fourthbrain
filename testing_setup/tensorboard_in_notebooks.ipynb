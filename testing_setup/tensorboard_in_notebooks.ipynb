{
  "cells": [
    {
      "cell_type": "markdown",
      "metadata": {
        "id": "TsHV-7cpVkyK"
      },
      "source": [
        "##### Copyright 2019 The TensorFlow Authors."
      ]
    },
    {
      "cell_type": "code",
      "execution_count": 1,
      "metadata": {
        "cellView": "form",
        "id": "atWM-s8yVnfX"
      },
      "outputs": [],
      "source": [
        "#@title Licensed under the Apache License, Version 2.0 (the \"License\");\n",
        "# you may not use this file except in compliance with the License.\n",
        "# You may obtain a copy of the License at\n",
        "#\n",
        "# https://www.apache.org/licenses/LICENSE-2.0\n",
        "#\n",
        "# Unless required by applicable law or agreed to in writing, software\n",
        "# distributed under the License is distributed on an \"AS IS\" BASIS,\n",
        "# WITHOUT WARRANTIES OR CONDITIONS OF ANY KIND, either express or implied.\n",
        "# See the License for the specific language governing permissions and\n",
        "# limitations under the License."
      ]
    },
    {
      "cell_type": "markdown",
      "metadata": {
        "id": "TB0wBWfcVqHz"
      },
      "source": [
        "# Using TensorBoard in Notebooks\n",
        "\n",
        "<table class=\"tfo-notebook-buttons\" align=\"left\">\n",
        "  <td>\n",
        "    <a target=\"_blank\" href=\"https://www.tensorflow.org/tensorboard/tensorboard_in_notebooks\"><img src=\"https://www.tensorflow.org/images/tf_logo_32px.png\" />View on TensorFlow.org</a>\n",
        "  </td>\n",
        "  <td>\n",
        "    <a target=\"_blank\" href=\"https://colab.research.google.com/github/tensorflow/tensorboard/blob/master/docs/tensorboard_in_notebooks.ipynb\"><img src=\"https://www.tensorflow.org/images/colab_logo_32px.png\" />Run in Google Colab</a>\n",
        "  </td>\n",
        "  <td>\n",
        "    <a target=\"_blank\" href=\"https://github.com/tensorflow/tensorboard/blob/master/docs/tensorboard_in_notebooks.ipynb\"><img src=\"https://www.tensorflow.org/images/GitHub-Mark-32px.png\" />View source on GitHub</a>\n",
        "  </td>\n",
        "  <td>\n",
        "    <a href=\"https://storage.googleapis.com/tensorflow_docs/tensorboard/docs/tensorboard_in_notebooks.ipynb\"><img src=\"https://www.tensorflow.org/images/download_logo_32px.png\" />Download notebook</a>\n",
        "  </td>\n",
        "</table>"
      ]
    },
    {
      "cell_type": "markdown",
      "metadata": {
        "id": "elH58gbhWAmn"
      },
      "source": [
        "TensorBoard can be used directly within notebook experiences such as [Colab](https://colab.research.google.com/) and [Jupyter](https://jupyter.org/). This can be helpful for sharing results, integrating TensorBoard into existing workflows, and using TensorBoard without installing anything locally."
      ]
    },
    {
      "cell_type": "markdown",
      "metadata": {
        "id": "VszJNloY3ZU3"
      },
      "source": [
        "## Setup"
      ]
    },
    {
      "cell_type": "markdown",
      "metadata": {
        "id": "E6QhA_dp3eRq"
      },
      "source": [
        "Start by installing TF 2.0 and loading the TensorBoard notebook extension:\n",
        "\n",
        "**For Jupyter users:** If you’ve installed Jupyter and TensorBoard into\n",
        "the same virtualenv, then you should be good to go. If you’re using a\n",
        "more complicated setup, like a global Jupyter installation and kernels\n",
        "for different Conda/virtualenv environments, then you must ensure that\n",
        "the `tensorboard` binary is on your `PATH` inside the Jupyter notebook\n",
        "context. One way to do this is to modify the `kernel_spec` to prepend\n",
        "the environment’s `bin` directory to `PATH`, [as described here][1].\n",
        "\n",
        "[1]: https://github.com/ipython/ipykernel/issues/395#issuecomment-479787997\n"
      ]
    },
    {
      "cell_type": "markdown",
      "metadata": {
        "id": "9w7Baxc8aCtJ"
      },
      "source": [
        "**For Docker users:** In case you are running a [Docker](https://docs.docker.com/install/) image of [Jupyter Notebook server using TensorFlow's nightly](https://www.tensorflow.org/install/docker#examples_using_cpu-only_images), it is necessary to expose not only the notebook's port, but the TensorBoard's port. Thus, run the container with the following command:\n",
        "\n",
        "```\n",
        "docker run -it -p 8888:8888 -p 6006:6006 \\\n",
        "tensorflow/tensorflow:nightly-py3-jupyter \n",
        "```\n",
        "\n",
        "where the `-p 6006` is the default port of TensorBoard. This will allocate a port for you to run one TensorBoard instance. To have concurrent instances, it is necessary to allocate more ports. Also, pass `--bind_all` to `%tensorboard` to expose the port outside the container."
      ]
    },
    {
      "cell_type": "code",
      "execution_count": 2,
      "metadata": {
        "id": "8p3Tbx8cWEFA"
      },
      "outputs": [],
      "source": [
        "# Load the TensorBoard notebook extension\n",
        "%load_ext tensorboard"
      ]
    },
    {
      "cell_type": "markdown",
      "metadata": {
        "id": "9GtR_cTTkf9G"
      },
      "source": [
        "Import TensorFlow, datetime, and os:"
      ]
    },
    {
      "cell_type": "code",
      "execution_count": 3,
      "metadata": {
        "id": "mVtYvbbIWRkV"
      },
      "outputs": [],
      "source": [
        "import tensorflow as tf\n",
        "import datetime, os"
      ]
    },
    {
      "cell_type": "markdown",
      "metadata": {
        "id": "Cu1fbH-S3oAX"
      },
      "source": [
        "## TensorBoard in notebooks"
      ]
    },
    {
      "cell_type": "markdown",
      "metadata": {
        "id": "XfCa27_8kov6"
      },
      "source": [
        "Download the [FashionMNIST](https://github.com/zalandoresearch/fashion-mnist) dataset and scale it:"
      ]
    },
    {
      "cell_type": "code",
      "execution_count": 4,
      "metadata": {
        "id": "z8b82G7YksOS"
      },
      "outputs": [
        {
          "name": "stdout",
          "output_type": "stream",
          "text": [
            "Downloading data from https://storage.googleapis.com/tensorflow/tf-keras-datasets/train-labels-idx1-ubyte.gz\n",
            "32768/29515 [=================================] - 0s 1us/step\n",
            "40960/29515 [=========================================] - 0s 1us/step\n",
            "Downloading data from https://storage.googleapis.com/tensorflow/tf-keras-datasets/train-images-idx3-ubyte.gz\n",
            "26427392/26421880 [==============================] - 6s 0us/step\n",
            "26435584/26421880 [==============================] - 6s 0us/step\n",
            "Downloading data from https://storage.googleapis.com/tensorflow/tf-keras-datasets/t10k-labels-idx1-ubyte.gz\n",
            "16384/5148 [===============================================================================================] - 0s 0us/step\n",
            "Downloading data from https://storage.googleapis.com/tensorflow/tf-keras-datasets/t10k-images-idx3-ubyte.gz\n",
            "4423680/4422102 [==============================] - 2s 0us/step\n",
            "4431872/4422102 [==============================] - 2s 0us/step\n"
          ]
        }
      ],
      "source": [
        "fashion_mnist = tf.keras.datasets.fashion_mnist\n",
        "\n",
        "(x_train, y_train),(x_test, y_test) = fashion_mnist.load_data()\n",
        "x_train, x_test = x_train / 255.0, x_test / 255.0"
      ]
    },
    {
      "cell_type": "markdown",
      "metadata": {
        "id": "lBk1BqAZKEKd"
      },
      "source": [
        "Create a very simple model:"
      ]
    },
    {
      "cell_type": "code",
      "execution_count": 5,
      "metadata": {
        "id": "OS7qGYiMKGQl"
      },
      "outputs": [],
      "source": [
        "def create_model():\n",
        "  return tf.keras.models.Sequential([\n",
        "    tf.keras.layers.Flatten(input_shape=(28, 28)),\n",
        "    tf.keras.layers.Dense(512, activation='relu'),\n",
        "    tf.keras.layers.Dropout(0.2),\n",
        "    tf.keras.layers.Dense(10, activation='softmax')\n",
        "  ])"
      ]
    },
    {
      "cell_type": "markdown",
      "metadata": {
        "id": "RNaPPs5ZKNOV"
      },
      "source": [
        "Train the model using Keras and the TensorBoard callback:"
      ]
    },
    {
      "cell_type": "code",
      "execution_count": 6,
      "metadata": {
        "id": "lpUO9HqUKP6z"
      },
      "outputs": [
        {
          "name": "stderr",
          "output_type": "stream",
          "text": [
            "2021-11-11 16:24:06.709380: I tensorflow/core/platform/cpu_feature_guard.cc:142] This TensorFlow binary is optimized with oneAPI Deep Neural Network Library (oneDNN) to use the following CPU instructions in performance-critical operations:  AVX2 FMA\n",
            "To enable them in other operations, rebuild TensorFlow with the appropriate compiler flags.\n",
            "2021-11-11 16:24:07.379025: I tensorflow/core/profiler/lib/profiler_session.cc:131] Profiler session initializing.\n",
            "2021-11-11 16:24:07.379065: I tensorflow/core/profiler/lib/profiler_session.cc:146] Profiler session started.\n",
            "2021-11-11 16:24:07.382859: I tensorflow/core/profiler/lib/profiler_session.cc:164] Profiler session tear down.\n",
            "2021-11-11 16:24:13.576463: I tensorflow/compiler/mlir/mlir_graph_optimization_pass.cc:185] None of the MLIR Optimization Passes are enabled (registered 2)\n"
          ]
        },
        {
          "name": "stdout",
          "output_type": "stream",
          "text": [
            "Epoch 1/5\n",
            "   2/1875 [..............................] - ETA: 2:32 - loss: 2.1704 - accuracy: 0.2031   "
          ]
        },
        {
          "name": "stderr",
          "output_type": "stream",
          "text": [
            "2021-11-11 16:24:20.464337: I tensorflow/core/profiler/lib/profiler_session.cc:131] Profiler session initializing.\n",
            "2021-11-11 16:24:20.464366: I tensorflow/core/profiler/lib/profiler_session.cc:146] Profiler session started.\n",
            "2021-11-11 16:24:20.522456: I tensorflow/core/profiler/lib/profiler_session.cc:66] Profiler session collecting data.\n",
            "2021-11-11 16:24:20.559515: I tensorflow/core/profiler/lib/profiler_session.cc:164] Profiler session tear down.\n",
            "2021-11-11 16:24:20.588618: I tensorflow/core/profiler/rpc/client/save_profile.cc:136] Creating directory: logs/20211111-162407/train/plugins/profile/2021_11_11_16_24_20\n",
            "\n",
            "2021-11-11 16:24:20.616941: I tensorflow/core/profiler/rpc/client/save_profile.cc:142] Dumped gzipped tool data for trace.json.gz to logs/20211111-162407/train/plugins/profile/2021_11_11_16_24_20/Christians-Air.home.trace.json.gz\n",
            "2021-11-11 16:24:20.657484: I tensorflow/core/profiler/rpc/client/save_profile.cc:136] Creating directory: logs/20211111-162407/train/plugins/profile/2021_11_11_16_24_20\n",
            "\n",
            "2021-11-11 16:24:20.660814: I tensorflow/core/profiler/rpc/client/save_profile.cc:142] Dumped gzipped tool data for memory_profile.json.gz to logs/20211111-162407/train/plugins/profile/2021_11_11_16_24_20/Christians-Air.home.memory_profile.json.gz\n",
            "2021-11-11 16:24:20.666374: I tensorflow/core/profiler/rpc/client/capture_profile.cc:251] Creating directory: logs/20211111-162407/train/plugins/profile/2021_11_11_16_24_20\n",
            "Dumped tool data for xplane.pb to logs/20211111-162407/train/plugins/profile/2021_11_11_16_24_20/Christians-Air.home.xplane.pb\n",
            "Dumped tool data for overview_page.pb to logs/20211111-162407/train/plugins/profile/2021_11_11_16_24_20/Christians-Air.home.overview_page.pb\n",
            "Dumped tool data for input_pipeline.pb to logs/20211111-162407/train/plugins/profile/2021_11_11_16_24_20/Christians-Air.home.input_pipeline.pb\n",
            "Dumped tool data for tensorflow_stats.pb to logs/20211111-162407/train/plugins/profile/2021_11_11_16_24_20/Christians-Air.home.tensorflow_stats.pb\n",
            "Dumped tool data for kernel_stats.pb to logs/20211111-162407/train/plugins/profile/2021_11_11_16_24_20/Christians-Air.home.kernel_stats.pb\n",
            "\n"
          ]
        },
        {
          "name": "stdout",
          "output_type": "stream",
          "text": [
            "1875/1875 [==============================] - 48s 22ms/step - loss: 0.4967 - accuracy: 0.8235 - val_loss: 0.4177 - val_accuracy: 0.8525\n",
            "Epoch 2/5\n",
            "1875/1875 [==============================] - 37s 20ms/step - loss: 0.3815 - accuracy: 0.8604 - val_loss: 0.3788 - val_accuracy: 0.8604\n",
            "Epoch 3/5\n",
            "1875/1875 [==============================] - 25s 13ms/step - loss: 0.3484 - accuracy: 0.8718 - val_loss: 0.3822 - val_accuracy: 0.8551\n",
            "Epoch 4/5\n",
            "1875/1875 [==============================] - 20s 10ms/step - loss: 0.3271 - accuracy: 0.8791 - val_loss: 0.3546 - val_accuracy: 0.8697\n",
            "Epoch 5/5\n",
            "1875/1875 [==============================] - 20s 11ms/step - loss: 0.3146 - accuracy: 0.8833 - val_loss: 0.3597 - val_accuracy: 0.8725\n"
          ]
        }
      ],
      "source": [
        "def train_model():\n",
        "  \n",
        "  model = create_model()\n",
        "  model.compile(optimizer='adam',\n",
        "                loss='sparse_categorical_crossentropy',\n",
        "                metrics=['accuracy'])\n",
        "\n",
        "  logdir = os.path.join(\"logs\", datetime.datetime.now().strftime(\"%Y%m%d-%H%M%S\"))\n",
        "  tensorboard_callback = tf.keras.callbacks.TensorBoard(logdir, histogram_freq=1)\n",
        "\n",
        "  model.fit(x=x_train, \n",
        "            y=y_train, \n",
        "            epochs=5, \n",
        "            validation_data=(x_test, y_test), \n",
        "            callbacks=[tensorboard_callback])\n",
        "\n",
        "train_model()"
      ]
    },
    {
      "cell_type": "markdown",
      "metadata": {
        "id": "SxvXc4hoKW7d"
      },
      "source": [
        "Start TensorBoard within the notebook using [magics](https://ipython.readthedocs.io/en/stable/interactive/magics.html):"
      ]
    },
    {
      "cell_type": "code",
      "execution_count": 7,
      "metadata": {
        "id": "KBHp6M_zgjp4"
      },
      "outputs": [
        {
          "data": {
            "text/html": [
              "\n",
              "      <iframe id=\"tensorboard-frame-f2d76479e48f90a6\" width=\"100%\" height=\"800\" frameborder=\"0\">\n",
              "      </iframe>\n",
              "      <script>\n",
              "        (function() {\n",
              "          const frame = document.getElementById(\"tensorboard-frame-f2d76479e48f90a6\");\n",
              "          const url = new URL(\"/\", window.location);\n",
              "          const port = 6006;\n",
              "          if (port) {\n",
              "            url.port = port;\n",
              "          }\n",
              "          frame.src = url;\n",
              "        })();\n",
              "      </script>\n",
              "    "
            ],
            "text/plain": [
              "<IPython.core.display.HTML object>"
            ]
          },
          "metadata": {},
          "output_type": "display_data"
        }
      ],
      "source": [
        "%tensorboard --logdir logs"
      ]
    },
    {
      "cell_type": "markdown",
      "metadata": {
        "id": "Po7rTfQswAMT"
      },
      "source": [
        "<!-- <img class=\"tfo-display-only-on-site\" src=\"https://github.com/tensorflow/tensorboard/blob/master/docs/images/notebook_tensorboard.png?raw=1\"/> -->"
      ]
    },
    {
      "cell_type": "markdown",
      "metadata": {
        "id": "aQq3UHgmLBpC"
      },
      "source": [
        "You can now view dashboards such as scalars, graphs, histograms, and others. Some dashboards are not available yet in Colab (such as the profile plugin).\n",
        "\n",
        "The `%tensorboard` magic has exactly the same format as the TensorBoard command line invocation, but with a `%`-sign in front of it."
      ]
    },
    {
      "cell_type": "markdown",
      "metadata": {
        "id": "NiIMwOG8MR_g"
      },
      "source": [
        "You can also start TensorBoard before training to monitor it in progress:"
      ]
    },
    {
      "cell_type": "code",
      "execution_count": 8,
      "metadata": {
        "id": "qyI5lrXoMw9K"
      },
      "outputs": [
        {
          "data": {
            "text/plain": [
              "Reusing TensorBoard on port 6006 (pid 88396), started 0:00:01 ago. (Use '!kill 88396' to kill it.)"
            ]
          },
          "metadata": {},
          "output_type": "display_data"
        },
        {
          "data": {
            "text/html": [
              "\n",
              "      <iframe id=\"tensorboard-frame-1b87c1b8c61ed33d\" width=\"100%\" height=\"800\" frameborder=\"0\">\n",
              "      </iframe>\n",
              "      <script>\n",
              "        (function() {\n",
              "          const frame = document.getElementById(\"tensorboard-frame-1b87c1b8c61ed33d\");\n",
              "          const url = new URL(\"http://localhost\");\n",
              "          const port = 6006;\n",
              "          if (port) {\n",
              "            url.port = port;\n",
              "          }\n",
              "          frame.src = url;\n",
              "        })();\n",
              "      </script>\n",
              "    "
            ],
            "text/plain": [
              "<IPython.core.display.HTML object>"
            ]
          },
          "metadata": {},
          "output_type": "display_data"
        }
      ],
      "source": [
        "%tensorboard --logdir logs"
      ]
    },
    {
      "cell_type": "markdown",
      "metadata": {
        "id": "ALxC8BbWWV91"
      },
      "source": [
        "<!-- <img class=\"tfo-display-only-on-site\" src=\"https://github.com/tensorflow/tensorboard/blob/master/docs/images/notebook_tensorboard_two_runs.png?raw=1\"/> -->"
      ]
    },
    {
      "cell_type": "markdown",
      "metadata": {
        "id": "GUSM8yLrO2yZ"
      },
      "source": [
        "The same TensorBoard backend is reused by issuing the same command. If a different logs directory was chosen, a new instance of TensorBoard would be opened. Ports are managed automatically. \n",
        "\n",
        "Start training a new model and watch TensorBoard update automatically every 30 seconds or refresh it with the button on the top right:"
      ]
    },
    {
      "cell_type": "code",
      "execution_count": 9,
      "metadata": {
        "id": "ixZlmtWhMyr4"
      },
      "outputs": [
        {
          "name": "stderr",
          "output_type": "stream",
          "text": [
            "2021-11-11 16:27:20.671728: I tensorflow/core/profiler/lib/profiler_session.cc:131] Profiler session initializing.\n",
            "2021-11-11 16:27:20.672100: I tensorflow/core/profiler/lib/profiler_session.cc:146] Profiler session started.\n",
            "2021-11-11 16:27:20.675016: I tensorflow/core/profiler/lib/profiler_session.cc:164] Profiler session tear down.\n"
          ]
        },
        {
          "name": "stdout",
          "output_type": "stream",
          "text": [
            "Epoch 1/5\n",
            "   2/1875 [..............................] - ETA: 9:46 - loss: 2.5251 - accuracy: 0.0938   "
          ]
        },
        {
          "name": "stderr",
          "output_type": "stream",
          "text": [
            "2021-11-11 16:27:28.824272: I tensorflow/core/profiler/lib/profiler_session.cc:131] Profiler session initializing.\n",
            "2021-11-11 16:27:28.824311: I tensorflow/core/profiler/lib/profiler_session.cc:146] Profiler session started.\n"
          ]
        },
        {
          "name": "stdout",
          "output_type": "stream",
          "text": [
            "   3/1875 [..............................] - ETA: 11:27 - loss: 2.4036 - accuracy: 0.1354"
          ]
        },
        {
          "name": "stderr",
          "output_type": "stream",
          "text": [
            "2021-11-11 16:27:29.191586: I tensorflow/core/profiler/lib/profiler_session.cc:66] Profiler session collecting data.\n",
            "2021-11-11 16:27:29.196104: I tensorflow/core/profiler/lib/profiler_session.cc:164] Profiler session tear down.\n",
            "2021-11-11 16:27:29.203137: I tensorflow/core/profiler/rpc/client/save_profile.cc:136] Creating directory: logs/20211111-162720/train/plugins/profile/2021_11_11_16_27_29\n",
            "\n",
            "2021-11-11 16:27:29.213069: I tensorflow/core/profiler/rpc/client/save_profile.cc:142] Dumped gzipped tool data for trace.json.gz to logs/20211111-162720/train/plugins/profile/2021_11_11_16_27_29/Christians-Air.home.trace.json.gz\n",
            "2021-11-11 16:27:29.221895: I tensorflow/core/profiler/rpc/client/save_profile.cc:136] Creating directory: logs/20211111-162720/train/plugins/profile/2021_11_11_16_27_29\n",
            "\n",
            "2021-11-11 16:27:29.223002: I tensorflow/core/profiler/rpc/client/save_profile.cc:142] Dumped gzipped tool data for memory_profile.json.gz to logs/20211111-162720/train/plugins/profile/2021_11_11_16_27_29/Christians-Air.home.memory_profile.json.gz\n",
            "2021-11-11 16:27:29.252424: I tensorflow/core/profiler/rpc/client/capture_profile.cc:251] Creating directory: logs/20211111-162720/train/plugins/profile/2021_11_11_16_27_29\n",
            "Dumped tool data for xplane.pb to logs/20211111-162720/train/plugins/profile/2021_11_11_16_27_29/Christians-Air.home.xplane.pb\n",
            "Dumped tool data for overview_page.pb to logs/20211111-162720/train/plugins/profile/2021_11_11_16_27_29/Christians-Air.home.overview_page.pb\n",
            "Dumped tool data for input_pipeline.pb to logs/20211111-162720/train/plugins/profile/2021_11_11_16_27_29/Christians-Air.home.input_pipeline.pb\n",
            "Dumped tool data for tensorflow_stats.pb to logs/20211111-162720/train/plugins/profile/2021_11_11_16_27_29/Christians-Air.home.tensorflow_stats.pb\n",
            "Dumped tool data for kernel_stats.pb to logs/20211111-162720/train/plugins/profile/2021_11_11_16_27_29/Christians-Air.home.kernel_stats.pb\n",
            "\n"
          ]
        },
        {
          "name": "stdout",
          "output_type": "stream",
          "text": [
            "1875/1875 [==============================] - 54s 27ms/step - loss: 0.4961 - accuracy: 0.8235 - val_loss: 0.4053 - val_accuracy: 0.8565\n",
            "Epoch 2/5\n",
            "1875/1875 [==============================] - 40s 21ms/step - loss: 0.3831 - accuracy: 0.8601 - val_loss: 0.3886 - val_accuracy: 0.8608\n",
            "Epoch 3/5\n",
            "1875/1875 [==============================] - 30s 16ms/step - loss: 0.3507 - accuracy: 0.8703 - val_loss: 0.3744 - val_accuracy: 0.8655\n",
            "Epoch 4/5\n",
            "1875/1875 [==============================] - 28s 15ms/step - loss: 0.3288 - accuracy: 0.8783 - val_loss: 0.3591 - val_accuracy: 0.8693\n",
            "Epoch 5/5\n",
            "1875/1875 [==============================] - 27s 14ms/step - loss: 0.3152 - accuracy: 0.8833 - val_loss: 0.3354 - val_accuracy: 0.8776\n"
          ]
        }
      ],
      "source": [
        "train_model()"
      ]
    },
    {
      "cell_type": "markdown",
      "metadata": {
        "id": "IlDz2oXBgnZ9"
      },
      "source": [
        "You can use the `tensorboard.notebook` APIs for a bit more control:"
      ]
    },
    {
      "cell_type": "code",
      "execution_count": 10,
      "metadata": {
        "id": "ko9qeSQHLrEh"
      },
      "outputs": [
        {
          "name": "stdout",
          "output_type": "stream",
          "text": [
            "Known TensorBoard instances:\n",
            "  - port 6006: logdir logs (started 0:03:07 ago; pid 88396)\n"
          ]
        }
      ],
      "source": [
        "from tensorboard import notebook\n",
        "notebook.list() # View open TensorBoard instances"
      ]
    },
    {
      "cell_type": "code",
      "execution_count": 11,
      "metadata": {
        "id": "hzm9DNVILxJe"
      },
      "outputs": [
        {
          "name": "stdout",
          "output_type": "stream",
          "text": [
            "Selecting TensorBoard with logdir logs (started 0:03:07 ago; port 6006, pid 88396).\n"
          ]
        },
        {
          "data": {
            "text/html": [
              "\n",
              "      <iframe id=\"tensorboard-frame-59a9d0c14633b302\" width=\"100%\" height=\"1000\" frameborder=\"0\">\n",
              "      </iframe>\n",
              "      <script>\n",
              "        (function() {\n",
              "          const frame = document.getElementById(\"tensorboard-frame-59a9d0c14633b302\");\n",
              "          const url = new URL(\"http://localhost\");\n",
              "          const port = 6006;\n",
              "          if (port) {\n",
              "            url.port = port;\n",
              "          }\n",
              "          frame.src = url;\n",
              "        })();\n",
              "      </script>\n",
              "    "
            ],
            "text/plain": [
              "<IPython.core.display.HTML object>"
            ]
          },
          "metadata": {},
          "output_type": "display_data"
        }
      ],
      "source": [
        "# Control TensorBoard display. If no port is provided, \n",
        "# the most recently launched TensorBoard is used\n",
        "notebook.display(port=6006, height=1000) "
      ]
    },
    {
      "cell_type": "markdown",
      "metadata": {
        "id": "za2GqzKiWY-R"
      },
      "source": [
        "<!-- <img class=\"tfo-display-only-on-site\" src=\"https://github.com/tensorflow/tensorboard/blob/master/docs/images/notebook_tensorboard_tall.png?raw=1\"/> -->"
      ]
    }
  ],
  "metadata": {
    "colab": {
      "collapsed_sections": [],
      "name": "tensorboard_in_notebooks.ipynb",
      "toc_visible": true
    },
    "interpreter": {
      "hash": "ebbabc1e6dda0a634caa316fe10f04a7a4757ee81bcd91a98af993123509ad1d"
    },
    "kernelspec": {
      "display_name": "Python 3.8.5 64-bit ('fourthbrain_venv': venv)",
      "name": "python3"
    },
    "language_info": {
      "codemirror_mode": {
        "name": "ipython",
        "version": 3
      },
      "file_extension": ".py",
      "mimetype": "text/x-python",
      "name": "python",
      "nbconvert_exporter": "python",
      "pygments_lexer": "ipython3",
      "version": "3.8.5"
    }
  },
  "nbformat": 4,
  "nbformat_minor": 0
}
