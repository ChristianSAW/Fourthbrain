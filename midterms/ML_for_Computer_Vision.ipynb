{
 "cells": [
  {
   "cell_type": "markdown",
   "metadata": {
    "id": "YOp38ejm5-zc"
   },
   "source": [
    "## This assignment is designed for automated pathology detection for Medical Images in a relalistic setup, i.e. each image may have multiple pathologies/disorders. \n",
    "### The goal, for you as an MLE, is to design models and methods to predictively detect pathological images and explain the pathology sites in the image data."
   ]
  },
  {
   "cell_type": "markdown",
   "metadata": {
    "id": "MQC4-tgE5-zj"
   },
   "source": [
    "## Data for this assignment is taken from a Kaggle contest: https://www.kaggle.com/c/vietai-advance-course-retinal-disease-detection/overview\n",
    "Explanation of the data set:\n",
    "The training data set contains 3435 retinal images that represent multiple pathological disorders. The patholgy classes and corresponding labels are: included in 'train.csv' file and each image can have more than one class category (multiple pathologies).\n",
    "The labels for each image are\n",
    "\n",
    "```\n",
    "-opacity (0), \n",
    "-diabetic retinopathy (1), \n",
    "-glaucoma (2),\n",
    "-macular edema (3),\n",
    "-macular degeneration (4),\n",
    "-retinal vascular occlusion (5)\n",
    "-normal (6)\n",
    "```\n",
    "The test data set contains 350 unlabelled images."
   ]
  },
  {
   "cell_type": "markdown",
   "metadata": {
    "id": "ybY-yABV5-zk"
   },
   "source": [
    "# For this assignment, you are working with specialists for Diabetic Retinopathy and Glaucoma only, and your client is interested in a predictive learning model along with feature explanability and self-learning for Diabetic Retinopathy and Glaucoma vs. Normal images.\n",
    "# Design models and methods for the following tasks. Each task should be accompanied by code, plots/images (if applicable), tables (if applicable) and text:\n",
    "## Task 1: Build a classification model for Diabetic Retinopathy and Glaucoma vs normal images. You may consider multi-class classification vs. all-vs-one classification. Clearly state your choice and share details of your model, paremeters and hyper-paramaterization pprocess. (60 points)\n",
    "```\n",
    "a. Perform 70/30 data split and report performance scores on the test data set.\n",
    "b. You can choose to apply any data augmentation strategy. \n",
    "Explain your methods and rationale behind parameter selection.\n",
    "c. Show Training-validation curves to ensure overfitting and underfitting is avoided.\n",
    "```\n",
    "## Task 2: Visualize the heatmap/saliency/features using any method of your choice to demonstrate what regions of interest contribute to Diabetic Retinopathy and Glaucoma, respectively. (25 points)\n",
    "```\n",
    "Submit images/folder of images with heatmaps/features aligned on top of the images, or corresponding bounding boxes, and report what regions of interest in your opinion represent the pathological sites.\n",
    "```\n",
    "\n",
    "## Task 3: Using the unlabelled data set in the 'test' folder augment the training data (semi-supervised learning) and report the variation in classification performance on test data set.(15 points)\n",
    "[You may use any method of your choice, one possible way is mentioned below.] \n",
    "\n",
    "```\n",
    "Hint: \n",
    "a. Train a model using the 'train' split.\n",
    "b. Pass the unlabelled images through the trained model and retrieve the dense layer feature prior to classification layer. Using this dense layer as representative of the image, apply label propagation to retrieve labels correspndng to the unbalelled data.\n",
    "c. Next, concatenate the train data with the unlabelled data (that has now been self labelled) and retrain the network.\n",
    "d. Report classification performance on test data\n",
    "Use the unlabelled test data  to improve classification performance by using a semi-supervised label-propagation/self-labelling approach. (20 points)\n",
    "```\n",
    "\n",
    "## [Hint: If you are wondering how to use the \"dense layer representative of an image\" in step 2, see this exercise that extracts a [1,2048] dense representattive from an image using the InceptionV3 pre-trained model.]\n",
    "https://colab.research.google.com/drive/14-6qRGARgBSj4isZk86zKQtyIT2f9Wu1#scrollTo=_IqraxtP4Ex3\n",
    "\n",
    "\n",
    "## Good Luck!"
   ]
  },
  {
   "cell_type": "code",
   "execution_count": 4,
   "metadata": {},
   "outputs": [
    {
     "name": "stdout",
     "output_type": "stream",
     "text": [
      "TensorFlow Version:  2.4.1\n"
     ]
    }
   ],
   "source": [
    "# General Imports\n",
    "import os               # importing data\n",
    "import sys\n",
    "import numpy as np      # linear algebra\n",
    "import pandas as pd     # data processing, CSV file I/O (e.g. pd.read_csv)\n",
    "\n",
    "# Tensorflow\n",
    "import tensorflow as tf\n",
    "import tensorflow.keras as keras\n",
    "print(\"TensorFlow Version: \", tf.__version__) # In case there are issues with model fitting, I know what version of tensorflow I have\n",
    "\n",
    "# Image Stuff\n",
    "import IPython.display as display\n",
    "import PIL.Image"
   ]
  },
  {
   "cell_type": "markdown",
   "metadata": {},
   "source": [
    "## Task 0: Data Wrangling"
   ]
  },
  {
   "cell_type": "code",
   "execution_count": 2,
   "metadata": {},
   "outputs": [],
   "source": [
    "# Various directory paths for convenience\n",
    "from os.path import dirname, abspath, join, exists\n",
    "\n",
    "PROJECT_DIR = dirname((abspath('')))                            # project directory\n",
    "HIDDEN_FILES_DIR = abspath(join(PROJECT_DIR, 'hidden_files'))   # hidden_files directory (where data is stored)\n",
    "DATA_DIR = abspath(join(HIDDEN_FILES_DIR, 'midterm_data'))      # directory of Data (renamed to midterm_data)\n",
    "TRAIN_DIR = abspath(join(DATA_DIR, 'train'))                    # directory with train data ['train/', 'train.csv']\n",
    "TRAIN_IMAGE_DIR = abspath(join(TRAIN_DIR, 'train'))             # directory with train images (labeled)\n",
    "TEST_IMAGE_DIR = abspath(join(DATA_DIR, 'test', 'test'))        # directory with test images (unlabeled)"
   ]
  },
  {
   "cell_type": "code",
   "execution_count": 6,
   "metadata": {},
   "outputs": [
    {
     "name": "stdout",
     "output_type": "stream",
     "text": [
      "['train.csv', 'train']\n"
     ]
    }
   ],
   "source": [
    "# Unzip midterm data (note, if you are running this, add Data.zip ~ renamed to midterm_data.zip to ../hidden_files/)\n",
    "if not exists(TRAIN_DIR):\n",
    "    data_zip_file_path = join(HIDDEN_FILES_DIR,'midterm_data.zip')\n",
    "    #!unzip data_zip_file_path                    # already unzipped, so if this does not work, use below line\n",
    "    !unzip ../hidden_files/midterm_data.zip     # will have to change this potentially for windowsß\n",
    "\n",
    "print(os.listdir(TRAIN_DIR))\n",
    "# should return ['train', 'train.csv'].\n",
    "# *NOTE: .DS_Store might also appear in this directory if on mac. This file is ignored in the .gitignore."
   ]
  },
  {
   "cell_type": "code",
   "execution_count": 7,
   "metadata": {},
   "outputs": [
    {
     "data": {
      "text/html": [
       "<div>\n",
       "<style scoped>\n",
       "    .dataframe tbody tr th:only-of-type {\n",
       "        vertical-align: middle;\n",
       "    }\n",
       "\n",
       "    .dataframe tbody tr th {\n",
       "        vertical-align: top;\n",
       "    }\n",
       "\n",
       "    .dataframe thead th {\n",
       "        text-align: right;\n",
       "    }\n",
       "</style>\n",
       "<table border=\"1\" class=\"dataframe\">\n",
       "  <thead>\n",
       "    <tr style=\"text-align: right;\">\n",
       "      <th></th>\n",
       "      <th>filename</th>\n",
       "      <th>opacity</th>\n",
       "      <th>diabetic retinopathy</th>\n",
       "      <th>glaucoma</th>\n",
       "      <th>macular edema</th>\n",
       "      <th>macular degeneration</th>\n",
       "      <th>retinal vascular occlusion</th>\n",
       "      <th>normal</th>\n",
       "    </tr>\n",
       "  </thead>\n",
       "  <tbody>\n",
       "    <tr>\n",
       "      <th>0</th>\n",
       "      <td>c24a1b14d253.jpg</td>\n",
       "      <td>0</td>\n",
       "      <td>0</td>\n",
       "      <td>0</td>\n",
       "      <td>0</td>\n",
       "      <td>0</td>\n",
       "      <td>1</td>\n",
       "      <td>0</td>\n",
       "    </tr>\n",
       "    <tr>\n",
       "      <th>1</th>\n",
       "      <td>9ee905a41651.jpg</td>\n",
       "      <td>0</td>\n",
       "      <td>0</td>\n",
       "      <td>0</td>\n",
       "      <td>0</td>\n",
       "      <td>0</td>\n",
       "      <td>1</td>\n",
       "      <td>0</td>\n",
       "    </tr>\n",
       "    <tr>\n",
       "      <th>2</th>\n",
       "      <td>3f58d128caf6.jpg</td>\n",
       "      <td>0</td>\n",
       "      <td>0</td>\n",
       "      <td>1</td>\n",
       "      <td>0</td>\n",
       "      <td>0</td>\n",
       "      <td>0</td>\n",
       "      <td>0</td>\n",
       "    </tr>\n",
       "    <tr>\n",
       "      <th>3</th>\n",
       "      <td>4ce6599e7b20.jpg</td>\n",
       "      <td>1</td>\n",
       "      <td>0</td>\n",
       "      <td>0</td>\n",
       "      <td>0</td>\n",
       "      <td>1</td>\n",
       "      <td>0</td>\n",
       "      <td>0</td>\n",
       "    </tr>\n",
       "    <tr>\n",
       "      <th>4</th>\n",
       "      <td>0def470360e4.jpg</td>\n",
       "      <td>1</td>\n",
       "      <td>0</td>\n",
       "      <td>0</td>\n",
       "      <td>0</td>\n",
       "      <td>1</td>\n",
       "      <td>0</td>\n",
       "      <td>0</td>\n",
       "    </tr>\n",
       "  </tbody>\n",
       "</table>\n",
       "</div>"
      ],
      "text/plain": [
       "           filename  opacity  diabetic retinopathy  glaucoma  macular edema  \\\n",
       "0  c24a1b14d253.jpg        0                     0         0              0   \n",
       "1  9ee905a41651.jpg        0                     0         0              0   \n",
       "2  3f58d128caf6.jpg        0                     0         1              0   \n",
       "3  4ce6599e7b20.jpg        1                     0         0              0   \n",
       "4  0def470360e4.jpg        1                     0         0              0   \n",
       "\n",
       "   macular degeneration  retinal vascular occlusion  normal  \n",
       "0                     0                           1       0  \n",
       "1                     0                           1       0  \n",
       "2                     0                           0       0  \n",
       "3                     1                           0       0  \n",
       "4                     1                           0       0  "
      ]
     },
     "execution_count": 7,
     "metadata": {},
     "output_type": "execute_result"
    }
   ],
   "source": [
    "# Load training data\n",
    "data = pd.read_csv(join(TRAIN_DIR, \"train.csv\"))\n",
    "\n",
    "# Examine first few rows to better understand data\n",
    "data.head()"
   ]
  },
  {
   "cell_type": "code",
   "execution_count": 8,
   "metadata": {},
   "outputs": [
    {
     "name": "stdout",
     "output_type": "stream",
     "text": [
      "<class 'pandas.core.frame.DataFrame'>\n",
      "RangeIndex: 3435 entries, 0 to 3434\n",
      "Data columns (total 8 columns):\n",
      " #   Column                      Non-Null Count  Dtype \n",
      "---  ------                      --------------  ----- \n",
      " 0   filename                    3435 non-null   object\n",
      " 1   opacity                     3435 non-null   int64 \n",
      " 2   diabetic retinopathy        3435 non-null   int64 \n",
      " 3   glaucoma                    3435 non-null   int64 \n",
      " 4   macular edema               3435 non-null   int64 \n",
      " 5   macular degeneration        3435 non-null   int64 \n",
      " 6   retinal vascular occlusion  3435 non-null   int64 \n",
      " 7   normal                      3435 non-null   int64 \n",
      "dtypes: int64(7), object(1)\n",
      "memory usage: 214.8+ KB\n"
     ]
    }
   ],
   "source": [
    "# Take a look a the data types, count\n",
    "data.info(memory_usage=True) # memory usage will tell us how much memory the data takes. Not important for this project, but a cool stat nontheless."
   ]
  },
  {
   "cell_type": "markdown",
   "metadata": {},
   "source": [
    "From an initial inspection, there are additional labels per image that we are not concerned about, namely: opacity, macular edema, macular degeneration, retinal vascular occlusion, and normal. Those labels will be dropped from examples with either diabetic retinopathy and/or glaucoma labels present. Examples without diabetic retinopaty or glaucoma will belong to a third category, other (which will include images with the normal category). This is important so we can have examples which are true negatives i.e. not diabetic retinopathy and/or glaucoma."
   ]
  },
  {
   "cell_type": "markdown",
   "metadata": {},
   "source": [
    "### Visualizing Examples"
   ]
  },
  {
   "cell_type": "markdown",
   "metadata": {},
   "source": [
    "Lets start with visualizing a single image"
   ]
  },
  {
   "cell_type": "code",
   "execution_count": 9,
   "metadata": {},
   "outputs": [
    {
     "data": {
      "image/png": "[encoded data removed]",
      "text/plain": [
       "<PIL.JpegImagePlugin.JpegImageFile image mode=RGB size=512x512 at 0x7F287523C7C0>"
      ]
     },
     "metadata": {},
     "output_type": "display_data"
    },
    {
     "name": "stdout",
     "output_type": "stream",
     "text": [
      "**** \t\tImage Labels\t\t ****\n",
      "filename                      adbd62e437f8.jpg\n",
      "opacity                                      0\n",
      "diabetic retinopathy                         0\n",
      "glaucoma                                     0\n",
      "macular edema                                0\n",
      "macular degeneration                         1\n",
      "retinal vascular occlusion                   0\n",
      "normal                                       0\n",
      "Name: 2047, dtype: object\n"
     ]
    }
   ],
   "source": [
    "# chose a random retina\n",
    "num = np.random.randint(1, data.shape[0])\n",
    "\n",
    "# display it\n",
    "display.display(PIL.Image.open(join(TRAIN_IMAGE_DIR, data['filename'][num])))\n",
    "\n",
    "# show image labels\n",
    "print(\"**** \\t\\tImage Labels\\t\\t ****\")\n",
    "print(data.iloc[num])"
   ]
  },
  {
   "cell_type": "markdown",
   "metadata": {},
   "source": [
    "\n",
    "## \"It kind of looks like mars\" - Christian \"I'm a bit of a scientist myself\" Welling"
   ]
  },
  {
   "cell_type": "markdown",
   "metadata": {},
   "source": [
    "At this point (since I'm not quite the doctor or eye expert), it is difficult to pick out exactly what features in the image matter yet."
   ]
  },
  {
   "cell_type": "markdown",
   "metadata": {},
   "source": [
    "### Label Distribution\n",
    "Lets look at the distribution of labels. does each example have just one label? Are there examples that share glaucoma and diabetic retinopathy labels?"
   ]
  },
  {
   "cell_type": "code",
   "execution_count": 10,
   "metadata": {},
   "outputs": [
    {
     "name": "stdout",
     "output_type": "stream",
     "text": [
      "Distribution of diabetic retinopathy\n",
      "0    2680\n",
      "1     755\n",
      "Name: diabetic retinopathy, dtype: int64\n",
      "Distribution of glaucoma\n",
      "0    2838\n",
      "1     597\n",
      "Name: glaucoma, dtype: int64\n",
      "Distribution of macular edema\n",
      "0    2919\n",
      "1     516\n",
      "Name: macular edema, dtype: int64\n",
      "Distribution of macular degeneration\n",
      "0    2861\n",
      "1     574\n",
      "Name: macular degeneration, dtype: int64\n",
      "Distribution of retinal vascular occlusion\n",
      "0    2995\n",
      "1     440\n",
      "Name: retinal vascular occlusion, dtype: int64\n",
      "Distribution of normal\n",
      "0    2910\n",
      "1     525\n",
      "Name: normal, dtype: int64\n"
     ]
    }
   ],
   "source": [
    "# distribution of lables with respect to oneanother before we remove and group non glaucoma and diabetic retinopathy labels\n",
    "for label in data.columns[2:]:\n",
    "    print(\"Distribution of\", label)\n",
    "    print(data[label].value_counts())"
   ]
  },
  {
   "cell_type": "markdown",
   "metadata": {},
   "source": [
    "While im not math expert, with a total of only 3435 entries, the only way the math above works out is if more than one label can be 1 for the numerous examples."
   ]
  },
  {
   "cell_type": "markdown",
   "metadata": {},
   "source": [
    "### Updating Data Frame For Our Usecase\n",
    "```\n",
    "1. Remove irrelevant labels\n",
    "2. Group examples without retinopathy and glaucoma into a third class, other (all other label columns, including other, will be replaced with 'other') \n",
    "```"
   ]
  },
  {
   "cell_type": "code",
   "execution_count": 11,
   "metadata": {},
   "outputs": [
    {
     "data": {
      "text/html": [
       "<div>\n",
       "<style scoped>\n",
       "    .dataframe tbody tr th:only-of-type {\n",
       "        vertical-align: middle;\n",
       "    }\n",
       "\n",
       "    .dataframe tbody tr th {\n",
       "        vertical-align: top;\n",
       "    }\n",
       "\n",
       "    .dataframe thead th {\n",
       "        text-align: right;\n",
       "    }\n",
       "</style>\n",
       "<table border=\"1\" class=\"dataframe\">\n",
       "  <thead>\n",
       "    <tr style=\"text-align: right;\">\n",
       "      <th></th>\n",
       "      <th>filename</th>\n",
       "      <th>diabetic retinopathy</th>\n",
       "      <th>glaucoma</th>\n",
       "    </tr>\n",
       "  </thead>\n",
       "  <tbody>\n",
       "    <tr>\n",
       "      <th>0</th>\n",
       "      <td>c24a1b14d253.jpg</td>\n",
       "      <td>0</td>\n",
       "      <td>0</td>\n",
       "    </tr>\n",
       "    <tr>\n",
       "      <th>1</th>\n",
       "      <td>9ee905a41651.jpg</td>\n",
       "      <td>0</td>\n",
       "      <td>0</td>\n",
       "    </tr>\n",
       "    <tr>\n",
       "      <th>2</th>\n",
       "      <td>3f58d128caf6.jpg</td>\n",
       "      <td>0</td>\n",
       "      <td>1</td>\n",
       "    </tr>\n",
       "    <tr>\n",
       "      <th>3</th>\n",
       "      <td>4ce6599e7b20.jpg</td>\n",
       "      <td>0</td>\n",
       "      <td>0</td>\n",
       "    </tr>\n",
       "    <tr>\n",
       "      <th>4</th>\n",
       "      <td>0def470360e4.jpg</td>\n",
       "      <td>0</td>\n",
       "      <td>0</td>\n",
       "    </tr>\n",
       "  </tbody>\n",
       "</table>\n",
       "</div>"
      ],
      "text/plain": [
       "           filename  diabetic retinopathy  glaucoma\n",
       "0  c24a1b14d253.jpg                     0         0\n",
       "1  9ee905a41651.jpg                     0         0\n",
       "2  3f58d128caf6.jpg                     0         1\n",
       "3  4ce6599e7b20.jpg                     0         0\n",
       "4  0def470360e4.jpg                     0         0"
      ]
     },
     "execution_count": 11,
     "metadata": {},
     "output_type": "execute_result"
    }
   ],
   "source": [
    "# drop the columns (labels) that are outside the scope of this problem\n",
    "data = data[['filename','diabetic retinopathy', 'glaucoma']]\n",
    "\n",
    "# quick verification this worked\n",
    "data.head()"
   ]
  },
  {
   "cell_type": "code",
   "execution_count": 12,
   "metadata": {},
   "outputs": [
    {
     "data": {
      "text/html": [
       "<div>\n",
       "<style scoped>\n",
       "    .dataframe tbody tr th:only-of-type {\n",
       "        vertical-align: middle;\n",
       "    }\n",
       "\n",
       "    .dataframe tbody tr th {\n",
       "        vertical-align: top;\n",
       "    }\n",
       "\n",
       "    .dataframe thead th {\n",
       "        text-align: right;\n",
       "    }\n",
       "</style>\n",
       "<table border=\"1\" class=\"dataframe\">\n",
       "  <thead>\n",
       "    <tr style=\"text-align: right;\">\n",
       "      <th></th>\n",
       "      <th>filename</th>\n",
       "      <th>diabetic retinopathy</th>\n",
       "      <th>glaucoma</th>\n",
       "      <th>other</th>\n",
       "    </tr>\n",
       "  </thead>\n",
       "  <tbody>\n",
       "    <tr>\n",
       "      <th>0</th>\n",
       "      <td>c24a1b14d253.jpg</td>\n",
       "      <td>0</td>\n",
       "      <td>0</td>\n",
       "      <td>1</td>\n",
       "    </tr>\n",
       "    <tr>\n",
       "      <th>1</th>\n",
       "      <td>9ee905a41651.jpg</td>\n",
       "      <td>0</td>\n",
       "      <td>0</td>\n",
       "      <td>1</td>\n",
       "    </tr>\n",
       "    <tr>\n",
       "      <th>2</th>\n",
       "      <td>3f58d128caf6.jpg</td>\n",
       "      <td>0</td>\n",
       "      <td>1</td>\n",
       "      <td>0</td>\n",
       "    </tr>\n",
       "    <tr>\n",
       "      <th>3</th>\n",
       "      <td>4ce6599e7b20.jpg</td>\n",
       "      <td>0</td>\n",
       "      <td>0</td>\n",
       "      <td>1</td>\n",
       "    </tr>\n",
       "    <tr>\n",
       "      <th>4</th>\n",
       "      <td>0def470360e4.jpg</td>\n",
       "      <td>0</td>\n",
       "      <td>0</td>\n",
       "      <td>1</td>\n",
       "    </tr>\n",
       "    <tr>\n",
       "      <th>5</th>\n",
       "      <td>e80c3ba691f9.jpg</td>\n",
       "      <td>0</td>\n",
       "      <td>0</td>\n",
       "      <td>1</td>\n",
       "    </tr>\n",
       "    <tr>\n",
       "      <th>6</th>\n",
       "      <td>37b8fa3b6dce.jpg</td>\n",
       "      <td>0</td>\n",
       "      <td>0</td>\n",
       "      <td>1</td>\n",
       "    </tr>\n",
       "    <tr>\n",
       "      <th>7</th>\n",
       "      <td>b5740f9b3508.jpg</td>\n",
       "      <td>0</td>\n",
       "      <td>0</td>\n",
       "      <td>1</td>\n",
       "    </tr>\n",
       "    <tr>\n",
       "      <th>8</th>\n",
       "      <td>d7596283f399.jpg</td>\n",
       "      <td>0</td>\n",
       "      <td>0</td>\n",
       "      <td>1</td>\n",
       "    </tr>\n",
       "    <tr>\n",
       "      <th>9</th>\n",
       "      <td>1083d0bd0ff8.jpg</td>\n",
       "      <td>0</td>\n",
       "      <td>0</td>\n",
       "      <td>1</td>\n",
       "    </tr>\n",
       "  </tbody>\n",
       "</table>\n",
       "</div>"
      ],
      "text/plain": [
       "           filename  diabetic retinopathy  glaucoma  other\n",
       "0  c24a1b14d253.jpg                     0         0      1\n",
       "1  9ee905a41651.jpg                     0         0      1\n",
       "2  3f58d128caf6.jpg                     0         1      0\n",
       "3  4ce6599e7b20.jpg                     0         0      1\n",
       "4  0def470360e4.jpg                     0         0      1\n",
       "5  e80c3ba691f9.jpg                     0         0      1\n",
       "6  37b8fa3b6dce.jpg                     0         0      1\n",
       "7  b5740f9b3508.jpg                     0         0      1\n",
       "8  d7596283f399.jpg                     0         0      1\n",
       "9  1083d0bd0ff8.jpg                     0         0      1"
      ]
     },
     "execution_count": 12,
     "metadata": {},
     "output_type": "execute_result"
    }
   ],
   "source": [
    "# add third label 'other' to account for examples which are not diabetic retinopathy or glaucoma\n",
    "data['other'] = 0\n",
    "data['other'] = ((data['glaucoma'] == 0) & (data['diabetic retinopathy'] == 0)).astype(int)\n",
    "data.head(10)       # lets see a few more examples"
   ]
  },
  {
   "cell_type": "code",
   "execution_count": 13,
   "metadata": {},
   "outputs": [
    {
     "name": "stdout",
     "output_type": "stream",
     "text": [
      "<class 'pandas.core.frame.DataFrame'>\n",
      "RangeIndex: 3435 entries, 0 to 3434\n",
      "Data columns (total 4 columns):\n",
      " #   Column                Non-Null Count  Dtype \n",
      "---  ------                --------------  ----- \n",
      " 0   filename              3435 non-null   object\n",
      " 1   diabetic retinopathy  3435 non-null   int64 \n",
      " 2   glaucoma              3435 non-null   int64 \n",
      " 3   other                 3435 non-null   int64 \n",
      "dtypes: int64(3), object(1)\n",
      "memory usage: 107.5+ KB\n",
      "Distribution of diabetic retinopathy\n",
      "0    2680\n",
      "1     755\n",
      "Name: diabetic retinopathy, dtype: int64\n",
      "Distribution of glaucoma\n",
      "0    2838\n",
      "1     597\n",
      "Name: glaucoma, dtype: int64\n",
      "Distribution of other\n",
      "1    2102\n",
      "0    1333\n",
      "Name: other, dtype: int64\n"
     ]
    }
   ],
   "source": [
    "# new distribution of labels\n",
    "data.info()\n",
    "for label in data.columns[1:]:\n",
    "    print(\"Distribution of\", label)\n",
    "    print(data[label].value_counts())"
   ]
  },
  {
   "cell_type": "code",
   "execution_count": 15,
   "metadata": {},
   "outputs": [
    {
     "name": "stdout",
     "output_type": "stream",
     "text": [
      "other                            2102\n",
      "diabetic retinopathy              736\n",
      "glaucoma                          578\n",
      "diabetic retinopathy,glaucoma      19\n",
      "dtype: int64\n",
      "Total Number of Examples: 3435\n"
     ]
    }
   ],
   "source": [
    "# verify math works out (number of classes present adds up to total number of examples)\n",
    "LABELS = data.columns[1:]                                                                   # will reference throughout notebook\n",
    "def build_label(row):\n",
    "    return \",\".join([LABELS[idx] for idx, val in enumerate(row[1:]) if val == 1])\n",
    "        \n",
    "print(data.apply(lambda x: build_label(x), axis=1).value_counts())\n",
    "print(f'Total Number of Examples: {data.shape[0]}')"
   ]
  },
  {
   "cell_type": "markdown",
   "metadata": {
    "id": "kA22LsLx5-zl"
   },
   "source": [
    "## Task 1: Classification of Diabetic Retanopathy and Glaucoma vs Normal (Other <- Our label name) Images:\n",
    "\n",
    "```\n",
    "a. Perform 70/30 data split and report performance scores on the test data set.\n",
    "b. You can choose to apply any data augmentation strategy. \n",
    "Explain your methods and rationale behind parameter selection.\n",
    "c. Show Training-validation curves to ensure overfitting and underfitting is avoided.\n",
    "```"
   ]
  },
  {
   "cell_type": "markdown",
   "metadata": {},
   "source": [
    "### Options: Multi-class vs. all-vs-one model\n",
    "\n",
    "**Multi-Class:**\n",
    "1. can use one-hot-encoding approach to generate probabilities for multiple classes\n",
    "2. easier to add additional classifications schemes\n",
    "\n",
    "**All-vs-one:**\n",
    "1. will probably need more than one model for each class trying to identify.\n",
    "2. Can probabably share some of the eariler NN (transfer learning) for each model."
   ]
  },
  {
   "cell_type": "markdown",
   "metadata": {},
   "source": [
    "### Expert analysis and decision making:\n",
    "\n",
    "```\n",
    "me at 3:00 am:  If i am understanding this correctly, option 2 requires more than one model...I think we know what choice I am going with...\n",
    "\n",
    "also me:        ...Multi-Class...its Multi-Class...\n",
    "\n",
    "again, me:      Ain't nobody got time for more than one model.\n",
    "\n",
    "me?:            Wait...Surely, Multi-Class is more accurate...right?\n",
    "```"
   ]
  },
  {
   "cell_type": "markdown",
   "metadata": {},
   "source": [
    "### Split Data Into Training & Validation Sets\n",
    "```\n",
    "* Use a 70/30 data split\n",
    "```"
   ]
  },
  {
   "cell_type": "code",
   "execution_count": 16,
   "metadata": {},
   "outputs": [],
   "source": [
    "from sklearn.model_selection import train_test_split"
   ]
  },
  {
   "cell_type": "code",
   "execution_count": 17,
   "metadata": {},
   "outputs": [],
   "source": [
    "# split data into test/validation sets and make it a tensor\n",
    "train_data, validation_data = train_test_split(data, test_size=0.3, random_state=42) # 42 is the meaning of life"
   ]
  },
  {
   "cell_type": "code",
   "execution_count": 18,
   "metadata": {},
   "outputs": [
    {
     "name": "stdout",
     "output_type": "stream",
     "text": [
      "Training Data Shape: (2404, 4)\n"
     ]
    },
    {
     "data": {
      "text/html": [
       "<div>\n",
       "<style scoped>\n",
       "    .dataframe tbody tr th:only-of-type {\n",
       "        vertical-align: middle;\n",
       "    }\n",
       "\n",
       "    .dataframe tbody tr th {\n",
       "        vertical-align: top;\n",
       "    }\n",
       "\n",
       "    .dataframe thead th {\n",
       "        text-align: right;\n",
       "    }\n",
       "</style>\n",
       "<table border=\"1\" class=\"dataframe\">\n",
       "  <thead>\n",
       "    <tr style=\"text-align: right;\">\n",
       "      <th></th>\n",
       "      <th>filename</th>\n",
       "      <th>diabetic retinopathy</th>\n",
       "      <th>glaucoma</th>\n",
       "      <th>other</th>\n",
       "    </tr>\n",
       "  </thead>\n",
       "  <tbody>\n",
       "    <tr>\n",
       "      <th>1431</th>\n",
       "      <td>8ce79b47bb8e.jpg</td>\n",
       "      <td>1</td>\n",
       "      <td>0</td>\n",
       "      <td>0</td>\n",
       "    </tr>\n",
       "    <tr>\n",
       "      <th>3353</th>\n",
       "      <td>97d752293c76.jpg</td>\n",
       "      <td>0</td>\n",
       "      <td>0</td>\n",
       "      <td>1</td>\n",
       "    </tr>\n",
       "    <tr>\n",
       "      <th>1864</th>\n",
       "      <td>f55fe90b5359.jpg</td>\n",
       "      <td>0</td>\n",
       "      <td>0</td>\n",
       "      <td>1</td>\n",
       "    </tr>\n",
       "    <tr>\n",
       "      <th>2573</th>\n",
       "      <td>2da0cd28c0a1.jpg</td>\n",
       "      <td>1</td>\n",
       "      <td>0</td>\n",
       "      <td>0</td>\n",
       "    </tr>\n",
       "    <tr>\n",
       "      <th>2894</th>\n",
       "      <td>8cd457a348bc.jpg</td>\n",
       "      <td>0</td>\n",
       "      <td>1</td>\n",
       "      <td>0</td>\n",
       "    </tr>\n",
       "    <tr>\n",
       "      <th>994</th>\n",
       "      <td>fe85c499a133.jpg</td>\n",
       "      <td>0</td>\n",
       "      <td>1</td>\n",
       "      <td>0</td>\n",
       "    </tr>\n",
       "    <tr>\n",
       "      <th>464</th>\n",
       "      <td>c7a4cc0ea725.jpg</td>\n",
       "      <td>0</td>\n",
       "      <td>1</td>\n",
       "      <td>0</td>\n",
       "    </tr>\n",
       "    <tr>\n",
       "      <th>2431</th>\n",
       "      <td>73a0537586f9.jpg</td>\n",
       "      <td>1</td>\n",
       "      <td>1</td>\n",
       "      <td>0</td>\n",
       "    </tr>\n",
       "    <tr>\n",
       "      <th>2750</th>\n",
       "      <td>b09d3011b063.jpg</td>\n",
       "      <td>1</td>\n",
       "      <td>0</td>\n",
       "      <td>0</td>\n",
       "    </tr>\n",
       "    <tr>\n",
       "      <th>3338</th>\n",
       "      <td>d4ef9a6f3fa2.jpg</td>\n",
       "      <td>0</td>\n",
       "      <td>0</td>\n",
       "      <td>1</td>\n",
       "    </tr>\n",
       "  </tbody>\n",
       "</table>\n",
       "</div>"
      ],
      "text/plain": [
       "              filename  diabetic retinopathy  glaucoma  other\n",
       "1431  8ce79b47bb8e.jpg                     1         0      0\n",
       "3353  97d752293c76.jpg                     0         0      1\n",
       "1864  f55fe90b5359.jpg                     0         0      1\n",
       "2573  2da0cd28c0a1.jpg                     1         0      0\n",
       "2894  8cd457a348bc.jpg                     0         1      0\n",
       "994   fe85c499a133.jpg                     0         1      0\n",
       "464   c7a4cc0ea725.jpg                     0         1      0\n",
       "2431  73a0537586f9.jpg                     1         1      0\n",
       "2750  b09d3011b063.jpg                     1         0      0\n",
       "3338  d4ef9a6f3fa2.jpg                     0         0      1"
      ]
     },
     "execution_count": 18,
     "metadata": {},
     "output_type": "execute_result"
    }
   ],
   "source": [
    "# taking a peek at train_data\n",
    "print(f\"Training Data Shape: {train_data.shape}\")\n",
    "train_data.head(10) # still a tensor"
   ]
  },
  {
   "cell_type": "code",
   "execution_count": 19,
   "metadata": {},
   "outputs": [
    {
     "name": "stdout",
     "output_type": "stream",
     "text": [
      "Validation Data Shape: (1031, 4)\n"
     ]
    },
    {
     "data": {
      "text/html": [
       "<div>\n",
       "<style scoped>\n",
       "    .dataframe tbody tr th:only-of-type {\n",
       "        vertical-align: middle;\n",
       "    }\n",
       "\n",
       "    .dataframe tbody tr th {\n",
       "        vertical-align: top;\n",
       "    }\n",
       "\n",
       "    .dataframe thead th {\n",
       "        text-align: right;\n",
       "    }\n",
       "</style>\n",
       "<table border=\"1\" class=\"dataframe\">\n",
       "  <thead>\n",
       "    <tr style=\"text-align: right;\">\n",
       "      <th></th>\n",
       "      <th>filename</th>\n",
       "      <th>diabetic retinopathy</th>\n",
       "      <th>glaucoma</th>\n",
       "      <th>other</th>\n",
       "    </tr>\n",
       "  </thead>\n",
       "  <tbody>\n",
       "    <tr>\n",
       "      <th>1713</th>\n",
       "      <td>338d390b0d66.jpg</td>\n",
       "      <td>0</td>\n",
       "      <td>1</td>\n",
       "      <td>0</td>\n",
       "    </tr>\n",
       "    <tr>\n",
       "      <th>1637</th>\n",
       "      <td>fecbf8136bd5.jpg</td>\n",
       "      <td>0</td>\n",
       "      <td>0</td>\n",
       "      <td>1</td>\n",
       "    </tr>\n",
       "    <tr>\n",
       "      <th>929</th>\n",
       "      <td>87d08361bcbc.jpg</td>\n",
       "      <td>0</td>\n",
       "      <td>0</td>\n",
       "      <td>1</td>\n",
       "    </tr>\n",
       "    <tr>\n",
       "      <th>2966</th>\n",
       "      <td>da0d0c7e9336.jpg</td>\n",
       "      <td>0</td>\n",
       "      <td>0</td>\n",
       "      <td>1</td>\n",
       "    </tr>\n",
       "    <tr>\n",
       "      <th>203</th>\n",
       "      <td>4271f6a1bc34.jpg</td>\n",
       "      <td>0</td>\n",
       "      <td>0</td>\n",
       "      <td>1</td>\n",
       "    </tr>\n",
       "    <tr>\n",
       "      <th>1494</th>\n",
       "      <td>ac713827c7cb.jpg</td>\n",
       "      <td>0</td>\n",
       "      <td>0</td>\n",
       "      <td>1</td>\n",
       "    </tr>\n",
       "    <tr>\n",
       "      <th>2380</th>\n",
       "      <td>19a39631f0b2.jpg</td>\n",
       "      <td>0</td>\n",
       "      <td>1</td>\n",
       "      <td>0</td>\n",
       "    </tr>\n",
       "    <tr>\n",
       "      <th>1465</th>\n",
       "      <td>92cd7989f9ff.jpg</td>\n",
       "      <td>0</td>\n",
       "      <td>0</td>\n",
       "      <td>1</td>\n",
       "    </tr>\n",
       "    <tr>\n",
       "      <th>557</th>\n",
       "      <td>76cdc6a3e9a9.jpg</td>\n",
       "      <td>0</td>\n",
       "      <td>0</td>\n",
       "      <td>1</td>\n",
       "    </tr>\n",
       "    <tr>\n",
       "      <th>567</th>\n",
       "      <td>6ef741ba4c43.jpg</td>\n",
       "      <td>1</td>\n",
       "      <td>0</td>\n",
       "      <td>0</td>\n",
       "    </tr>\n",
       "  </tbody>\n",
       "</table>\n",
       "</div>"
      ],
      "text/plain": [
       "              filename  diabetic retinopathy  glaucoma  other\n",
       "1713  338d390b0d66.jpg                     0         1      0\n",
       "1637  fecbf8136bd5.jpg                     0         0      1\n",
       "929   87d08361bcbc.jpg                     0         0      1\n",
       "2966  da0d0c7e9336.jpg                     0         0      1\n",
       "203   4271f6a1bc34.jpg                     0         0      1\n",
       "1494  ac713827c7cb.jpg                     0         0      1\n",
       "2380  19a39631f0b2.jpg                     0         1      0\n",
       "1465  92cd7989f9ff.jpg                     0         0      1\n",
       "557   76cdc6a3e9a9.jpg                     0         0      1\n",
       "567   6ef741ba4c43.jpg                     1         0      0"
      ]
     },
     "execution_count": 19,
     "metadata": {},
     "output_type": "execute_result"
    }
   ],
   "source": [
    "# taking a peek at validation_data (shhh, don't tell anyone)\n",
    "print(f\"Validation Data Shape: {validation_data.shape}\")\n",
    "validation_data.head(10) # still a tensor"
   ]
  },
  {
   "cell_type": "markdown",
   "metadata": {},
   "source": [
    "### Data Augmentation\n",
    "```\n",
    "See below for expert -- critically acclaimed -- strategy\n",
    "```"
   ]
  },
  {
   "cell_type": "markdown",
   "metadata": {},
   "source": [
    "## \"Totally not just going to rip the data generator and augmentation from some previous UNet assignment because it worked there...\" - Christian \"I would never\" Welling"
   ]
  },
  {
   "cell_type": "code",
   "execution_count": 20,
   "metadata": {},
   "outputs": [],
   "source": [
    "# lift code from MLE for training generator & data augmentation. use unet-helper functions and lift directly. \n",
    "# unet-helper functions -> prints out metrics later when I need it "
   ]
  },
  {
   "cell_type": "code",
   "execution_count": 21,
   "metadata": {},
   "outputs": [],
   "source": [
    "from tensorflow.keras.preprocessing.image import ImageDataGenerator"
   ]
  },
  {
   "cell_type": "code",
   "execution_count": 22,
   "metadata": {},
   "outputs": [],
   "source": [
    "# data generation and augmentation...wow where have we seen this before???\n",
    "data_gen_args = dict( \n",
    "    rescale=1./255,\n",
    "    featurewise_center=True,\n",
    "    featurewise_std_normalization=True,\n",
    "    rotation_range=10.,\n",
    "    width_shift_range=0.05,\n",
    "    height_shift_range=0.05,\n",
    "    zoom_range=0.2,\n",
    "    channel_shift_range=0.05,\n",
    "    horizontal_flip=True,\n",
    "    vertical_flip=True,\n",
    "    fill_mode='constant',\n",
    "    data_format=\"channels_last\",\n",
    ")\n",
    "train_datagen = ImageDataGenerator(**data_gen_args)"
   ]
  },
  {
   "cell_type": "code",
   "execution_count": 23,
   "metadata": {},
   "outputs": [
    {
     "name": "stderr",
     "output_type": "stream",
     "text": [
      "<ipython-input-23-70d7196393c6>:5: SettingWithCopyWarning: \n",
      "A value is trying to be set on a copy of a slice from a DataFrame.\n",
      "Try using .loc[row_indexer,col_indexer] = value instead\n",
      "\n",
      "See the caveats in the documentation: https://pandas.pydata.org/pandas-docs/stable/user_guide/indexing.html#returning-a-view-versus-a-copy\n",
      "  train_data[\"label\"] = train_data.apply(lambda x: build_label_list(x), axis=1)\n",
      "<ipython-input-23-70d7196393c6>:6: SettingWithCopyWarning: \n",
      "A value is trying to be set on a copy of a slice from a DataFrame.\n",
      "Try using .loc[row_indexer,col_indexer] = value instead\n",
      "\n",
      "See the caveats in the documentation: https://pandas.pydata.org/pandas-docs/stable/user_guide/indexing.html#returning-a-view-versus-a-copy\n",
      "  validation_data[\"label\"] = validation_data.apply(lambda x: build_label_list(x), axis=1)\n"
     ]
    }
   ],
   "source": [
    "# One-hot-encode labels \n",
    "def build_label_list(row):\n",
    "    return [LABELS[idx] for idx, val in enumerate(row[1:]) if val == 1]                 # labels was defined earlier\n",
    "        \n",
    "train_data[\"label\"] = train_data.apply(lambda x: build_label_list(x), axis=1)\n",
    "validation_data[\"label\"] = validation_data.apply(lambda x: build_label_list(x), axis=1)"
   ]
  },
  {
   "cell_type": "code",
   "execution_count": 25,
   "metadata": {},
   "outputs": [
    {
     "name": "stdout",
     "output_type": "stream",
     "text": [
      "Training Data:\n"
     ]
    },
    {
     "data": {
      "text/html": [
       "<div>\n",
       "<style scoped>\n",
       "    .dataframe tbody tr th:only-of-type {\n",
       "        vertical-align: middle;\n",
       "    }\n",
       "\n",
       "    .dataframe tbody tr th {\n",
       "        vertical-align: top;\n",
       "    }\n",
       "\n",
       "    .dataframe thead th {\n",
       "        text-align: right;\n",
       "    }\n",
       "</style>\n",
       "<table border=\"1\" class=\"dataframe\">\n",
       "  <thead>\n",
       "    <tr style=\"text-align: right;\">\n",
       "      <th></th>\n",
       "      <th>filename</th>\n",
       "      <th>diabetic retinopathy</th>\n",
       "      <th>glaucoma</th>\n",
       "      <th>other</th>\n",
       "      <th>label</th>\n",
       "    </tr>\n",
       "  </thead>\n",
       "  <tbody>\n",
       "    <tr>\n",
       "      <th>1431</th>\n",
       "      <td>8ce79b47bb8e.jpg</td>\n",
       "      <td>1</td>\n",
       "      <td>0</td>\n",
       "      <td>0</td>\n",
       "      <td>[diabetic retinopathy]</td>\n",
       "    </tr>\n",
       "    <tr>\n",
       "      <th>3353</th>\n",
       "      <td>97d752293c76.jpg</td>\n",
       "      <td>0</td>\n",
       "      <td>0</td>\n",
       "      <td>1</td>\n",
       "      <td>[other]</td>\n",
       "    </tr>\n",
       "    <tr>\n",
       "      <th>1864</th>\n",
       "      <td>f55fe90b5359.jpg</td>\n",
       "      <td>0</td>\n",
       "      <td>0</td>\n",
       "      <td>1</td>\n",
       "      <td>[other]</td>\n",
       "    </tr>\n",
       "    <tr>\n",
       "      <th>2573</th>\n",
       "      <td>2da0cd28c0a1.jpg</td>\n",
       "      <td>1</td>\n",
       "      <td>0</td>\n",
       "      <td>0</td>\n",
       "      <td>[diabetic retinopathy]</td>\n",
       "    </tr>\n",
       "    <tr>\n",
       "      <th>2894</th>\n",
       "      <td>8cd457a348bc.jpg</td>\n",
       "      <td>0</td>\n",
       "      <td>1</td>\n",
       "      <td>0</td>\n",
       "      <td>[glaucoma]</td>\n",
       "    </tr>\n",
       "    <tr>\n",
       "      <th>994</th>\n",
       "      <td>fe85c499a133.jpg</td>\n",
       "      <td>0</td>\n",
       "      <td>1</td>\n",
       "      <td>0</td>\n",
       "      <td>[glaucoma]</td>\n",
       "    </tr>\n",
       "    <tr>\n",
       "      <th>464</th>\n",
       "      <td>c7a4cc0ea725.jpg</td>\n",
       "      <td>0</td>\n",
       "      <td>1</td>\n",
       "      <td>0</td>\n",
       "      <td>[glaucoma]</td>\n",
       "    </tr>\n",
       "    <tr>\n",
       "      <th>2431</th>\n",
       "      <td>73a0537586f9.jpg</td>\n",
       "      <td>1</td>\n",
       "      <td>1</td>\n",
       "      <td>0</td>\n",
       "      <td>[diabetic retinopathy, glaucoma]</td>\n",
       "    </tr>\n",
       "    <tr>\n",
       "      <th>2750</th>\n",
       "      <td>b09d3011b063.jpg</td>\n",
       "      <td>1</td>\n",
       "      <td>0</td>\n",
       "      <td>0</td>\n",
       "      <td>[diabetic retinopathy]</td>\n",
       "    </tr>\n",
       "    <tr>\n",
       "      <th>3338</th>\n",
       "      <td>d4ef9a6f3fa2.jpg</td>\n",
       "      <td>0</td>\n",
       "      <td>0</td>\n",
       "      <td>1</td>\n",
       "      <td>[other]</td>\n",
       "    </tr>\n",
       "  </tbody>\n",
       "</table>\n",
       "</div>"
      ],
      "text/plain": [
       "              filename  diabetic retinopathy  glaucoma  other  \\\n",
       "1431  8ce79b47bb8e.jpg                     1         0      0   \n",
       "3353  97d752293c76.jpg                     0         0      1   \n",
       "1864  f55fe90b5359.jpg                     0         0      1   \n",
       "2573  2da0cd28c0a1.jpg                     1         0      0   \n",
       "2894  8cd457a348bc.jpg                     0         1      0   \n",
       "994   fe85c499a133.jpg                     0         1      0   \n",
       "464   c7a4cc0ea725.jpg                     0         1      0   \n",
       "2431  73a0537586f9.jpg                     1         1      0   \n",
       "2750  b09d3011b063.jpg                     1         0      0   \n",
       "3338  d4ef9a6f3fa2.jpg                     0         0      1   \n",
       "\n",
       "                                 label  \n",
       "1431            [diabetic retinopathy]  \n",
       "3353                           [other]  \n",
       "1864                           [other]  \n",
       "2573            [diabetic retinopathy]  \n",
       "2894                        [glaucoma]  \n",
       "994                         [glaucoma]  \n",
       "464                         [glaucoma]  \n",
       "2431  [diabetic retinopathy, glaucoma]  \n",
       "2750            [diabetic retinopathy]  \n",
       "3338                           [other]  "
      ]
     },
     "execution_count": 25,
     "metadata": {},
     "output_type": "execute_result"
    }
   ],
   "source": [
    "# verify change\n",
    "print(\"Training Data:\")\n",
    "train_data.head(10)"
   ]
  },
  {
   "cell_type": "code",
   "execution_count": 26,
   "metadata": {},
   "outputs": [
    {
     "name": "stdout",
     "output_type": "stream",
     "text": [
      "Validation Data:\n"
     ]
    },
    {
     "data": {
      "text/html": [
       "<div>\n",
       "<style scoped>\n",
       "    .dataframe tbody tr th:only-of-type {\n",
       "        vertical-align: middle;\n",
       "    }\n",
       "\n",
       "    .dataframe tbody tr th {\n",
       "        vertical-align: top;\n",
       "    }\n",
       "\n",
       "    .dataframe thead th {\n",
       "        text-align: right;\n",
       "    }\n",
       "</style>\n",
       "<table border=\"1\" class=\"dataframe\">\n",
       "  <thead>\n",
       "    <tr style=\"text-align: right;\">\n",
       "      <th></th>\n",
       "      <th>filename</th>\n",
       "      <th>diabetic retinopathy</th>\n",
       "      <th>glaucoma</th>\n",
       "      <th>other</th>\n",
       "      <th>label</th>\n",
       "    </tr>\n",
       "  </thead>\n",
       "  <tbody>\n",
       "    <tr>\n",
       "      <th>1713</th>\n",
       "      <td>338d390b0d66.jpg</td>\n",
       "      <td>0</td>\n",
       "      <td>1</td>\n",
       "      <td>0</td>\n",
       "      <td>[glaucoma]</td>\n",
       "    </tr>\n",
       "    <tr>\n",
       "      <th>1637</th>\n",
       "      <td>fecbf8136bd5.jpg</td>\n",
       "      <td>0</td>\n",
       "      <td>0</td>\n",
       "      <td>1</td>\n",
       "      <td>[other]</td>\n",
       "    </tr>\n",
       "    <tr>\n",
       "      <th>929</th>\n",
       "      <td>87d08361bcbc.jpg</td>\n",
       "      <td>0</td>\n",
       "      <td>0</td>\n",
       "      <td>1</td>\n",
       "      <td>[other]</td>\n",
       "    </tr>\n",
       "    <tr>\n",
       "      <th>2966</th>\n",
       "      <td>da0d0c7e9336.jpg</td>\n",
       "      <td>0</td>\n",
       "      <td>0</td>\n",
       "      <td>1</td>\n",
       "      <td>[other]</td>\n",
       "    </tr>\n",
       "    <tr>\n",
       "      <th>203</th>\n",
       "      <td>4271f6a1bc34.jpg</td>\n",
       "      <td>0</td>\n",
       "      <td>0</td>\n",
       "      <td>1</td>\n",
       "      <td>[other]</td>\n",
       "    </tr>\n",
       "    <tr>\n",
       "      <th>1494</th>\n",
       "      <td>ac713827c7cb.jpg</td>\n",
       "      <td>0</td>\n",
       "      <td>0</td>\n",
       "      <td>1</td>\n",
       "      <td>[other]</td>\n",
       "    </tr>\n",
       "    <tr>\n",
       "      <th>2380</th>\n",
       "      <td>19a39631f0b2.jpg</td>\n",
       "      <td>0</td>\n",
       "      <td>1</td>\n",
       "      <td>0</td>\n",
       "      <td>[glaucoma]</td>\n",
       "    </tr>\n",
       "    <tr>\n",
       "      <th>1465</th>\n",
       "      <td>92cd7989f9ff.jpg</td>\n",
       "      <td>0</td>\n",
       "      <td>0</td>\n",
       "      <td>1</td>\n",
       "      <td>[other]</td>\n",
       "    </tr>\n",
       "    <tr>\n",
       "      <th>557</th>\n",
       "      <td>76cdc6a3e9a9.jpg</td>\n",
       "      <td>0</td>\n",
       "      <td>0</td>\n",
       "      <td>1</td>\n",
       "      <td>[other]</td>\n",
       "    </tr>\n",
       "    <tr>\n",
       "      <th>567</th>\n",
       "      <td>6ef741ba4c43.jpg</td>\n",
       "      <td>1</td>\n",
       "      <td>0</td>\n",
       "      <td>0</td>\n",
       "      <td>[diabetic retinopathy]</td>\n",
       "    </tr>\n",
       "  </tbody>\n",
       "</table>\n",
       "</div>"
      ],
      "text/plain": [
       "              filename  diabetic retinopathy  glaucoma  other  \\\n",
       "1713  338d390b0d66.jpg                     0         1      0   \n",
       "1637  fecbf8136bd5.jpg                     0         0      1   \n",
       "929   87d08361bcbc.jpg                     0         0      1   \n",
       "2966  da0d0c7e9336.jpg                     0         0      1   \n",
       "203   4271f6a1bc34.jpg                     0         0      1   \n",
       "1494  ac713827c7cb.jpg                     0         0      1   \n",
       "2380  19a39631f0b2.jpg                     0         1      0   \n",
       "1465  92cd7989f9ff.jpg                     0         0      1   \n",
       "557   76cdc6a3e9a9.jpg                     0         0      1   \n",
       "567   6ef741ba4c43.jpg                     1         0      0   \n",
       "\n",
       "                       label  \n",
       "1713              [glaucoma]  \n",
       "1637                 [other]  \n",
       "929                  [other]  \n",
       "2966                 [other]  \n",
       "203                  [other]  \n",
       "1494                 [other]  \n",
       "2380              [glaucoma]  \n",
       "1465                 [other]  \n",
       "557                  [other]  \n",
       "567   [diabetic retinopathy]  "
      ]
     },
     "execution_count": 26,
     "metadata": {},
     "output_type": "execute_result"
    }
   ],
   "source": [
    "print(\"Validation Data:\")\n",
    "validation_data.head(10)"
   ]
  },
  {
   "cell_type": "markdown",
   "metadata": {},
   "source": [
    "## \"And on the 5th day, God said: 'Augment them tensors!'\" - Christian's Diary, Verse 10, Ch 1"
   ]
  },
  {
   "cell_type": "code",
   "execution_count": 27,
   "metadata": {},
   "outputs": [],
   "source": [
    "# but first, some hyper parameters (will define others later)\n",
    "IMAGE_SIZE = 224                            # Image size is [224x224]\n",
    "BATCH_SIZE = 64                             # I feel like 64 is a nice number.  "
   ]
  },
  {
   "cell_type": "code",
   "execution_count": 28,
   "metadata": {},
   "outputs": [
    {
     "name": "stdout",
     "output_type": "stream",
     "text": [
      "Found 2404 validated image filenames belonging to 3 classes.\n",
      "Found 1031 validated image filenames belonging to 3 classes.\n"
     ]
    }
   ],
   "source": [
    "# augment tensors\n",
    "train_gen = train_datagen.flow_from_dataframe(dataframe=train_data,\n",
    "                                              directory=TRAIN_IMAGE_DIR,\n",
    "                                              x_col=\"filename\",\n",
    "                                              y_col=\"label\",\n",
    "                                              class_mode=\"categorical\",\n",
    "                                              target_size=(\n",
    "                                                  IMAGE_SIZE, IMAGE_SIZE),\n",
    "                                              batch_size=BATCH_SIZE)\n",
    "\n",
    "validation_gen = train_datagen.flow_from_dataframe(dataframe=validation_data,\n",
    "                                            directory=TRAIN_IMAGE_DIR,\n",
    "                                            x_col=\"filename\",\n",
    "                                            y_col=\"label\",\n",
    "                                            class_mode=\"categorical\",\n",
    "                                            shuffle=False,\n",
    "                                            target_size=(\n",
    "                                                IMAGE_SIZE, IMAGE_SIZE),\n",
    "                                            batch_size=BATCH_SIZE)"
   ]
  },
  {
   "cell_type": "markdown",
   "metadata": {},
   "source": [
    "### Model Selection\n",
    "\n",
    "Why reinvent the wheel? Since the model has worked so well on similar image classification problems, I will attempt to use the ResNet50 model pretrained on the ImageNet dataset (spoiler, the model performes wonderfully). The classifier of the ResNet50 model will be replaced with a new dense layer to make the output suit our problem."
   ]
  },
  {
   "cell_type": "code",
   "execution_count": 29,
   "metadata": {},
   "outputs": [],
   "source": [
    "# additional hyperparameters for training\n",
    "LEARNING_RATE = 0.001\n",
    "LEARNING_RATE_SCHEDULE_FACTOR = 0.1           # Parameter used for reducing learning rate\n",
    "LEARNING_RATE_SCHEDULE_PATIENCE = 5           # Parameter used for reducing learning rate\n",
    "MAX_EPOCHS = 100             "
   ]
  },
  {
   "cell_type": "markdown",
   "metadata": {},
   "source": [
    "In my experience with classification models, 100 epoch should be enough and a low learning rate like 0.001 is a good starting point. The LEARNING_RATE_SCHEDULE_FACTOR and LEARNING_RATE_SCHEDULE_PATIENCE are values I found from another ResNet50 application."
   ]
  },
  {
   "cell_type": "code",
   "execution_count": 30,
   "metadata": {},
   "outputs": [
    {
     "name": "stdout",
     "output_type": "stream",
     "text": [
      "Downloading data from https://storage.googleapis.com/tensorflow/keras-applications/resnet/resnet50_weights_tf_dim_ordering_tf_kernels_notop.h5\n",
      "94773248/94765736 [==============================] - 3s 0us/step\n",
      "Model: \"sequential\"\n",
      "_________________________________________________________________\n",
      "Layer (type)                 Output Shape              Param #   \n",
      "=================================================================\n",
      "resnet50 (Functional)        (None, 7, 7, 2048)        23587712  \n",
      "_________________________________________________________________\n",
      "global_average_pooling2d (Gl (None, 2048)              0         \n",
      "_________________________________________________________________\n",
      "dense (Dense)                (None, 3)                 6147      \n",
      "=================================================================\n",
      "Total params: 23,593,859\n",
      "Trainable params: 23,540,739\n",
      "Non-trainable params: 53,120\n",
      "_________________________________________________________________\n"
     ]
    }
   ],
   "source": [
    "# modified ResNet50 model\n",
    "base_model = keras.applications.ResNet50(input_shape=(IMAGE_SIZE,IMAGE_SIZE,3),\n",
    "                                    include_top=False,\n",
    "                                    weights='imagenet')\n",
    "base_model.trainable = True\n",
    "\n",
    "model = keras.Sequential([\n",
    "  base_model,\n",
    "  keras.layers.GlobalAveragePooling2D(),\n",
    "  keras.layers.Dense(len(LABELS), activation='sigmoid')\n",
    "])\n",
    "\n",
    "# print out model summary\n",
    "model.summary()"
   ]
  },
  {
   "cell_type": "markdown",
   "metadata": {},
   "source": [
    "### Model Callbacks\n",
    "```\n",
    "There are two callbacks that are necessary for training:\n",
    "\n",
    "1. Saving the best model on the validation set\n",
    "2. Reducing learning rate during training\n",
    "```"
   ]
  },
  {
   "cell_type": "code",
   "execution_count": 31,
   "metadata": {},
   "outputs": [],
   "source": [
    "# define callbacks\n",
    "\n",
    "# callback to save the best model based off of the validation set\n",
    "save_best_model_cb = keras.callbacks.ModelCheckpoint(\n",
    "        \"resnet50.h5\", monitor=\"val_accuracy\", save_best_only=True, save_weights_only=True, verbose=1, mode='max'),\n",
    "\n",
    "# callback to reduce the learning rate\n",
    "reduce_lr_cb = keras.callbacks.ReduceLROnPlateau(\n",
    "        monitor='val_accuracy', factor=LEARNING_RATE_SCHEDULE_FACTOR,\n",
    "        mode='max', patience=LEARNING_RATE_SCHEDULE_PATIENCE, min_lr=1e-8, verbose=1)\n",
    "\n",
    "callbacks = [save_best_model_cb, reduce_lr_cb]"
   ]
  },
  {
   "cell_type": "markdown",
   "metadata": {},
   "source": [
    "### Train Model\n",
    "\n",
    "Silent prayer that training does not take forever"
   ]
  },
  {
   "cell_type": "code",
   "execution_count": 32,
   "metadata": {},
   "outputs": [
    {
     "name": "stdout",
     "output_type": "stream",
     "text": [
      "TensorFlow is using the GPU\n"
     ]
    }
   ],
   "source": [
    "# tensorflow needs to know if the GPU is going to be available during training\n",
    "if len(tf.config.experimental.list_physical_devices('GPU')):\n",
    "    DEVICE = '/gpu:0'\n",
    "    print(\"TensorFlow is using the GPU\")\n",
    "else: \n",
    "    DEVICE = '/cpu:0' \n",
    "    print(\"TensorFlow is using the CPU only\")"
   ]
  },
  {
   "cell_type": "code",
   "execution_count": 34,
   "metadata": {},
   "outputs": [
    {
     "name": "stdout",
     "output_type": "stream",
     "text": [
      "/home/jovyan/Christian/Fourthbrain/midterms\n"
     ]
    }
   ],
   "source": [
    "print(os.getcwd())"
   ]
  },
  {
   "cell_type": "code",
   "execution_count": 36,
   "metadata": {},
   "outputs": [
    {
     "name": "stdout",
     "output_type": "stream",
     "text": [
      "Epoch 1/100\n",
      "37/37 [==============================] - 43s 1s/step - loss: 0.5201 - accuracy: 0.6388 - val_loss: 102780.5000 - val_accuracy: 0.6055\n",
      "\n",
      "Epoch 00001: val_accuracy did not improve from 0.60547\n",
      "Epoch 2/100\n",
      "37/37 [==============================] - 38s 1s/step - loss: 0.5194 - accuracy: 0.6317 - val_loss: 2389.2373 - val_accuracy: 0.6055\n",
      "\n",
      "Epoch 00002: val_accuracy did not improve from 0.60547\n",
      "Epoch 3/100\n",
      "37/37 [==============================] - 38s 1s/step - loss: 0.4992 - accuracy: 0.6358 - val_loss: 0.6429 - val_accuracy: 0.4746\n",
      "\n",
      "Epoch 00003: val_accuracy did not improve from 0.60547\n",
      "Epoch 4/100\n",
      "37/37 [==============================] - 38s 1s/step - loss: 0.4790 - accuracy: 0.6559 - val_loss: 0.9739 - val_accuracy: 0.1631\n",
      "\n",
      "Epoch 00004: val_accuracy did not improve from 0.60547\n",
      "Epoch 5/100\n",
      "37/37 [==============================] - 38s 1s/step - loss: 0.4689 - accuracy: 0.6641 - val_loss: 0.9053 - val_accuracy: 0.1631\n",
      "\n",
      "Epoch 00005: val_accuracy did not improve from 0.60547\n",
      "Epoch 6/100\n",
      "37/37 [==============================] - 38s 1s/step - loss: 0.4655 - accuracy: 0.6645 - val_loss: 0.7106 - val_accuracy: 0.1631\n",
      "\n",
      "Epoch 00006: val_accuracy did not improve from 0.60547\n",
      "\n",
      "Epoch 00006: ReduceLROnPlateau reducing learning rate to 0.00010000000474974513.\n",
      "Epoch 7/100\n",
      "37/37 [==============================] - 38s 1s/step - loss: 0.4526 - accuracy: 0.6787 - val_loss: 0.6648 - val_accuracy: 0.2998\n",
      "\n",
      "Epoch 00007: val_accuracy did not improve from 0.60547\n",
      "Epoch 8/100\n",
      "37/37 [==============================] - 38s 1s/step - loss: 0.4434 - accuracy: 0.6917 - val_loss: 0.6452 - val_accuracy: 0.6055\n",
      "\n",
      "Epoch 00008: val_accuracy did not improve from 0.60547\n",
      "Epoch 9/100\n",
      "37/37 [==============================] - 38s 1s/step - loss: 0.4278 - accuracy: 0.6909 - val_loss: 0.6432 - val_accuracy: 0.6055\n",
      "\n",
      "Epoch 00009: val_accuracy did not improve from 0.60547\n",
      "Epoch 10/100\n",
      "37/37 [==============================] - 38s 1s/step - loss: 0.4099 - accuracy: 0.7228 - val_loss: 0.6344 - val_accuracy: 0.6055\n",
      "\n",
      "Epoch 00010: val_accuracy did not improve from 0.60547\n",
      "Epoch 11/100\n",
      "37/37 [==============================] - 38s 1s/step - loss: 0.4218 - accuracy: 0.6984 - val_loss: 0.6090 - val_accuracy: 0.6055\n",
      "\n",
      "Epoch 00011: val_accuracy did not improve from 0.60547\n",
      "\n",
      "Epoch 00011: ReduceLROnPlateau reducing learning rate to 1.0000000474974514e-05.\n",
      "Epoch 12/100\n",
      "37/37 [==============================] - 38s 1s/step - loss: 0.4082 - accuracy: 0.7130 - val_loss: 0.6141 - val_accuracy: 0.6055\n",
      "\n",
      "Epoch 00012: val_accuracy did not improve from 0.60547\n",
      "Epoch 13/100\n",
      "37/37 [==============================] - 38s 1s/step - loss: 0.4086 - accuracy: 0.7048 - val_loss: 0.6164 - val_accuracy: 0.6055\n",
      "\n",
      "Epoch 00013: val_accuracy did not improve from 0.60547\n",
      "Epoch 14/100\n",
      "37/37 [==============================] - 39s 1s/step - loss: 0.4128 - accuracy: 0.7066 - val_loss: 0.6143 - val_accuracy: 0.6055\n",
      "\n",
      "Epoch 00014: val_accuracy did not improve from 0.60547\n",
      "Epoch 15/100\n",
      "37/37 [==============================] - 38s 1s/step - loss: 0.4076 - accuracy: 0.7127 - val_loss: 0.6120 - val_accuracy: 0.6055\n",
      "\n",
      "Epoch 00015: val_accuracy did not improve from 0.60547\n",
      "Epoch 16/100\n",
      "37/37 [==============================] - 38s 1s/step - loss: 0.4008 - accuracy: 0.7122 - val_loss: 0.6089 - val_accuracy: 0.6055\n",
      "\n",
      "Epoch 00016: val_accuracy did not improve from 0.60547\n",
      "\n",
      "Epoch 00016: ReduceLROnPlateau reducing learning rate to 1.0000000656873453e-06.\n",
      "Epoch 17/100\n",
      "37/37 [==============================] - 38s 1s/step - loss: 0.4092 - accuracy: 0.7031 - val_loss: 0.6054 - val_accuracy: 0.6055\n",
      "\n",
      "Epoch 00017: val_accuracy did not improve from 0.60547\n",
      "Epoch 18/100\n",
      "37/37 [==============================] - 39s 1s/step - loss: 0.4029 - accuracy: 0.7174 - val_loss: 0.6020 - val_accuracy: 0.6055\n",
      "\n",
      "Epoch 00018: val_accuracy did not improve from 0.60547\n",
      "Epoch 19/100\n",
      "37/37 [==============================] - 38s 1s/step - loss: 0.4185 - accuracy: 0.6929 - val_loss: 0.5976 - val_accuracy: 0.6035\n",
      "\n",
      "Epoch 00019: val_accuracy did not improve from 0.60547\n",
      "Epoch 20/100\n",
      "37/37 [==============================] - 38s 1s/step - loss: 0.4233 - accuracy: 0.6983 - val_loss: 0.5934 - val_accuracy: 0.6016\n",
      "\n",
      "Epoch 00020: val_accuracy did not improve from 0.60547\n",
      "Epoch 21/100\n",
      "37/37 [==============================] - 38s 1s/step - loss: 0.4111 - accuracy: 0.7103 - val_loss: 0.5877 - val_accuracy: 0.5957\n",
      "\n",
      "Epoch 00021: val_accuracy did not improve from 0.60547\n",
      "\n",
      "Epoch 00021: ReduceLROnPlateau reducing learning rate to 1.0000001111620805e-07.\n",
      "Epoch 22/100\n",
      "37/37 [==============================] - 38s 1s/step - loss: 0.3983 - accuracy: 0.7166 - val_loss: 0.5819 - val_accuracy: 0.6006\n",
      "\n",
      "Epoch 00022: val_accuracy did not improve from 0.60547\n",
      "Epoch 23/100\n",
      "37/37 [==============================] - 38s 1s/step - loss: 0.4112 - accuracy: 0.7053 - val_loss: 0.5720 - val_accuracy: 0.6045\n",
      "\n",
      "Epoch 00023: val_accuracy did not improve from 0.60547\n",
      "Epoch 24/100\n",
      "37/37 [==============================] - 38s 1s/step - loss: 0.4070 - accuracy: 0.7131 - val_loss: 0.5652 - val_accuracy: 0.6074\n",
      "\n",
      "Epoch 00024: val_accuracy improved from 0.60547 to 0.60742, saving model to resnet50.h5\n",
      "Epoch 25/100\n",
      "37/37 [==============================] - 38s 1s/step - loss: 0.4031 - accuracy: 0.7177 - val_loss: 0.5551 - val_accuracy: 0.6143\n",
      "\n",
      "Epoch 00025: val_accuracy improved from 0.60742 to 0.61426, saving model to resnet50.h5\n",
      "Epoch 26/100\n",
      "37/37 [==============================] - 38s 1s/step - loss: 0.3983 - accuracy: 0.7156 - val_loss: 0.5419 - val_accuracy: 0.6250\n",
      "\n",
      "Epoch 00026: val_accuracy improved from 0.61426 to 0.62500, saving model to resnet50.h5\n",
      "Epoch 27/100\n",
      "37/37 [==============================] - 38s 1s/step - loss: 0.4110 - accuracy: 0.6997 - val_loss: 0.5268 - val_accuracy: 0.6348\n",
      "\n",
      "Epoch 00027: val_accuracy improved from 0.62500 to 0.63477, saving model to resnet50.h5\n",
      "Epoch 28/100\n",
      "37/37 [==============================] - 38s 1s/step - loss: 0.3985 - accuracy: 0.7279 - val_loss: 0.5062 - val_accuracy: 0.6484\n",
      "\n",
      "Epoch 00028: val_accuracy improved from 0.63477 to 0.64844, saving model to resnet50.h5\n",
      "Epoch 29/100\n",
      "37/37 [==============================] - 38s 1s/step - loss: 0.4108 - accuracy: 0.6904 - val_loss: 0.4803 - val_accuracy: 0.6660\n",
      "\n",
      "Epoch 00029: val_accuracy improved from 0.64844 to 0.66602, saving model to resnet50.h5\n",
      "Epoch 30/100\n",
      "37/37 [==============================] - 38s 1s/step - loss: 0.4104 - accuracy: 0.7154 - val_loss: 0.4653 - val_accuracy: 0.6631\n",
      "\n",
      "Epoch 00030: val_accuracy did not improve from 0.66602\n",
      "Epoch 31/100\n",
      "37/37 [==============================] - 38s 1s/step - loss: 0.4019 - accuracy: 0.7174 - val_loss: 0.4456 - val_accuracy: 0.6787\n",
      "\n",
      "Epoch 00031: val_accuracy improved from 0.66602 to 0.67871, saving model to resnet50.h5\n",
      "Epoch 32/100\n",
      "37/37 [==============================] - 39s 1s/step - loss: 0.4071 - accuracy: 0.7068 - val_loss: 0.4386 - val_accuracy: 0.6826\n",
      "\n",
      "Epoch 00032: val_accuracy improved from 0.67871 to 0.68262, saving model to resnet50.h5\n",
      "Epoch 33/100\n",
      "37/37 [==============================] - 39s 1s/step - loss: 0.4024 - accuracy: 0.7211 - val_loss: 0.4252 - val_accuracy: 0.7012\n",
      "\n",
      "Epoch 00033: val_accuracy improved from 0.68262 to 0.70117, saving model to resnet50.h5\n",
      "Epoch 34/100\n",
      "37/37 [==============================] - 39s 1s/step - loss: 0.4024 - accuracy: 0.7102 - val_loss: 0.4229 - val_accuracy: 0.6875\n",
      "\n",
      "Epoch 00034: val_accuracy did not improve from 0.70117\n",
      "Epoch 35/100\n",
      "37/37 [==============================] - 38s 1s/step - loss: 0.4008 - accuracy: 0.7105 - val_loss: 0.4170 - val_accuracy: 0.7061\n",
      "\n",
      "Epoch 00035: val_accuracy improved from 0.70117 to 0.70605, saving model to resnet50.h5\n",
      "Epoch 36/100\n",
      "37/37 [==============================] - 38s 1s/step - loss: 0.3904 - accuracy: 0.7283 - val_loss: 0.4165 - val_accuracy: 0.7031\n",
      "\n",
      "Epoch 00036: val_accuracy did not improve from 0.70605\n",
      "Epoch 37/100\n",
      "37/37 [==============================] - 38s 1s/step - loss: 0.4009 - accuracy: 0.7107 - val_loss: 0.4108 - val_accuracy: 0.7090\n",
      "\n",
      "Epoch 00037: val_accuracy improved from 0.70605 to 0.70898, saving model to resnet50.h5\n",
      "Epoch 38/100\n",
      "37/37 [==============================] - 38s 1s/step - loss: 0.4155 - accuracy: 0.7067 - val_loss: 0.4115 - val_accuracy: 0.6963\n",
      "\n",
      "Epoch 00038: val_accuracy did not improve from 0.70898\n",
      "Epoch 39/100\n",
      "37/37 [==============================] - 38s 1s/step - loss: 0.4020 - accuracy: 0.7152 - val_loss: 0.4105 - val_accuracy: 0.7070\n",
      "\n",
      "Epoch 00039: val_accuracy did not improve from 0.70898\n",
      "Epoch 40/100\n",
      "37/37 [==============================] - 38s 1s/step - loss: 0.4046 - accuracy: 0.7173 - val_loss: 0.4132 - val_accuracy: 0.7061\n",
      "\n",
      "Epoch 00040: val_accuracy did not improve from 0.70898\n",
      "Epoch 41/100\n",
      "37/37 [==============================] - 38s 1s/step - loss: 0.4108 - accuracy: 0.7117 - val_loss: 0.4110 - val_accuracy: 0.7041\n",
      "\n",
      "Epoch 00041: val_accuracy did not improve from 0.70898\n",
      "Epoch 42/100\n",
      "37/37 [==============================] - 38s 1s/step - loss: 0.4183 - accuracy: 0.6987 - val_loss: 0.4111 - val_accuracy: 0.7031\n",
      "\n",
      "Epoch 00042: val_accuracy did not improve from 0.70898\n",
      "\n",
      "Epoch 00042: ReduceLROnPlateau reducing learning rate to 1.000000082740371e-08.\n",
      "Epoch 43/100\n",
      "37/37 [==============================] - 38s 1s/step - loss: 0.3886 - accuracy: 0.7192 - val_loss: 0.4101 - val_accuracy: 0.7090\n",
      "\n",
      "Epoch 00043: val_accuracy did not improve from 0.70898\n",
      "Epoch 44/100\n",
      "37/37 [==============================] - 38s 1s/step - loss: 0.4016 - accuracy: 0.7296 - val_loss: 0.4112 - val_accuracy: 0.7012\n",
      "\n",
      "Epoch 00044: val_accuracy did not improve from 0.70898\n",
      "Epoch 45/100\n",
      "37/37 [==============================] - 38s 1s/step - loss: 0.4145 - accuracy: 0.7008 - val_loss: 0.4109 - val_accuracy: 0.7061\n",
      "\n",
      "Epoch 00045: val_accuracy did not improve from 0.70898\n",
      "Epoch 46/100\n",
      "37/37 [==============================] - 38s 1s/step - loss: 0.3993 - accuracy: 0.7187 - val_loss: 0.4130 - val_accuracy: 0.7002\n",
      "\n",
      "Epoch 00046: val_accuracy did not improve from 0.70898\n",
      "Epoch 47/100\n",
      "37/37 [==============================] - 38s 1s/step - loss: 0.4090 - accuracy: 0.7007 - val_loss: 0.4141 - val_accuracy: 0.6992\n",
      "\n",
      "Epoch 00047: val_accuracy did not improve from 0.70898\n",
      "\n",
      "Epoch 00047: ReduceLROnPlateau reducing learning rate to 1e-08.\n",
      "Epoch 48/100\n",
      "37/37 [==============================] - 38s 1s/step - loss: 0.4031 - accuracy: 0.7117 - val_loss: 0.4095 - val_accuracy: 0.7129\n",
      "\n",
      "Epoch 00048: val_accuracy improved from 0.70898 to 0.71289, saving model to resnet50.h5\n",
      "Epoch 49/100\n",
      "37/37 [==============================] - 38s 1s/step - loss: 0.4035 - accuracy: 0.7134 - val_loss: 0.4115 - val_accuracy: 0.7109\n",
      "\n",
      "Epoch 00049: val_accuracy did not improve from 0.71289\n",
      "Epoch 50/100\n",
      "37/37 [==============================] - 38s 1s/step - loss: 0.4020 - accuracy: 0.7196 - val_loss: 0.4130 - val_accuracy: 0.6982\n",
      "\n",
      "Epoch 00050: val_accuracy did not improve from 0.71289\n",
      "Epoch 51/100\n",
      "37/37 [==============================] - 38s 1s/step - loss: 0.3994 - accuracy: 0.7198 - val_loss: 0.4125 - val_accuracy: 0.7031\n",
      "\n",
      "Epoch 00051: val_accuracy did not improve from 0.71289\n",
      "Epoch 52/100\n",
      "37/37 [==============================] - 38s 1s/step - loss: 0.3991 - accuracy: 0.7301 - val_loss: 0.4155 - val_accuracy: 0.7070\n",
      "\n",
      "Epoch 00052: val_accuracy did not improve from 0.71289\n",
      "Epoch 53/100\n",
      "37/37 [==============================] - 38s 1s/step - loss: 0.4063 - accuracy: 0.7142 - val_loss: 0.4128 - val_accuracy: 0.7109\n",
      "\n",
      "Epoch 00053: val_accuracy did not improve from 0.71289\n",
      "Epoch 54/100\n",
      "37/37 [==============================] - 38s 1s/step - loss: 0.3973 - accuracy: 0.7282 - val_loss: 0.4145 - val_accuracy: 0.7002\n",
      "\n",
      "Epoch 00054: val_accuracy did not improve from 0.71289\n",
      "Epoch 55/100\n",
      "37/37 [==============================] - 38s 1s/step - loss: 0.3964 - accuracy: 0.7150 - val_loss: 0.4111 - val_accuracy: 0.7002\n",
      "\n",
      "Epoch 00055: val_accuracy did not improve from 0.71289\n",
      "Epoch 56/100\n",
      "37/37 [==============================] - 39s 1s/step - loss: 0.4012 - accuracy: 0.7176 - val_loss: 0.4099 - val_accuracy: 0.7041\n",
      "\n",
      "Epoch 00056: val_accuracy did not improve from 0.71289\n",
      "Epoch 57/100\n",
      "37/37 [==============================] - 39s 1s/step - loss: 0.4141 - accuracy: 0.7104 - val_loss: 0.4169 - val_accuracy: 0.7061\n",
      "\n",
      "Epoch 00057: val_accuracy did not improve from 0.71289\n",
      "Epoch 58/100\n",
      "37/37 [==============================] - 38s 1s/step - loss: 0.4085 - accuracy: 0.7131 - val_loss: 0.4063 - val_accuracy: 0.7148\n",
      "\n",
      "Epoch 00058: val_accuracy improved from 0.71289 to 0.71484, saving model to resnet50.h5\n",
      "Epoch 59/100\n",
      "37/37 [==============================] - 38s 1s/step - loss: 0.3970 - accuracy: 0.7180 - val_loss: 0.4085 - val_accuracy: 0.7100\n",
      "\n",
      "Epoch 00059: val_accuracy did not improve from 0.71484\n",
      "Epoch 60/100\n",
      "37/37 [==============================] - 38s 1s/step - loss: 0.4076 - accuracy: 0.7163 - val_loss: 0.4133 - val_accuracy: 0.7021\n",
      "\n",
      "Epoch 00060: val_accuracy did not improve from 0.71484\n",
      "Epoch 61/100\n",
      "37/37 [==============================] - 38s 1s/step - loss: 0.4114 - accuracy: 0.7055 - val_loss: 0.4134 - val_accuracy: 0.7031\n",
      "\n",
      "Epoch 00061: val_accuracy did not improve from 0.71484\n",
      "Epoch 62/100\n",
      "37/37 [==============================] - 38s 1s/step - loss: 0.4157 - accuracy: 0.6969 - val_loss: 0.4151 - val_accuracy: 0.7129\n",
      "\n",
      "Epoch 00062: val_accuracy did not improve from 0.71484\n",
      "Epoch 63/100\n",
      "37/37 [==============================] - 38s 1s/step - loss: 0.4030 - accuracy: 0.7115 - val_loss: 0.4145 - val_accuracy: 0.7002\n",
      "\n",
      "Epoch 00063: val_accuracy did not improve from 0.71484\n",
      "Epoch 64/100\n",
      "37/37 [==============================] - 38s 1s/step - loss: 0.4123 - accuracy: 0.6992 - val_loss: 0.4100 - val_accuracy: 0.7080\n",
      "\n",
      "Epoch 00064: val_accuracy did not improve from 0.71484\n",
      "Epoch 65/100\n",
      "37/37 [==============================] - 38s 1s/step - loss: 0.3957 - accuracy: 0.7283 - val_loss: 0.4120 - val_accuracy: 0.7031\n",
      "\n",
      "Epoch 00065: val_accuracy did not improve from 0.71484\n",
      "Epoch 66/100\n",
      "37/37 [==============================] - 38s 1s/step - loss: 0.4084 - accuracy: 0.7140 - val_loss: 0.4083 - val_accuracy: 0.7129\n",
      "\n",
      "Epoch 00066: val_accuracy did not improve from 0.71484\n",
      "Epoch 67/100\n",
      "37/37 [==============================] - 38s 1s/step - loss: 0.4012 - accuracy: 0.7166 - val_loss: 0.4155 - val_accuracy: 0.7080\n",
      "\n",
      "Epoch 00067: val_accuracy did not improve from 0.71484\n",
      "Epoch 68/100\n",
      "37/37 [==============================] - 38s 1s/step - loss: 0.4039 - accuracy: 0.7152 - val_loss: 0.4140 - val_accuracy: 0.7070\n",
      "\n",
      "Epoch 00068: val_accuracy did not improve from 0.71484\n",
      "Epoch 69/100\n",
      "37/37 [==============================] - 38s 1s/step - loss: 0.4112 - accuracy: 0.7009 - val_loss: 0.4120 - val_accuracy: 0.7021\n",
      "\n",
      "Epoch 00069: val_accuracy did not improve from 0.71484\n",
      "Epoch 70/100\n",
      "37/37 [==============================] - 38s 1s/step - loss: 0.4089 - accuracy: 0.7022 - val_loss: 0.4130 - val_accuracy: 0.6924\n",
      "\n",
      "Epoch 00070: val_accuracy did not improve from 0.71484\n",
      "Epoch 71/100\n",
      "37/37 [==============================] - 38s 1s/step - loss: 0.4106 - accuracy: 0.7042 - val_loss: 0.4120 - val_accuracy: 0.7061\n",
      "\n",
      "Epoch 00071: val_accuracy did not improve from 0.71484\n",
      "Epoch 72/100\n",
      "37/37 [==============================] - 38s 1s/step - loss: 0.4047 - accuracy: 0.7191 - val_loss: 0.4084 - val_accuracy: 0.7031\n",
      "\n",
      "Epoch 00072: val_accuracy did not improve from 0.71484\n",
      "Epoch 73/100\n",
      "37/37 [==============================] - 38s 1s/step - loss: 0.4094 - accuracy: 0.6992 - val_loss: 0.4145 - val_accuracy: 0.7070\n",
      "\n",
      "Epoch 00073: val_accuracy did not improve from 0.71484\n",
      "Epoch 74/100\n",
      "37/37 [==============================] - 38s 1s/step - loss: 0.3963 - accuracy: 0.7330 - val_loss: 0.4103 - val_accuracy: 0.7100\n",
      "\n",
      "Epoch 00074: val_accuracy did not improve from 0.71484\n",
      "Epoch 75/100\n",
      "37/37 [==============================] - 38s 1s/step - loss: 0.4129 - accuracy: 0.7023 - val_loss: 0.4131 - val_accuracy: 0.7012\n",
      "\n",
      "Epoch 00075: val_accuracy did not improve from 0.71484\n",
      "Epoch 76/100\n",
      "37/37 [==============================] - 38s 1s/step - loss: 0.4061 - accuracy: 0.7184 - val_loss: 0.4147 - val_accuracy: 0.7070\n",
      "\n",
      "Epoch 00076: val_accuracy did not improve from 0.71484\n",
      "Epoch 77/100\n",
      "37/37 [==============================] - 38s 1s/step - loss: 0.4134 - accuracy: 0.7110 - val_loss: 0.4133 - val_accuracy: 0.7041\n",
      "\n",
      "Epoch 00077: val_accuracy did not improve from 0.71484\n",
      "Epoch 78/100\n",
      "37/37 [==============================] - 38s 1s/step - loss: 0.4010 - accuracy: 0.7198 - val_loss: 0.4151 - val_accuracy: 0.6953\n",
      "\n",
      "Epoch 00078: val_accuracy did not improve from 0.71484\n",
      "Epoch 79/100\n",
      "37/37 [==============================] - 38s 1s/step - loss: 0.3982 - accuracy: 0.7255 - val_loss: 0.4110 - val_accuracy: 0.7002\n",
      "\n",
      "Epoch 00079: val_accuracy did not improve from 0.71484\n",
      "Epoch 80/100\n",
      "37/37 [==============================] - 38s 1s/step - loss: 0.3960 - accuracy: 0.7205 - val_loss: 0.4126 - val_accuracy: 0.7119\n",
      "\n",
      "Epoch 00080: val_accuracy did not improve from 0.71484\n",
      "Epoch 81/100\n",
      "37/37 [==============================] - 39s 1s/step - loss: 0.4024 - accuracy: 0.7126 - val_loss: 0.4110 - val_accuracy: 0.7100\n",
      "\n",
      "Epoch 00081: val_accuracy did not improve from 0.71484\n",
      "Epoch 82/100\n",
      "37/37 [==============================] - 39s 1s/step - loss: 0.4066 - accuracy: 0.7172 - val_loss: 0.4159 - val_accuracy: 0.7002\n",
      "\n",
      "Epoch 00082: val_accuracy did not improve from 0.71484\n",
      "Epoch 83/100\n",
      "37/37 [==============================] - 38s 1s/step - loss: 0.3992 - accuracy: 0.7296 - val_loss: 0.4116 - val_accuracy: 0.7021\n",
      "\n",
      "Epoch 00083: val_accuracy did not improve from 0.71484\n",
      "Epoch 84/100\n",
      "37/37 [==============================] - 38s 1s/step - loss: 0.3947 - accuracy: 0.7306 - val_loss: 0.4120 - val_accuracy: 0.7031\n",
      "\n",
      "Epoch 00084: val_accuracy did not improve from 0.71484\n",
      "Epoch 85/100\n",
      "37/37 [==============================] - 38s 1s/step - loss: 0.4084 - accuracy: 0.7177 - val_loss: 0.4128 - val_accuracy: 0.6865\n",
      "\n",
      "Epoch 00085: val_accuracy did not improve from 0.71484\n",
      "Epoch 86/100\n",
      "37/37 [==============================] - 38s 1s/step - loss: 0.4105 - accuracy: 0.7105 - val_loss: 0.4189 - val_accuracy: 0.7041\n",
      "\n",
      "Epoch 00086: val_accuracy did not improve from 0.71484\n",
      "Epoch 87/100\n",
      "37/37 [==============================] - 38s 1s/step - loss: 0.4103 - accuracy: 0.7158 - val_loss: 0.4164 - val_accuracy: 0.7012\n",
      "\n",
      "Epoch 00087: val_accuracy did not improve from 0.71484\n",
      "Epoch 88/100\n",
      "37/37 [==============================] - 38s 1s/step - loss: 0.4093 - accuracy: 0.7142 - val_loss: 0.4146 - val_accuracy: 0.7041\n",
      "\n",
      "Epoch 00088: val_accuracy did not improve from 0.71484\n",
      "Epoch 89/100\n",
      "37/37 [==============================] - 38s 1s/step - loss: 0.4129 - accuracy: 0.7106 - val_loss: 0.4148 - val_accuracy: 0.7100\n",
      "\n",
      "Epoch 00089: val_accuracy did not improve from 0.71484\n",
      "Epoch 90/100\n",
      "37/37 [==============================] - 38s 1s/step - loss: 0.4155 - accuracy: 0.7040 - val_loss: 0.4151 - val_accuracy: 0.7080\n",
      "\n",
      "Epoch 00090: val_accuracy did not improve from 0.71484\n",
      "Epoch 91/100\n",
      "37/37 [==============================] - 38s 1s/step - loss: 0.3999 - accuracy: 0.7150 - val_loss: 0.4131 - val_accuracy: 0.7041\n",
      "\n",
      "Epoch 00091: val_accuracy did not improve from 0.71484\n",
      "Epoch 92/100\n",
      "37/37 [==============================] - 38s 1s/step - loss: 0.3951 - accuracy: 0.7192 - val_loss: 0.4136 - val_accuracy: 0.7070\n",
      "\n",
      "Epoch 00092: val_accuracy did not improve from 0.71484\n",
      "Epoch 93/100\n",
      "37/37 [==============================] - 38s 1s/step - loss: 0.4000 - accuracy: 0.7228 - val_loss: 0.4098 - val_accuracy: 0.7100\n",
      "\n",
      "Epoch 00093: val_accuracy did not improve from 0.71484\n",
      "Epoch 94/100\n",
      "37/37 [==============================] - 38s 1s/step - loss: 0.4147 - accuracy: 0.7107 - val_loss: 0.4118 - val_accuracy: 0.7061\n",
      "\n",
      "Epoch 00094: val_accuracy did not improve from 0.71484\n",
      "Epoch 95/100\n",
      "37/37 [==============================] - 38s 1s/step - loss: 0.4015 - accuracy: 0.7157 - val_loss: 0.4112 - val_accuracy: 0.7002\n",
      "\n",
      "Epoch 00095: val_accuracy did not improve from 0.71484\n",
      "Epoch 96/100\n",
      "37/37 [==============================] - 39s 1s/step - loss: 0.4016 - accuracy: 0.7136 - val_loss: 0.4154 - val_accuracy: 0.7148\n",
      "\n",
      "Epoch 00096: val_accuracy did not improve from 0.71484\n",
      "Epoch 97/100\n",
      "37/37 [==============================] - 38s 1s/step - loss: 0.4022 - accuracy: 0.7255 - val_loss: 0.4100 - val_accuracy: 0.7031\n",
      "\n",
      "Epoch 00097: val_accuracy did not improve from 0.71484\n",
      "Epoch 98/100\n",
      "37/37 [==============================] - 38s 1s/step - loss: 0.4081 - accuracy: 0.7087 - val_loss: 0.4133 - val_accuracy: 0.7090\n",
      "\n",
      "Epoch 00098: val_accuracy did not improve from 0.71484\n",
      "Epoch 99/100\n",
      "37/37 [==============================] - 38s 1s/step - loss: 0.4135 - accuracy: 0.7074 - val_loss: 0.4150 - val_accuracy: 0.7051\n",
      "\n",
      "Epoch 00099: val_accuracy did not improve from 0.71484\n",
      "Epoch 100/100\n",
      "37/37 [==============================] - 38s 1s/step - loss: 0.4135 - accuracy: 0.7030 - val_loss: 0.4140 - val_accuracy: 0.7031\n",
      "\n",
      "Epoch 00100: val_accuracy did not improve from 0.71484\n"
     ]
    }
   ],
   "source": [
    "# train model\n",
    "history = None\n",
    "with tf.device(DEVICE):\n",
    "    steps_per_epoch = train_gen.n // BATCH_SIZE\n",
    "    validation_steps = validation_gen.n // BATCH_SIZE\n",
    "\n",
    "    model.compile(optimizer=keras.optimizers.Adam(learning_rate=LEARNING_RATE),\n",
    "                  loss='binary_crossentropy', metrics=['accuracy'])\n",
    "\n",
    "    history = model.fit(train_gen,\n",
    "                        steps_per_epoch=steps_per_epoch,\n",
    "                        epochs=MAX_EPOCHS,\n",
    "                        verbose=1,\n",
    "                        validation_data=validation_gen,\n",
    "                        validation_steps=validation_steps,\n",
    "                        callbacks=callbacks)"
   ]
  },
  {
   "cell_type": "markdown",
   "metadata": {},
   "source": [
    "### Display Loss and accuracy for both training and validation data"
   ]
  },
  {
   "cell_type": "code",
   "execution_count": 47,
   "metadata": {},
   "outputs": [],
   "source": [
    "from helper_functions import *"
   ]
  },
  {
   "cell_type": "code",
   "execution_count": 39,
   "metadata": {},
   "outputs": [
    {
     "data": {
      "image/png": "[encoded data removed]",
      "text/plain": [
       "<Figure size 432x288 with 1 Axes>"
      ]
     },
     "metadata": {
      "needs_background": "light"
     },
     "output_type": "display_data"
    },
    {
     "data": {
      "image/png": "[encoded data removed]",
      "text/plain": [
       "<Figure size 432x288 with 1 Axes>"
      ]
     },
     "metadata": {
      "needs_background": "light"
     },
     "output_type": "display_data"
    }
   ],
   "source": [
    "print_loss_history(history)\n",
    "print_accuracy_history(history)"
   ]
  },
  {
   "cell_type": "markdown",
   "metadata": {},
   "source": [
    "## Task 2: Visualize the heatmap/saliency/features using any method of your choice to demonstrate what regions of interest contribute to Diabetic Retinopathy and Glaucoma, respectively.\n",
    "```\n",
    "Submit images/folder of images with heatmaps/features aligned on top of the images, or corresponding bounding boxes, and report what regions of interest in your opinion represent the pathological sites.\n",
    "```"
   ]
  },
  {
   "cell_type": "code",
   "execution_count": 40,
   "metadata": {},
   "outputs": [
    {
     "data": {
      "text/plain": [
       "<AxesSubplot:>"
      ]
     },
     "execution_count": 40,
     "metadata": {},
     "output_type": "execute_result"
    },
    {
     "data": {
      "image/png": "[encoded data removed]",
      "text/plain": [
       "<Figure size 432x288 with 1 Axes>"
      ]
     },
     "metadata": {
      "needs_background": "light"
     },
     "output_type": "display_data"
    }
   ],
   "source": [
    "# Data visualization\n",
    "data.plot.bar()"
   ]
  },
  {
   "cell_type": "markdown",
   "metadata": {},
   "source": [
    "### Visualize Activations\n",
    "\n",
    "We can see a heatmap/saliency/features which the CNN model uses to make predictions. Visualizing activations between different layers will give insight to what features matter."
   ]
  },
  {
   "cell_type": "code",
   "execution_count": 41,
   "metadata": {},
   "outputs": [],
   "source": [
    "from keras.models import Model"
   ]
  },
  {
   "cell_type": "code",
   "execution_count": 46,
   "metadata": {},
   "outputs": [
    {
     "data": {
      "text/plain": [
       "<KerasTensor: shape=(None, 224, 224, 3) dtype=float32 (created by layer 'resnet50_input')>"
      ]
     },
     "execution_count": 46,
     "metadata": {},
     "output_type": "execute_result"
    }
   ],
   "source": [
    "model.input"
   ]
  },
  {
   "cell_type": "code",
   "execution_count": 45,
   "metadata": {},
   "outputs": [
    {
     "name": "stderr",
     "output_type": "stream",
     "text": [
      "/opt/conda/lib/python3.8/site-packages/keras_preprocessing/image/image_data_generator.py:720: UserWarning: This ImageDataGenerator specifies `featurewise_center`, but it hasn't been fit on any training data. Fit it first by calling `.fit(numpy_data)`.\n",
      "  warnings.warn('This ImageDataGenerator specifies '\n",
      "/opt/conda/lib/python3.8/site-packages/keras_preprocessing/image/image_data_generator.py:728: UserWarning: This ImageDataGenerator specifies `featurewise_std_normalization`, but it hasn't been fit on any training data. Fit it first by calling `.fit(numpy_data)`.\n",
      "  warnings.warn('This ImageDataGenerator specifies '\n"
     ]
    },
    {
     "ename": "ResourceExhaustedError",
     "evalue": " OOM when allocating tensor with shape[64,28,28,128] and type float on /job:localhost/replica:0/task:0/device:GPU:0 by allocator GPU_0_bfc\n\t [[{{node Identity_73-0-0-TransposeNCHWToNHWC-LayoutOptimizer}}]]\nHint: If you want to see a list of allocated tensors when OOM happens, add report_tensor_allocations_upon_oom to RunOptions for current allocation info.\n [Op:__inference_predict_function_61256]\n\nFunction call stack:\npredict_function\n",
     "output_type": "error",
     "traceback": [
      "\u001b[0;31m---------------------------------------------------------------------------\u001b[0m",
      "\u001b[0;31mResourceExhaustedError\u001b[0m                    Traceback (most recent call last)",
      "\u001b[0;32m<ipython-input-45-a00eba17ace1>\u001b[0m in \u001b[0;36m<module>\u001b[0;34m\u001b[0m\n\u001b[1;32m      6\u001b[0m \u001b[0;31m# Get all the activations by calling the predict() method on the training generator\u001b[0m\u001b[0;34m\u001b[0m\u001b[0;34m\u001b[0m\u001b[0;34m\u001b[0m\u001b[0m\n\u001b[1;32m      7\u001b[0m \u001b[0;31m# Make sure to reshape the image so it has a new 0 axis of length 1 (training_gen takes care of this)\u001b[0m\u001b[0;34m\u001b[0m\u001b[0;34m\u001b[0m\u001b[0;34m\u001b[0m\u001b[0m\n\u001b[0;32m----> 8\u001b[0;31m \u001b[0mactivations\u001b[0m \u001b[0;34m=\u001b[0m \u001b[0mactivation_model\u001b[0m\u001b[0;34m.\u001b[0m\u001b[0mpredict\u001b[0m\u001b[0;34m(\u001b[0m\u001b[0mtrain_gen\u001b[0m\u001b[0;34m)\u001b[0m\u001b[0;34m\u001b[0m\u001b[0;34m\u001b[0m\u001b[0m\n\u001b[0m",
      "\u001b[0;32m/opt/conda/lib/python3.8/site-packages/tensorflow/python/keras/engine/training.py\u001b[0m in \u001b[0;36mpredict\u001b[0;34m(self, x, batch_size, verbose, steps, callbacks, max_queue_size, workers, use_multiprocessing)\u001b[0m\n\u001b[1;32m   1627\u001b[0m           \u001b[0;32mfor\u001b[0m \u001b[0mstep\u001b[0m \u001b[0;32min\u001b[0m \u001b[0mdata_handler\u001b[0m\u001b[0;34m.\u001b[0m\u001b[0msteps\u001b[0m\u001b[0;34m(\u001b[0m\u001b[0;34m)\u001b[0m\u001b[0;34m:\u001b[0m\u001b[0;34m\u001b[0m\u001b[0;34m\u001b[0m\u001b[0m\n\u001b[1;32m   1628\u001b[0m             \u001b[0mcallbacks\u001b[0m\u001b[0;34m.\u001b[0m\u001b[0mon_predict_batch_begin\u001b[0m\u001b[0;34m(\u001b[0m\u001b[0mstep\u001b[0m\u001b[0;34m)\u001b[0m\u001b[0;34m\u001b[0m\u001b[0;34m\u001b[0m\u001b[0m\n\u001b[0;32m-> 1629\u001b[0;31m             \u001b[0mtmp_batch_outputs\u001b[0m \u001b[0;34m=\u001b[0m \u001b[0mself\u001b[0m\u001b[0;34m.\u001b[0m\u001b[0mpredict_function\u001b[0m\u001b[0;34m(\u001b[0m\u001b[0miterator\u001b[0m\u001b[0;34m)\u001b[0m\u001b[0;34m\u001b[0m\u001b[0;34m\u001b[0m\u001b[0m\n\u001b[0m\u001b[1;32m   1630\u001b[0m             \u001b[0;32mif\u001b[0m \u001b[0mdata_handler\u001b[0m\u001b[0;34m.\u001b[0m\u001b[0mshould_sync\u001b[0m\u001b[0;34m:\u001b[0m\u001b[0;34m\u001b[0m\u001b[0;34m\u001b[0m\u001b[0m\n\u001b[1;32m   1631\u001b[0m               \u001b[0mcontext\u001b[0m\u001b[0;34m.\u001b[0m\u001b[0masync_wait\u001b[0m\u001b[0;34m(\u001b[0m\u001b[0;34m)\u001b[0m\u001b[0;34m\u001b[0m\u001b[0;34m\u001b[0m\u001b[0m\n",
      "\u001b[0;32m/opt/conda/lib/python3.8/site-packages/tensorflow/python/eager/def_function.py\u001b[0m in \u001b[0;36m__call__\u001b[0;34m(self, *args, **kwds)\u001b[0m\n\u001b[1;32m    826\u001b[0m     \u001b[0mtracing_count\u001b[0m \u001b[0;34m=\u001b[0m \u001b[0mself\u001b[0m\u001b[0;34m.\u001b[0m\u001b[0mexperimental_get_tracing_count\u001b[0m\u001b[0;34m(\u001b[0m\u001b[0;34m)\u001b[0m\u001b[0;34m\u001b[0m\u001b[0;34m\u001b[0m\u001b[0m\n\u001b[1;32m    827\u001b[0m     \u001b[0;32mwith\u001b[0m \u001b[0mtrace\u001b[0m\u001b[0;34m.\u001b[0m\u001b[0mTrace\u001b[0m\u001b[0;34m(\u001b[0m\u001b[0mself\u001b[0m\u001b[0;34m.\u001b[0m\u001b[0m_name\u001b[0m\u001b[0;34m)\u001b[0m \u001b[0;32mas\u001b[0m \u001b[0mtm\u001b[0m\u001b[0;34m:\u001b[0m\u001b[0;34m\u001b[0m\u001b[0;34m\u001b[0m\u001b[0m\n\u001b[0;32m--> 828\u001b[0;31m       \u001b[0mresult\u001b[0m \u001b[0;34m=\u001b[0m \u001b[0mself\u001b[0m\u001b[0;34m.\u001b[0m\u001b[0m_call\u001b[0m\u001b[0;34m(\u001b[0m\u001b[0;34m*\u001b[0m\u001b[0margs\u001b[0m\u001b[0;34m,\u001b[0m \u001b[0;34m**\u001b[0m\u001b[0mkwds\u001b[0m\u001b[0;34m)\u001b[0m\u001b[0;34m\u001b[0m\u001b[0;34m\u001b[0m\u001b[0m\n\u001b[0m\u001b[1;32m    829\u001b[0m       \u001b[0mcompiler\u001b[0m \u001b[0;34m=\u001b[0m \u001b[0;34m\"xla\"\u001b[0m \u001b[0;32mif\u001b[0m \u001b[0mself\u001b[0m\u001b[0;34m.\u001b[0m\u001b[0m_experimental_compile\u001b[0m \u001b[0;32melse\u001b[0m \u001b[0;34m\"nonXla\"\u001b[0m\u001b[0;34m\u001b[0m\u001b[0;34m\u001b[0m\u001b[0m\n\u001b[1;32m    830\u001b[0m       \u001b[0mnew_tracing_count\u001b[0m \u001b[0;34m=\u001b[0m \u001b[0mself\u001b[0m\u001b[0;34m.\u001b[0m\u001b[0mexperimental_get_tracing_count\u001b[0m\u001b[0;34m(\u001b[0m\u001b[0;34m)\u001b[0m\u001b[0;34m\u001b[0m\u001b[0;34m\u001b[0m\u001b[0m\n",
      "\u001b[0;32m/opt/conda/lib/python3.8/site-packages/tensorflow/python/eager/def_function.py\u001b[0m in \u001b[0;36m_call\u001b[0;34m(self, *args, **kwds)\u001b[0m\n\u001b[1;32m    892\u001b[0m               *args, **kwds)\n\u001b[1;32m    893\u001b[0m       \u001b[0;31m# If we did not create any variables the trace we have is good enough.\u001b[0m\u001b[0;34m\u001b[0m\u001b[0;34m\u001b[0m\u001b[0;34m\u001b[0m\u001b[0m\n\u001b[0;32m--> 894\u001b[0;31m       return self._concrete_stateful_fn._call_flat(\n\u001b[0m\u001b[1;32m    895\u001b[0m           filtered_flat_args, self._concrete_stateful_fn.captured_inputs)  # pylint: disable=protected-access\n\u001b[1;32m    896\u001b[0m \u001b[0;34m\u001b[0m\u001b[0m\n",
      "\u001b[0;32m/opt/conda/lib/python3.8/site-packages/tensorflow/python/eager/function.py\u001b[0m in \u001b[0;36m_call_flat\u001b[0;34m(self, args, captured_inputs, cancellation_manager)\u001b[0m\n\u001b[1;32m   1916\u001b[0m         and executing_eagerly):\n\u001b[1;32m   1917\u001b[0m       \u001b[0;31m# No tape is watching; skip to running the function.\u001b[0m\u001b[0;34m\u001b[0m\u001b[0;34m\u001b[0m\u001b[0;34m\u001b[0m\u001b[0m\n\u001b[0;32m-> 1918\u001b[0;31m       return self._build_call_outputs(self._inference_function.call(\n\u001b[0m\u001b[1;32m   1919\u001b[0m           ctx, args, cancellation_manager=cancellation_manager))\n\u001b[1;32m   1920\u001b[0m     forward_backward = self._select_forward_and_backward_functions(\n",
      "\u001b[0;32m/opt/conda/lib/python3.8/site-packages/tensorflow/python/eager/function.py\u001b[0m in \u001b[0;36mcall\u001b[0;34m(self, ctx, args, cancellation_manager)\u001b[0m\n\u001b[1;32m    553\u001b[0m       \u001b[0;32mwith\u001b[0m \u001b[0m_InterpolateFunctionError\u001b[0m\u001b[0;34m(\u001b[0m\u001b[0mself\u001b[0m\u001b[0;34m)\u001b[0m\u001b[0;34m:\u001b[0m\u001b[0;34m\u001b[0m\u001b[0;34m\u001b[0m\u001b[0m\n\u001b[1;32m    554\u001b[0m         \u001b[0;32mif\u001b[0m \u001b[0mcancellation_manager\u001b[0m \u001b[0;32mis\u001b[0m \u001b[0;32mNone\u001b[0m\u001b[0;34m:\u001b[0m\u001b[0;34m\u001b[0m\u001b[0;34m\u001b[0m\u001b[0m\n\u001b[0;32m--> 555\u001b[0;31m           outputs = execute.execute(\n\u001b[0m\u001b[1;32m    556\u001b[0m               \u001b[0mstr\u001b[0m\u001b[0;34m(\u001b[0m\u001b[0mself\u001b[0m\u001b[0;34m.\u001b[0m\u001b[0msignature\u001b[0m\u001b[0;34m.\u001b[0m\u001b[0mname\u001b[0m\u001b[0;34m)\u001b[0m\u001b[0;34m,\u001b[0m\u001b[0;34m\u001b[0m\u001b[0;34m\u001b[0m\u001b[0m\n\u001b[1;32m    557\u001b[0m               \u001b[0mnum_outputs\u001b[0m\u001b[0;34m=\u001b[0m\u001b[0mself\u001b[0m\u001b[0;34m.\u001b[0m\u001b[0m_num_outputs\u001b[0m\u001b[0;34m,\u001b[0m\u001b[0;34m\u001b[0m\u001b[0;34m\u001b[0m\u001b[0m\n",
      "\u001b[0;32m/opt/conda/lib/python3.8/site-packages/tensorflow/python/eager/execute.py\u001b[0m in \u001b[0;36mquick_execute\u001b[0;34m(op_name, num_outputs, inputs, attrs, ctx, name)\u001b[0m\n\u001b[1;32m     57\u001b[0m   \u001b[0;32mtry\u001b[0m\u001b[0;34m:\u001b[0m\u001b[0;34m\u001b[0m\u001b[0;34m\u001b[0m\u001b[0m\n\u001b[1;32m     58\u001b[0m     \u001b[0mctx\u001b[0m\u001b[0;34m.\u001b[0m\u001b[0mensure_initialized\u001b[0m\u001b[0;34m(\u001b[0m\u001b[0;34m)\u001b[0m\u001b[0;34m\u001b[0m\u001b[0;34m\u001b[0m\u001b[0m\n\u001b[0;32m---> 59\u001b[0;31m     tensors = pywrap_tfe.TFE_Py_Execute(ctx._handle, device_name, op_name,\n\u001b[0m\u001b[1;32m     60\u001b[0m                                         inputs, attrs, num_outputs)\n\u001b[1;32m     61\u001b[0m   \u001b[0;32mexcept\u001b[0m \u001b[0mcore\u001b[0m\u001b[0;34m.\u001b[0m\u001b[0m_NotOkStatusException\u001b[0m \u001b[0;32mas\u001b[0m \u001b[0me\u001b[0m\u001b[0;34m:\u001b[0m\u001b[0;34m\u001b[0m\u001b[0;34m\u001b[0m\u001b[0m\n",
      "\u001b[0;31mResourceExhaustedError\u001b[0m:  OOM when allocating tensor with shape[64,28,28,128] and type float on /job:localhost/replica:0/task:0/device:GPU:0 by allocator GPU_0_bfc\n\t [[{{node Identity_73-0-0-TransposeNCHWToNHWC-LayoutOptimizer}}]]\nHint: If you want to see a list of allocated tensors when OOM happens, add report_tensor_allocations_upon_oom to RunOptions for current allocation info.\n [Op:__inference_predict_function_61256]\n\nFunction call stack:\npredict_function\n"
     ]
    }
   ],
   "source": [
    "# Use a list comprehension to extract the output of each layer in the model\n",
    "layer_outputs = [layer.output for layer in model.layers]\n",
    "# Define a new model with the same input shape as the original model \n",
    "# and layer_outputs as its outputs\n",
    "activation_model = Model(inputs=model.input, outputs=layer_outputs)\n",
    "# Get all the activations by calling the predict() method on the training generator\n",
    "# Make sure to reshape the image so it has a new 0 axis of length 1 (training_gen takes care of this)\n",
    "activations = activation_model.predict(train_gen)"
   ]
  },
  {
   "cell_type": "code",
   "execution_count": null,
   "metadata": {},
   "outputs": [],
   "source": [
    "# what do our layers look like\n",
    "model.layers"
   ]
  },
  {
   "cell_type": "code",
   "execution_count": null,
   "metadata": {},
   "outputs": [],
   "source": [
    "# display the activations\n",
    "display_activation(activations, 8, 8, 1) # height, width, layer"
   ]
  }
 ],
 "metadata": {
  "colab": {
   "name": "ML_for_Computer_Vision.ipynb",
   "provenance": []
  },
  "kernelspec": {
   "display_name": "Python 3",
   "language": "python",
   "name": "python3"
  },
  "language_info": {
   "codemirror_mode": {
    "name": "ipython",
    "version": 3
   },
   "file_extension": ".py",
   "mimetype": "text/x-python",
   "name": "python",
   "nbconvert_exporter": "python",
   "pygments_lexer": "ipython3",
   "version": "3.8.8"
  }
 },
 "nbformat": 4,
 "nbformat_minor": 4
}
