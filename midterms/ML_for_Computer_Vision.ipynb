{
  "cells": [
    {
      "cell_type": "markdown",
      "metadata": {
        "id": "YOp38ejm5-zc"
      },
      "source": [
        "## This assignment is designed for automated pathology detection for Medical Images in a relalistic setup, i.e. each image may have multiple pathologies/disorders. \n",
        "### The goal, for you as an MLE, is to design models and methods to predictively detect pathological images and explain the pathology sites in the image data."
      ]
    },
    {
      "cell_type": "markdown",
      "metadata": {
        "id": "MQC4-tgE5-zj"
      },
      "source": [
        "## Data for this assignment is taken from a Kaggle contest: https://www.kaggle.com/c/vietai-advance-course-retinal-disease-detection/overview\n",
        "Explanation of the data set:\n",
        "The training data set contains 3435 retinal images that represent multiple pathological disorders. The patholgy classes and corresponding labels are: included in 'train.csv' file and each image can have more than one class category (multiple pathologies).\n",
        "The labels for each image are\n",
        "\n",
        "```\n",
        "-opacity (0), \n",
        "-diabetic retinopathy (1), \n",
        "-glaucoma (2),\n",
        "-macular edema (3),\n",
        "-macular degeneration (4),\n",
        "-retinal vascular occlusion (5)\n",
        "-normal (6)\n",
        "```\n",
        "The test data set contains 350 unlabelled images."
      ]
    },
    {
      "cell_type": "markdown",
      "metadata": {
        "id": "ybY-yABV5-zk"
      },
      "source": [
        "# For this assignment, you are working with specialists for Diabetic Retinopathy and Glaucoma only, and your client is interested in a predictive learning model along with feature explanability and self-learning for Diabetic Retinopathy and Glaucoma vs. Normal images.\n",
        "# Design models and methods for the following tasks. Each task should be accompanied by code, plots/images (if applicable), tables (if applicable) and text:\n",
        "## Task 1: Build a classification model for Diabetic Retinopathy and Glaucoma vs normal images. You may consider multi-class classification vs. all-vs-one classification. Clearly state your choice and share details of your model, paremeters and hyper-paramaterization pprocess. (60 points)\n",
        "```\n",
        "a. Perform 70/30 data split and report performance scores on the test data set.\n",
        "b. You can choose to apply any data augmentation strategy. \n",
        "Explain your methods and rationale behind parameter selection.\n",
        "c. Show Training-validation curves to ensure overfitting and underfitting is avoided.\n",
        "```\n",
        "## Task 2: Visualize the heatmap/saliency/features using any method of your choice to demonstrate what regions of interest contribute to Diabetic Retinopathy and Glaucoma, respectively. (25 points)\n",
        "```\n",
        "Submit images/folder of images with heatmaps/features aligned on top of the images, or corresponding bounding boxes, and report what regions of interest in your opinion represent the pathological sites.\n",
        "```\n",
        "\n",
        "## Task 3: Using the unlabelled data set in the 'test' folder augment the training data (semi-supervised learning) and report the variation in classification performance on test data set.(15 points)\n",
        "[You may use any method of your choice, one possible way is mentioned below.] \n",
        "\n",
        "```\n",
        "Hint: \n",
        "a. Train a model using the 'train' split.\n",
        "b. Pass the unlabelled images through the trained model and retrieve the dense layer feature prior to classification layer. Using this dense layer as representative of the image, apply label propagation to retrieve labels correspndng to the unbalelled data.\n",
        "c. Next, concatenate the train data with the unlabelled data (that has now been self labelled) and retrain the network.\n",
        "d. Report classification performance on test data\n",
        "Use the unlabelled test data  to improve classification performance by using a semi-supervised label-propagation/self-labelling approach. (20 points)\n",
        "```\n",
        "\n",
        "## [Hint: If you are wondering how to use the \"dense layer representative of an image\" in step 2, see this exercise that extracts a [1,2048] dense representattive from an image using the InceptionV3 pre-trained model.]\n",
        "https://colab.research.google.com/drive/14-6qRGARgBSj4isZk86zKQtyIT2f9Wu1#scrollTo=_IqraxtP4Ex3\n",
        "\n",
        "\n",
        "## Good Luck!"
      ]
    },
    {
      "cell_type": "code",
      "execution_count": 105,
      "metadata": {},
      "outputs": [
        {
          "name": "stdout",
          "output_type": "stream",
          "text": [
            "TensorFlow Version:  2.6.1\n"
          ]
        }
      ],
      "source": [
        "# General Imports\n",
        "import os               # importing data\n",
        "import sys\n",
        "import numpy as np      # linear algebra\n",
        "import pandas as pd     # data processing, CSV file I/O (e.g. pd.read_csv)\n",
        "\n",
        "# Tensorflow\n",
        "import tensorflow as tf\n",
        "import tensorflow.keras as keras\n",
        "print(\"TensorFlow Version: \", tf.__version__) # In case there are issues with model fitting, I know what version of tensorflow I have\n",
        "\n",
        "# Image Stuff\n",
        "import IPython.display as display\n",
        "import PIL.Image"
      ]
    },
    {
      "cell_type": "markdown",
      "metadata": {},
      "source": [
        "## Task 0: Data Wrangling"
      ]
    },
    {
      "cell_type": "code",
      "execution_count": 106,
      "metadata": {},
      "outputs": [],
      "source": [
        "# Various directory paths for convenience\n",
        "from os.path import dirname, abspath, join, exists\n",
        "\n",
        "PROJECT_DIR = dirname((abspath('')))                            # project directory\n",
        "HIDDEN_FILES_DIR = abspath(join(PROJECT_DIR, 'hidden_files'))   # hidden_files directory (where data is stored)\n",
        "DATA_DIR = abspath(join(HIDDEN_FILES_DIR, 'midterm_data'))      # directory of Data (renamed to midterm_data)\n",
        "TRAIN_DIR = abspath(join(DATA_DIR, 'train'))                    # directory with train data ['train/', 'train.csv']\n",
        "TRAIN_IMAGE_DIR = abspath(join(TRAIN_DIR, 'train'))             # directory with train images (labeled)\n",
        "TEST_IMAGE_DIR = abspath(join(DATA_DIR, 'test', 'test'))        # directory with test images (unlabeled)"
      ]
    },
    {
      "cell_type": "code",
      "execution_count": 107,
      "metadata": {},
      "outputs": [
        {
          "name": "stdout",
          "output_type": "stream",
          "text": [
            "['.DS_Store', 'train', 'train.csv']\n"
          ]
        }
      ],
      "source": [
        "# Unzip midterm data (note, if you are running this, add Data.zip ~ renamed to midterm_data.zip to ../hidden_files/)\n",
        "if not exists(TRAIN_DIR):\n",
        "    data_zip_file_path = join(HIDDEN_FILES_DIR,'midterm_data.zip')\n",
        "    !unzip data_zip_file_path                    # already unzipped, so if this does not work, use below line\n",
        "    #!unzip ../hidden_files/midterm_data.zip     # will have to change this potentially for windowsß\n",
        "\n",
        "print(os.listdir(TRAIN_DIR))\n",
        "# should return ['train', 'train.csv'].\n",
        "# *NOTE: .DS_Store might also appear in this directory if on mac. This file is ignored in the .gitignore."
      ]
    },
    {
      "cell_type": "code",
      "execution_count": 108,
      "metadata": {},
      "outputs": [
        {
          "data": {
            "text/html": [
              "<div>\n",
              "<style scoped>\n",
              "    .dataframe tbody tr th:only-of-type {\n",
              "        vertical-align: middle;\n",
              "    }\n",
              "\n",
              "    .dataframe tbody tr th {\n",
              "        vertical-align: top;\n",
              "    }\n",
              "\n",
              "    .dataframe thead th {\n",
              "        text-align: right;\n",
              "    }\n",
              "</style>\n",
              "<table border=\"1\" class=\"dataframe\">\n",
              "  <thead>\n",
              "    <tr style=\"text-align: right;\">\n",
              "      <th></th>\n",
              "      <th>filename</th>\n",
              "      <th>opacity</th>\n",
              "      <th>diabetic retinopathy</th>\n",
              "      <th>glaucoma</th>\n",
              "      <th>macular edema</th>\n",
              "      <th>macular degeneration</th>\n",
              "      <th>retinal vascular occlusion</th>\n",
              "      <th>normal</th>\n",
              "    </tr>\n",
              "  </thead>\n",
              "  <tbody>\n",
              "    <tr>\n",
              "      <th>0</th>\n",
              "      <td>c24a1b14d253.jpg</td>\n",
              "      <td>0</td>\n",
              "      <td>0</td>\n",
              "      <td>0</td>\n",
              "      <td>0</td>\n",
              "      <td>0</td>\n",
              "      <td>1</td>\n",
              "      <td>0</td>\n",
              "    </tr>\n",
              "    <tr>\n",
              "      <th>1</th>\n",
              "      <td>9ee905a41651.jpg</td>\n",
              "      <td>0</td>\n",
              "      <td>0</td>\n",
              "      <td>0</td>\n",
              "      <td>0</td>\n",
              "      <td>0</td>\n",
              "      <td>1</td>\n",
              "      <td>0</td>\n",
              "    </tr>\n",
              "    <tr>\n",
              "      <th>2</th>\n",
              "      <td>3f58d128caf6.jpg</td>\n",
              "      <td>0</td>\n",
              "      <td>0</td>\n",
              "      <td>1</td>\n",
              "      <td>0</td>\n",
              "      <td>0</td>\n",
              "      <td>0</td>\n",
              "      <td>0</td>\n",
              "    </tr>\n",
              "    <tr>\n",
              "      <th>3</th>\n",
              "      <td>4ce6599e7b20.jpg</td>\n",
              "      <td>1</td>\n",
              "      <td>0</td>\n",
              "      <td>0</td>\n",
              "      <td>0</td>\n",
              "      <td>1</td>\n",
              "      <td>0</td>\n",
              "      <td>0</td>\n",
              "    </tr>\n",
              "    <tr>\n",
              "      <th>4</th>\n",
              "      <td>0def470360e4.jpg</td>\n",
              "      <td>1</td>\n",
              "      <td>0</td>\n",
              "      <td>0</td>\n",
              "      <td>0</td>\n",
              "      <td>1</td>\n",
              "      <td>0</td>\n",
              "      <td>0</td>\n",
              "    </tr>\n",
              "  </tbody>\n",
              "</table>\n",
              "</div>"
            ],
            "text/plain": [
              "           filename  opacity  diabetic retinopathy  glaucoma  macular edema  \\\n",
              "0  c24a1b14d253.jpg        0                     0         0              0   \n",
              "1  9ee905a41651.jpg        0                     0         0              0   \n",
              "2  3f58d128caf6.jpg        0                     0         1              0   \n",
              "3  4ce6599e7b20.jpg        1                     0         0              0   \n",
              "4  0def470360e4.jpg        1                     0         0              0   \n",
              "\n",
              "   macular degeneration  retinal vascular occlusion  normal  \n",
              "0                     0                           1       0  \n",
              "1                     0                           1       0  \n",
              "2                     0                           0       0  \n",
              "3                     1                           0       0  \n",
              "4                     1                           0       0  "
            ]
          },
          "execution_count": 108,
          "metadata": {},
          "output_type": "execute_result"
        }
      ],
      "source": [
        "# Load training data\n",
        "data = pd.read_csv(join(TRAIN_DIR, \"train.csv\"))\n",
        "\n",
        "# Examine first few rows to better understand data\n",
        "data.head()"
      ]
    },
    {
      "cell_type": "code",
      "execution_count": 109,
      "metadata": {},
      "outputs": [
        {
          "name": "stdout",
          "output_type": "stream",
          "text": [
            "<class 'pandas.core.frame.DataFrame'>\n",
            "RangeIndex: 3435 entries, 0 to 3434\n",
            "Data columns (total 8 columns):\n",
            " #   Column                      Non-Null Count  Dtype \n",
            "---  ------                      --------------  ----- \n",
            " 0   filename                    3435 non-null   object\n",
            " 1   opacity                     3435 non-null   int64 \n",
            " 2   diabetic retinopathy        3435 non-null   int64 \n",
            " 3   glaucoma                    3435 non-null   int64 \n",
            " 4   macular edema               3435 non-null   int64 \n",
            " 5   macular degeneration        3435 non-null   int64 \n",
            " 6   retinal vascular occlusion  3435 non-null   int64 \n",
            " 7   normal                      3435 non-null   int64 \n",
            "dtypes: int64(7), object(1)\n",
            "memory usage: 214.8+ KB\n"
          ]
        }
      ],
      "source": [
        "# Take a look a the data types, count\n",
        "data.info(memory_usage=True) # memory usage will tell us how much memory the data takes. Not important for this project, but a cool stat nontheless."
      ]
    },
    {
      "cell_type": "markdown",
      "metadata": {},
      "source": [
        "From an initial inspection, there are additional labels per image that we are not concerned about, namely: opacity, macular edema, macular degeneration, retinal vascular occlusion, and normal. Those labels will be dropped from examples with either diabetic retinopathy and/or glaucoma labels present. Examples without diabetic retinopaty or glaucoma will belong to a third category, other (which will include images with the normal category). This is important so we can have examples which are true negatives i.e. not diabetic retinopathy and/or glaucoma."
      ]
    },
    {
      "cell_type": "markdown",
      "metadata": {},
      "source": [
        "### Visualizing Examples"
      ]
    },
    {
      "cell_type": "markdown",
      "metadata": {},
      "source": [
        "Lets start with visualizing a single image"
      ]
    },
    {
      "cell_type": "code",
      "execution_count": 110,
      "metadata": {},
      "outputs": [
        {
          "data": {
            "image/png": "[encoded data removed]",
            "text/plain": [
              "<PIL.JpegImagePlugin.JpegImageFile image mode=RGB size=512x512 at 0x7FF091E05430>"
            ]
          },
          "metadata": {},
          "output_type": "display_data"
        },
        {
          "name": "stdout",
          "output_type": "stream",
          "text": [
            "**** \t\tImage Labels\t\t ****\n",
            "filename                      ccba56575ab9.jpg\n",
            "opacity                                      0\n",
            "diabetic retinopathy                         1\n",
            "glaucoma                                     0\n",
            "macular edema                                0\n",
            "macular degeneration                         0\n",
            "retinal vascular occlusion                   0\n",
            "normal                                       0\n",
            "Name: 309, dtype: object\n"
          ]
        }
      ],
      "source": [
        "# chose a random retina\n",
        "num = np.random.randint(1, data.shape[0])\n",
        "\n",
        "# display it\n",
        "display.display(PIL.Image.open(join(TRAIN_IMAGE_DIR, data['filename'][num])))\n",
        "\n",
        "# show image labels\n",
        "print(\"**** \\t\\tImage Labels\\t\\t ****\")\n",
        "print(data.iloc[num])"
      ]
    },
    {
      "cell_type": "markdown",
      "metadata": {},
      "source": [
        "\n",
        "## \"It kind of looks like mars\" - Christian \"I'm a bit of a scientist myself\" Welling"
      ]
    },
    {
      "cell_type": "markdown",
      "metadata": {},
      "source": [
        "At this point (since I'm not quite the doctor or eye expert), it is difficult to pick out exactly what features in the image matter yet."
      ]
    },
    {
      "cell_type": "markdown",
      "metadata": {},
      "source": [
        "### Label Distribution\n",
        "Lets look at the distribution of labels. does each example have just one label? Are there examples that share glaucoma and diabetic retinopathy labels?"
      ]
    },
    {
      "cell_type": "code",
      "execution_count": 111,
      "metadata": {},
      "outputs": [
        {
          "name": "stdout",
          "output_type": "stream",
          "text": [
            "Distribution of diabetic retinopathy\n",
            "0    2680\n",
            "1     755\n",
            "Name: diabetic retinopathy, dtype: int64\n",
            "Distribution of glaucoma\n",
            "0    2838\n",
            "1     597\n",
            "Name: glaucoma, dtype: int64\n",
            "Distribution of macular edema\n",
            "0    2919\n",
            "1     516\n",
            "Name: macular edema, dtype: int64\n",
            "Distribution of macular degeneration\n",
            "0    2861\n",
            "1     574\n",
            "Name: macular degeneration, dtype: int64\n",
            "Distribution of retinal vascular occlusion\n",
            "0    2995\n",
            "1     440\n",
            "Name: retinal vascular occlusion, dtype: int64\n",
            "Distribution of normal\n",
            "0    2910\n",
            "1     525\n",
            "Name: normal, dtype: int64\n"
          ]
        }
      ],
      "source": [
        "# distribution of lables with respect to oneanother before we remove and group non glaucoma and diabetic retinopathy labels\n",
        "for label in data.columns[2:]:\n",
        "    print(\"Distribution of\", label)\n",
        "    print(data[label].value_counts())"
      ]
    },
    {
      "cell_type": "markdown",
      "metadata": {},
      "source": [
        "While im not math expert, with a total of only 3435 entries, the only way the math above works out is if more than one label can be 1 for the numerous examples."
      ]
    },
    {
      "cell_type": "markdown",
      "metadata": {},
      "source": [
        "### Updating Data Frame For Our Usecase\n",
        "```\n",
        "1. Remove irrelevant labels\n",
        "2. Group examples without retinopathy and glaucoma into a third class, other (all other label columns, including other, will be replaced with 'other') \n",
        "```"
      ]
    },
    {
      "cell_type": "code",
      "execution_count": 112,
      "metadata": {},
      "outputs": [
        {
          "data": {
            "text/html": [
              "<div>\n",
              "<style scoped>\n",
              "    .dataframe tbody tr th:only-of-type {\n",
              "        vertical-align: middle;\n",
              "    }\n",
              "\n",
              "    .dataframe tbody tr th {\n",
              "        vertical-align: top;\n",
              "    }\n",
              "\n",
              "    .dataframe thead th {\n",
              "        text-align: right;\n",
              "    }\n",
              "</style>\n",
              "<table border=\"1\" class=\"dataframe\">\n",
              "  <thead>\n",
              "    <tr style=\"text-align: right;\">\n",
              "      <th></th>\n",
              "      <th>filename</th>\n",
              "      <th>diabetic retinopathy</th>\n",
              "      <th>glaucoma</th>\n",
              "    </tr>\n",
              "  </thead>\n",
              "  <tbody>\n",
              "    <tr>\n",
              "      <th>0</th>\n",
              "      <td>c24a1b14d253.jpg</td>\n",
              "      <td>0</td>\n",
              "      <td>0</td>\n",
              "    </tr>\n",
              "    <tr>\n",
              "      <th>1</th>\n",
              "      <td>9ee905a41651.jpg</td>\n",
              "      <td>0</td>\n",
              "      <td>0</td>\n",
              "    </tr>\n",
              "    <tr>\n",
              "      <th>2</th>\n",
              "      <td>3f58d128caf6.jpg</td>\n",
              "      <td>0</td>\n",
              "      <td>1</td>\n",
              "    </tr>\n",
              "    <tr>\n",
              "      <th>3</th>\n",
              "      <td>4ce6599e7b20.jpg</td>\n",
              "      <td>0</td>\n",
              "      <td>0</td>\n",
              "    </tr>\n",
              "    <tr>\n",
              "      <th>4</th>\n",
              "      <td>0def470360e4.jpg</td>\n",
              "      <td>0</td>\n",
              "      <td>0</td>\n",
              "    </tr>\n",
              "  </tbody>\n",
              "</table>\n",
              "</div>"
            ],
            "text/plain": [
              "           filename  diabetic retinopathy  glaucoma\n",
              "0  c24a1b14d253.jpg                     0         0\n",
              "1  9ee905a41651.jpg                     0         0\n",
              "2  3f58d128caf6.jpg                     0         1\n",
              "3  4ce6599e7b20.jpg                     0         0\n",
              "4  0def470360e4.jpg                     0         0"
            ]
          },
          "execution_count": 112,
          "metadata": {},
          "output_type": "execute_result"
        }
      ],
      "source": [
        "# drop the columns (labels) that are outside the scope of this problem\n",
        "data = data[['filename','diabetic retinopathy', 'glaucoma']]\n",
        "\n",
        "# quick verification this worked\n",
        "data.head()"
      ]
    },
    {
      "cell_type": "code",
      "execution_count": 113,
      "metadata": {},
      "outputs": [
        {
          "data": {
            "text/html": [
              "<div>\n",
              "<style scoped>\n",
              "    .dataframe tbody tr th:only-of-type {\n",
              "        vertical-align: middle;\n",
              "    }\n",
              "\n",
              "    .dataframe tbody tr th {\n",
              "        vertical-align: top;\n",
              "    }\n",
              "\n",
              "    .dataframe thead th {\n",
              "        text-align: right;\n",
              "    }\n",
              "</style>\n",
              "<table border=\"1\" class=\"dataframe\">\n",
              "  <thead>\n",
              "    <tr style=\"text-align: right;\">\n",
              "      <th></th>\n",
              "      <th>filename</th>\n",
              "      <th>diabetic retinopathy</th>\n",
              "      <th>glaucoma</th>\n",
              "      <th>other</th>\n",
              "    </tr>\n",
              "  </thead>\n",
              "  <tbody>\n",
              "    <tr>\n",
              "      <th>0</th>\n",
              "      <td>c24a1b14d253.jpg</td>\n",
              "      <td>0</td>\n",
              "      <td>0</td>\n",
              "      <td>1</td>\n",
              "    </tr>\n",
              "    <tr>\n",
              "      <th>1</th>\n",
              "      <td>9ee905a41651.jpg</td>\n",
              "      <td>0</td>\n",
              "      <td>0</td>\n",
              "      <td>1</td>\n",
              "    </tr>\n",
              "    <tr>\n",
              "      <th>2</th>\n",
              "      <td>3f58d128caf6.jpg</td>\n",
              "      <td>0</td>\n",
              "      <td>1</td>\n",
              "      <td>0</td>\n",
              "    </tr>\n",
              "    <tr>\n",
              "      <th>3</th>\n",
              "      <td>4ce6599e7b20.jpg</td>\n",
              "      <td>0</td>\n",
              "      <td>0</td>\n",
              "      <td>1</td>\n",
              "    </tr>\n",
              "    <tr>\n",
              "      <th>4</th>\n",
              "      <td>0def470360e4.jpg</td>\n",
              "      <td>0</td>\n",
              "      <td>0</td>\n",
              "      <td>1</td>\n",
              "    </tr>\n",
              "    <tr>\n",
              "      <th>5</th>\n",
              "      <td>e80c3ba691f9.jpg</td>\n",
              "      <td>0</td>\n",
              "      <td>0</td>\n",
              "      <td>1</td>\n",
              "    </tr>\n",
              "    <tr>\n",
              "      <th>6</th>\n",
              "      <td>37b8fa3b6dce.jpg</td>\n",
              "      <td>0</td>\n",
              "      <td>0</td>\n",
              "      <td>1</td>\n",
              "    </tr>\n",
              "    <tr>\n",
              "      <th>7</th>\n",
              "      <td>b5740f9b3508.jpg</td>\n",
              "      <td>0</td>\n",
              "      <td>0</td>\n",
              "      <td>1</td>\n",
              "    </tr>\n",
              "    <tr>\n",
              "      <th>8</th>\n",
              "      <td>d7596283f399.jpg</td>\n",
              "      <td>0</td>\n",
              "      <td>0</td>\n",
              "      <td>1</td>\n",
              "    </tr>\n",
              "    <tr>\n",
              "      <th>9</th>\n",
              "      <td>1083d0bd0ff8.jpg</td>\n",
              "      <td>0</td>\n",
              "      <td>0</td>\n",
              "      <td>1</td>\n",
              "    </tr>\n",
              "  </tbody>\n",
              "</table>\n",
              "</div>"
            ],
            "text/plain": [
              "           filename  diabetic retinopathy  glaucoma  other\n",
              "0  c24a1b14d253.jpg                     0         0      1\n",
              "1  9ee905a41651.jpg                     0         0      1\n",
              "2  3f58d128caf6.jpg                     0         1      0\n",
              "3  4ce6599e7b20.jpg                     0         0      1\n",
              "4  0def470360e4.jpg                     0         0      1\n",
              "5  e80c3ba691f9.jpg                     0         0      1\n",
              "6  37b8fa3b6dce.jpg                     0         0      1\n",
              "7  b5740f9b3508.jpg                     0         0      1\n",
              "8  d7596283f399.jpg                     0         0      1\n",
              "9  1083d0bd0ff8.jpg                     0         0      1"
            ]
          },
          "execution_count": 113,
          "metadata": {},
          "output_type": "execute_result"
        }
      ],
      "source": [
        "# add third label 'other' to account for examples which are not diabetic retinopathy or glaucoma\n",
        "data['other'] = 0\n",
        "data['other'] = ((data['glaucoma'] == 0) & (data['diabetic retinopathy'] == 0)).astype(int)\n",
        "data.head(10)       # lets see a few more examples"
      ]
    },
    {
      "cell_type": "code",
      "execution_count": 114,
      "metadata": {},
      "outputs": [
        {
          "name": "stdout",
          "output_type": "stream",
          "text": [
            "<class 'pandas.core.frame.DataFrame'>\n",
            "RangeIndex: 3435 entries, 0 to 3434\n",
            "Data columns (total 4 columns):\n",
            " #   Column                Non-Null Count  Dtype \n",
            "---  ------                --------------  ----- \n",
            " 0   filename              3435 non-null   object\n",
            " 1   diabetic retinopathy  3435 non-null   int64 \n",
            " 2   glaucoma              3435 non-null   int64 \n",
            " 3   other                 3435 non-null   int64 \n",
            "dtypes: int64(3), object(1)\n",
            "memory usage: 107.5+ KB\n",
            "Distribution of diabetic retinopathy\n",
            "0    2680\n",
            "1     755\n",
            "Name: diabetic retinopathy, dtype: int64\n",
            "Distribution of glaucoma\n",
            "0    2838\n",
            "1     597\n",
            "Name: glaucoma, dtype: int64\n",
            "Distribution of other\n",
            "1    2102\n",
            "0    1333\n",
            "Name: other, dtype: int64\n"
          ]
        }
      ],
      "source": [
        "# new distribution of labels\n",
        "data.info()\n",
        "for label in data.columns[1:]:\n",
        "    print(\"Distribution of\", label)\n",
        "    print(data[label].value_counts())"
      ]
    },
    {
      "cell_type": "code",
      "execution_count": 115,
      "metadata": {},
      "outputs": [
        {
          "name": "stdout",
          "output_type": "stream",
          "text": [
            "other                            2102\n",
            "diabetic retinopathy              736\n",
            "glaucoma                          578\n",
            "diabetic retinopathy,glaucoma      19\n",
            "dtype: int64\n",
            "Total Number of Examples: 3435\n"
          ]
        }
      ],
      "source": [
        "# verify math works out (number of classes present adds up to total number of examples)\n",
        "LABELS = data.columns[1:]                                                                   # will reference throughout notebook\n",
        "def build_label(row):\n",
        "    return \",\".join([labels[idx] for idx, val in enumerate(row[1:]) if val == 1])\n",
        "        \n",
        "print(data.apply(lambda x: build_label(x), axis=1).value_counts())\n",
        "print(f'Total Number of Examples: {data.shape[0]}')"
      ]
    },
    {
      "cell_type": "markdown",
      "metadata": {
        "id": "kA22LsLx5-zl"
      },
      "source": [
        "## Task 1: Classification of Diabetic Retanopathy and Glaucoma vs Normal (Other <- Our label name) Images:\n",
        "\n",
        "```\n",
        "a. Perform 70/30 data split and report performance scores on the test data set.\n",
        "b. You can choose to apply any data augmentation strategy. \n",
        "Explain your methods and rationale behind parameter selection.\n",
        "c. Show Training-validation curves to ensure overfitting and underfitting is avoided.\n",
        "```"
      ]
    },
    {
      "cell_type": "markdown",
      "metadata": {},
      "source": [
        "### Options: Multi-class vs. all-vs-one model\n",
        "\n",
        "**Multi-Class:**\n",
        "1. can use one-hot-encoding approach to generate probabilities for multiple classes\n",
        "2. easier to add additional classifications schemes\n",
        "\n",
        "**All-vs-one:**\n",
        "1. will probably need more than one model for each class trying to identify.\n",
        "2. Can probabably share some of the eariler NN (transfer learning) for each model."
      ]
    },
    {
      "cell_type": "markdown",
      "metadata": {},
      "source": [
        "### Expert analysis and decision making:\n",
        "\n",
        "```\n",
        "me at 3:00 am:  If i am understanding this correctly, option 2 requires more than one model...I think we know what choice I am going with...\n",
        "\n",
        "also me:        ...Multi-Class...its Multi-Class...\n",
        "\n",
        "again, me:      Ain't nobody got time for more than one model.\n",
        "\n",
        "me?:            Wait...Surely, Multi-Class is more accurate...right?\n",
        "```"
      ]
    },
    {
      "cell_type": "markdown",
      "metadata": {},
      "source": [
        "### Split Data Into Training & Validation Sets\n",
        "```\n",
        "* Use a 70/30 data split\n",
        "```"
      ]
    },
    {
      "cell_type": "code",
      "execution_count": 116,
      "metadata": {},
      "outputs": [],
      "source": [
        "from sklearn.model_selection import train_test_split"
      ]
    },
    {
      "cell_type": "code",
      "execution_count": 117,
      "metadata": {},
      "outputs": [],
      "source": [
        "# split data into test/validation sets and make it a tensor\n",
        "train_data, validation_data = train_test_split(data, test_size=0.3, random_state=42) # 42 is the meaning of life"
      ]
    },
    {
      "cell_type": "code",
      "execution_count": 118,
      "metadata": {},
      "outputs": [
        {
          "name": "stdout",
          "output_type": "stream",
          "text": [
            "Training Data Shape: (2404, 4)\n"
          ]
        },
        {
          "data": {
            "text/html": [
              "<div>\n",
              "<style scoped>\n",
              "    .dataframe tbody tr th:only-of-type {\n",
              "        vertical-align: middle;\n",
              "    }\n",
              "\n",
              "    .dataframe tbody tr th {\n",
              "        vertical-align: top;\n",
              "    }\n",
              "\n",
              "    .dataframe thead th {\n",
              "        text-align: right;\n",
              "    }\n",
              "</style>\n",
              "<table border=\"1\" class=\"dataframe\">\n",
              "  <thead>\n",
              "    <tr style=\"text-align: right;\">\n",
              "      <th></th>\n",
              "      <th>filename</th>\n",
              "      <th>diabetic retinopathy</th>\n",
              "      <th>glaucoma</th>\n",
              "      <th>other</th>\n",
              "    </tr>\n",
              "  </thead>\n",
              "  <tbody>\n",
              "    <tr>\n",
              "      <th>1431</th>\n",
              "      <td>8ce79b47bb8e.jpg</td>\n",
              "      <td>1</td>\n",
              "      <td>0</td>\n",
              "      <td>0</td>\n",
              "    </tr>\n",
              "    <tr>\n",
              "      <th>3353</th>\n",
              "      <td>97d752293c76.jpg</td>\n",
              "      <td>0</td>\n",
              "      <td>0</td>\n",
              "      <td>1</td>\n",
              "    </tr>\n",
              "    <tr>\n",
              "      <th>1864</th>\n",
              "      <td>f55fe90b5359.jpg</td>\n",
              "      <td>0</td>\n",
              "      <td>0</td>\n",
              "      <td>1</td>\n",
              "    </tr>\n",
              "    <tr>\n",
              "      <th>2573</th>\n",
              "      <td>2da0cd28c0a1.jpg</td>\n",
              "      <td>1</td>\n",
              "      <td>0</td>\n",
              "      <td>0</td>\n",
              "    </tr>\n",
              "    <tr>\n",
              "      <th>2894</th>\n",
              "      <td>8cd457a348bc.jpg</td>\n",
              "      <td>0</td>\n",
              "      <td>1</td>\n",
              "      <td>0</td>\n",
              "    </tr>\n",
              "    <tr>\n",
              "      <th>994</th>\n",
              "      <td>fe85c499a133.jpg</td>\n",
              "      <td>0</td>\n",
              "      <td>1</td>\n",
              "      <td>0</td>\n",
              "    </tr>\n",
              "    <tr>\n",
              "      <th>464</th>\n",
              "      <td>c7a4cc0ea725.jpg</td>\n",
              "      <td>0</td>\n",
              "      <td>1</td>\n",
              "      <td>0</td>\n",
              "    </tr>\n",
              "    <tr>\n",
              "      <th>2431</th>\n",
              "      <td>73a0537586f9.jpg</td>\n",
              "      <td>1</td>\n",
              "      <td>1</td>\n",
              "      <td>0</td>\n",
              "    </tr>\n",
              "    <tr>\n",
              "      <th>2750</th>\n",
              "      <td>b09d3011b063.jpg</td>\n",
              "      <td>1</td>\n",
              "      <td>0</td>\n",
              "      <td>0</td>\n",
              "    </tr>\n",
              "    <tr>\n",
              "      <th>3338</th>\n",
              "      <td>d4ef9a6f3fa2.jpg</td>\n",
              "      <td>0</td>\n",
              "      <td>0</td>\n",
              "      <td>1</td>\n",
              "    </tr>\n",
              "  </tbody>\n",
              "</table>\n",
              "</div>"
            ],
            "text/plain": [
              "              filename  diabetic retinopathy  glaucoma  other\n",
              "1431  8ce79b47bb8e.jpg                     1         0      0\n",
              "3353  97d752293c76.jpg                     0         0      1\n",
              "1864  f55fe90b5359.jpg                     0         0      1\n",
              "2573  2da0cd28c0a1.jpg                     1         0      0\n",
              "2894  8cd457a348bc.jpg                     0         1      0\n",
              "994   fe85c499a133.jpg                     0         1      0\n",
              "464   c7a4cc0ea725.jpg                     0         1      0\n",
              "2431  73a0537586f9.jpg                     1         1      0\n",
              "2750  b09d3011b063.jpg                     1         0      0\n",
              "3338  d4ef9a6f3fa2.jpg                     0         0      1"
            ]
          },
          "execution_count": 118,
          "metadata": {},
          "output_type": "execute_result"
        }
      ],
      "source": [
        "# taking a peek at train_data\n",
        "print(f\"Training Data Shape: {train_data.shape}\")\n",
        "train_data.head(10) # still a tensor"
      ]
    },
    {
      "cell_type": "code",
      "execution_count": 119,
      "metadata": {},
      "outputs": [
        {
          "name": "stdout",
          "output_type": "stream",
          "text": [
            "Validation Data Shape: (1031, 4)\n"
          ]
        },
        {
          "data": {
            "text/html": [
              "<div>\n",
              "<style scoped>\n",
              "    .dataframe tbody tr th:only-of-type {\n",
              "        vertical-align: middle;\n",
              "    }\n",
              "\n",
              "    .dataframe tbody tr th {\n",
              "        vertical-align: top;\n",
              "    }\n",
              "\n",
              "    .dataframe thead th {\n",
              "        text-align: right;\n",
              "    }\n",
              "</style>\n",
              "<table border=\"1\" class=\"dataframe\">\n",
              "  <thead>\n",
              "    <tr style=\"text-align: right;\">\n",
              "      <th></th>\n",
              "      <th>filename</th>\n",
              "      <th>diabetic retinopathy</th>\n",
              "      <th>glaucoma</th>\n",
              "      <th>other</th>\n",
              "    </tr>\n",
              "  </thead>\n",
              "  <tbody>\n",
              "    <tr>\n",
              "      <th>1713</th>\n",
              "      <td>338d390b0d66.jpg</td>\n",
              "      <td>0</td>\n",
              "      <td>1</td>\n",
              "      <td>0</td>\n",
              "    </tr>\n",
              "    <tr>\n",
              "      <th>1637</th>\n",
              "      <td>fecbf8136bd5.jpg</td>\n",
              "      <td>0</td>\n",
              "      <td>0</td>\n",
              "      <td>1</td>\n",
              "    </tr>\n",
              "    <tr>\n",
              "      <th>929</th>\n",
              "      <td>87d08361bcbc.jpg</td>\n",
              "      <td>0</td>\n",
              "      <td>0</td>\n",
              "      <td>1</td>\n",
              "    </tr>\n",
              "    <tr>\n",
              "      <th>2966</th>\n",
              "      <td>da0d0c7e9336.jpg</td>\n",
              "      <td>0</td>\n",
              "      <td>0</td>\n",
              "      <td>1</td>\n",
              "    </tr>\n",
              "    <tr>\n",
              "      <th>203</th>\n",
              "      <td>4271f6a1bc34.jpg</td>\n",
              "      <td>0</td>\n",
              "      <td>0</td>\n",
              "      <td>1</td>\n",
              "    </tr>\n",
              "    <tr>\n",
              "      <th>1494</th>\n",
              "      <td>ac713827c7cb.jpg</td>\n",
              "      <td>0</td>\n",
              "      <td>0</td>\n",
              "      <td>1</td>\n",
              "    </tr>\n",
              "    <tr>\n",
              "      <th>2380</th>\n",
              "      <td>19a39631f0b2.jpg</td>\n",
              "      <td>0</td>\n",
              "      <td>1</td>\n",
              "      <td>0</td>\n",
              "    </tr>\n",
              "    <tr>\n",
              "      <th>1465</th>\n",
              "      <td>92cd7989f9ff.jpg</td>\n",
              "      <td>0</td>\n",
              "      <td>0</td>\n",
              "      <td>1</td>\n",
              "    </tr>\n",
              "    <tr>\n",
              "      <th>557</th>\n",
              "      <td>76cdc6a3e9a9.jpg</td>\n",
              "      <td>0</td>\n",
              "      <td>0</td>\n",
              "      <td>1</td>\n",
              "    </tr>\n",
              "    <tr>\n",
              "      <th>567</th>\n",
              "      <td>6ef741ba4c43.jpg</td>\n",
              "      <td>1</td>\n",
              "      <td>0</td>\n",
              "      <td>0</td>\n",
              "    </tr>\n",
              "  </tbody>\n",
              "</table>\n",
              "</div>"
            ],
            "text/plain": [
              "              filename  diabetic retinopathy  glaucoma  other\n",
              "1713  338d390b0d66.jpg                     0         1      0\n",
              "1637  fecbf8136bd5.jpg                     0         0      1\n",
              "929   87d08361bcbc.jpg                     0         0      1\n",
              "2966  da0d0c7e9336.jpg                     0         0      1\n",
              "203   4271f6a1bc34.jpg                     0         0      1\n",
              "1494  ac713827c7cb.jpg                     0         0      1\n",
              "2380  19a39631f0b2.jpg                     0         1      0\n",
              "1465  92cd7989f9ff.jpg                     0         0      1\n",
              "557   76cdc6a3e9a9.jpg                     0         0      1\n",
              "567   6ef741ba4c43.jpg                     1         0      0"
            ]
          },
          "execution_count": 119,
          "metadata": {},
          "output_type": "execute_result"
        }
      ],
      "source": [
        "# taking a peek at validation_data (shhh, don't tell anyone)\n",
        "print(f\"Validation Data Shape: {validation_data.shape}\")\n",
        "validation_data.head(10) # still a tensor"
      ]
    },
    {
      "cell_type": "markdown",
      "metadata": {},
      "source": [
        "### Data Augmentation\n",
        "```\n",
        "See below for expert -- critically acclaimed -- strategy\n",
        "```"
      ]
    },
    {
      "cell_type": "markdown",
      "metadata": {},
      "source": [
        "## \"Totally not just going to rip the data generator and augmentation from some previous UNet assignment because it worked there...\" - Christian \"I would never\" Welling"
      ]
    },
    {
      "cell_type": "code",
      "execution_count": 120,
      "metadata": {},
      "outputs": [],
      "source": [
        "# lift code from MLE for training generator & data augmentation. use unet-helper functions and lift directly. \n",
        "# unet-helper functions -> prints out metrics later when I need it "
      ]
    },
    {
      "cell_type": "code",
      "execution_count": 121,
      "metadata": {},
      "outputs": [],
      "source": [
        "from tensorflow.keras.preprocessing.image import ImageDataGenerator"
      ]
    },
    {
      "cell_type": "code",
      "execution_count": 122,
      "metadata": {},
      "outputs": [],
      "source": [
        "# data generation and augmentation...wow where have we seen this before???\n",
        "data_gen_args = dict( \n",
        "    rescale=1./255,\n",
        "    featurewise_center=True,\n",
        "    featurewise_std_normalization=True,\n",
        "    rotation_range=10.,\n",
        "    width_shift_range=0.05,\n",
        "    height_shift_range=0.05,\n",
        "    zoom_range=0.2,\n",
        "    channel_shift_range=0.05,\n",
        "    horizontal_flip=True,\n",
        "    vertical_flip=True,\n",
        "    fill_mode='constant',\n",
        "    data_format=\"channels_last\",\n",
        ")\n",
        "train_datagen = ImageDataGenerator(**data_gen_args)"
      ]
    },
    {
      "cell_type": "code",
      "execution_count": 123,
      "metadata": {},
      "outputs": [],
      "source": [
        "# One-hot-encode labels \n",
        "def build_label_list(row):\n",
        "    return [LABELS[idx] for idx, val in enumerate(row[1:]) if val == 1]                 # labels was defined earlier\n",
        "        \n",
        "train_data[\"label\"] = train_data.apply(lambda x: build_label_list(x), axis=1)\n",
        "validation_data[\"label\"] = validation_data.apply(lambda x: build_label_list(x), axis=1)"
      ]
    },
    {
      "cell_type": "code",
      "execution_count": 124,
      "metadata": {},
      "outputs": [
        {
          "name": "stdout",
          "output_type": "stream",
          "text": [
            "Training Data:\n"
          ]
        },
        {
          "data": {
            "text/html": [
              "<div>\n",
              "<style scoped>\n",
              "    .dataframe tbody tr th:only-of-type {\n",
              "        vertical-align: middle;\n",
              "    }\n",
              "\n",
              "    .dataframe tbody tr th {\n",
              "        vertical-align: top;\n",
              "    }\n",
              "\n",
              "    .dataframe thead th {\n",
              "        text-align: right;\n",
              "    }\n",
              "</style>\n",
              "<table border=\"1\" class=\"dataframe\">\n",
              "  <thead>\n",
              "    <tr style=\"text-align: right;\">\n",
              "      <th></th>\n",
              "      <th>filename</th>\n",
              "      <th>diabetic retinopathy</th>\n",
              "      <th>glaucoma</th>\n",
              "      <th>other</th>\n",
              "      <th>label</th>\n",
              "    </tr>\n",
              "  </thead>\n",
              "  <tbody>\n",
              "    <tr>\n",
              "      <th>1431</th>\n",
              "      <td>8ce79b47bb8e.jpg</td>\n",
              "      <td>1</td>\n",
              "      <td>0</td>\n",
              "      <td>0</td>\n",
              "      <td>[diabetic retinopathy]</td>\n",
              "    </tr>\n",
              "    <tr>\n",
              "      <th>3353</th>\n",
              "      <td>97d752293c76.jpg</td>\n",
              "      <td>0</td>\n",
              "      <td>0</td>\n",
              "      <td>1</td>\n",
              "      <td>[other]</td>\n",
              "    </tr>\n",
              "    <tr>\n",
              "      <th>1864</th>\n",
              "      <td>f55fe90b5359.jpg</td>\n",
              "      <td>0</td>\n",
              "      <td>0</td>\n",
              "      <td>1</td>\n",
              "      <td>[other]</td>\n",
              "    </tr>\n",
              "    <tr>\n",
              "      <th>2573</th>\n",
              "      <td>2da0cd28c0a1.jpg</td>\n",
              "      <td>1</td>\n",
              "      <td>0</td>\n",
              "      <td>0</td>\n",
              "      <td>[diabetic retinopathy]</td>\n",
              "    </tr>\n",
              "    <tr>\n",
              "      <th>2894</th>\n",
              "      <td>8cd457a348bc.jpg</td>\n",
              "      <td>0</td>\n",
              "      <td>1</td>\n",
              "      <td>0</td>\n",
              "      <td>[glaucoma]</td>\n",
              "    </tr>\n",
              "    <tr>\n",
              "      <th>994</th>\n",
              "      <td>fe85c499a133.jpg</td>\n",
              "      <td>0</td>\n",
              "      <td>1</td>\n",
              "      <td>0</td>\n",
              "      <td>[glaucoma]</td>\n",
              "    </tr>\n",
              "    <tr>\n",
              "      <th>464</th>\n",
              "      <td>c7a4cc0ea725.jpg</td>\n",
              "      <td>0</td>\n",
              "      <td>1</td>\n",
              "      <td>0</td>\n",
              "      <td>[glaucoma]</td>\n",
              "    </tr>\n",
              "    <tr>\n",
              "      <th>2431</th>\n",
              "      <td>73a0537586f9.jpg</td>\n",
              "      <td>1</td>\n",
              "      <td>1</td>\n",
              "      <td>0</td>\n",
              "      <td>[diabetic retinopathy, glaucoma]</td>\n",
              "    </tr>\n",
              "    <tr>\n",
              "      <th>2750</th>\n",
              "      <td>b09d3011b063.jpg</td>\n",
              "      <td>1</td>\n",
              "      <td>0</td>\n",
              "      <td>0</td>\n",
              "      <td>[diabetic retinopathy]</td>\n",
              "    </tr>\n",
              "    <tr>\n",
              "      <th>3338</th>\n",
              "      <td>d4ef9a6f3fa2.jpg</td>\n",
              "      <td>0</td>\n",
              "      <td>0</td>\n",
              "      <td>1</td>\n",
              "      <td>[other]</td>\n",
              "    </tr>\n",
              "  </tbody>\n",
              "</table>\n",
              "</div>"
            ],
            "text/plain": [
              "              filename  diabetic retinopathy  glaucoma  other  \\\n",
              "1431  8ce79b47bb8e.jpg                     1         0      0   \n",
              "3353  97d752293c76.jpg                     0         0      1   \n",
              "1864  f55fe90b5359.jpg                     0         0      1   \n",
              "2573  2da0cd28c0a1.jpg                     1         0      0   \n",
              "2894  8cd457a348bc.jpg                     0         1      0   \n",
              "994   fe85c499a133.jpg                     0         1      0   \n",
              "464   c7a4cc0ea725.jpg                     0         1      0   \n",
              "2431  73a0537586f9.jpg                     1         1      0   \n",
              "2750  b09d3011b063.jpg                     1         0      0   \n",
              "3338  d4ef9a6f3fa2.jpg                     0         0      1   \n",
              "\n",
              "                                 label  \n",
              "1431            [diabetic retinopathy]  \n",
              "3353                           [other]  \n",
              "1864                           [other]  \n",
              "2573            [diabetic retinopathy]  \n",
              "2894                        [glaucoma]  \n",
              "994                         [glaucoma]  \n",
              "464                         [glaucoma]  \n",
              "2431  [diabetic retinopathy, glaucoma]  \n",
              "2750            [diabetic retinopathy]  \n",
              "3338                           [other]  "
            ]
          },
          "execution_count": 124,
          "metadata": {},
          "output_type": "execute_result"
        }
      ],
      "source": [
        "# verify change\n",
        "print(\"Training Data:\")\n",
        "train_data.head(10)"
      ]
    },
    {
      "cell_type": "code",
      "execution_count": 125,
      "metadata": {},
      "outputs": [
        {
          "name": "stdout",
          "output_type": "stream",
          "text": [
            "Validation Data:\n"
          ]
        },
        {
          "data": {
            "text/html": [
              "<div>\n",
              "<style scoped>\n",
              "    .dataframe tbody tr th:only-of-type {\n",
              "        vertical-align: middle;\n",
              "    }\n",
              "\n",
              "    .dataframe tbody tr th {\n",
              "        vertical-align: top;\n",
              "    }\n",
              "\n",
              "    .dataframe thead th {\n",
              "        text-align: right;\n",
              "    }\n",
              "</style>\n",
              "<table border=\"1\" class=\"dataframe\">\n",
              "  <thead>\n",
              "    <tr style=\"text-align: right;\">\n",
              "      <th></th>\n",
              "      <th>filename</th>\n",
              "      <th>diabetic retinopathy</th>\n",
              "      <th>glaucoma</th>\n",
              "      <th>other</th>\n",
              "      <th>label</th>\n",
              "    </tr>\n",
              "  </thead>\n",
              "  <tbody>\n",
              "    <tr>\n",
              "      <th>1713</th>\n",
              "      <td>338d390b0d66.jpg</td>\n",
              "      <td>0</td>\n",
              "      <td>1</td>\n",
              "      <td>0</td>\n",
              "      <td>[glaucoma]</td>\n",
              "    </tr>\n",
              "    <tr>\n",
              "      <th>1637</th>\n",
              "      <td>fecbf8136bd5.jpg</td>\n",
              "      <td>0</td>\n",
              "      <td>0</td>\n",
              "      <td>1</td>\n",
              "      <td>[other]</td>\n",
              "    </tr>\n",
              "    <tr>\n",
              "      <th>929</th>\n",
              "      <td>87d08361bcbc.jpg</td>\n",
              "      <td>0</td>\n",
              "      <td>0</td>\n",
              "      <td>1</td>\n",
              "      <td>[other]</td>\n",
              "    </tr>\n",
              "    <tr>\n",
              "      <th>2966</th>\n",
              "      <td>da0d0c7e9336.jpg</td>\n",
              "      <td>0</td>\n",
              "      <td>0</td>\n",
              "      <td>1</td>\n",
              "      <td>[other]</td>\n",
              "    </tr>\n",
              "    <tr>\n",
              "      <th>203</th>\n",
              "      <td>4271f6a1bc34.jpg</td>\n",
              "      <td>0</td>\n",
              "      <td>0</td>\n",
              "      <td>1</td>\n",
              "      <td>[other]</td>\n",
              "    </tr>\n",
              "    <tr>\n",
              "      <th>1494</th>\n",
              "      <td>ac713827c7cb.jpg</td>\n",
              "      <td>0</td>\n",
              "      <td>0</td>\n",
              "      <td>1</td>\n",
              "      <td>[other]</td>\n",
              "    </tr>\n",
              "    <tr>\n",
              "      <th>2380</th>\n",
              "      <td>19a39631f0b2.jpg</td>\n",
              "      <td>0</td>\n",
              "      <td>1</td>\n",
              "      <td>0</td>\n",
              "      <td>[glaucoma]</td>\n",
              "    </tr>\n",
              "    <tr>\n",
              "      <th>1465</th>\n",
              "      <td>92cd7989f9ff.jpg</td>\n",
              "      <td>0</td>\n",
              "      <td>0</td>\n",
              "      <td>1</td>\n",
              "      <td>[other]</td>\n",
              "    </tr>\n",
              "    <tr>\n",
              "      <th>557</th>\n",
              "      <td>76cdc6a3e9a9.jpg</td>\n",
              "      <td>0</td>\n",
              "      <td>0</td>\n",
              "      <td>1</td>\n",
              "      <td>[other]</td>\n",
              "    </tr>\n",
              "    <tr>\n",
              "      <th>567</th>\n",
              "      <td>6ef741ba4c43.jpg</td>\n",
              "      <td>1</td>\n",
              "      <td>0</td>\n",
              "      <td>0</td>\n",
              "      <td>[diabetic retinopathy]</td>\n",
              "    </tr>\n",
              "  </tbody>\n",
              "</table>\n",
              "</div>"
            ],
            "text/plain": [
              "              filename  diabetic retinopathy  glaucoma  other  \\\n",
              "1713  338d390b0d66.jpg                     0         1      0   \n",
              "1637  fecbf8136bd5.jpg                     0         0      1   \n",
              "929   87d08361bcbc.jpg                     0         0      1   \n",
              "2966  da0d0c7e9336.jpg                     0         0      1   \n",
              "203   4271f6a1bc34.jpg                     0         0      1   \n",
              "1494  ac713827c7cb.jpg                     0         0      1   \n",
              "2380  19a39631f0b2.jpg                     0         1      0   \n",
              "1465  92cd7989f9ff.jpg                     0         0      1   \n",
              "557   76cdc6a3e9a9.jpg                     0         0      1   \n",
              "567   6ef741ba4c43.jpg                     1         0      0   \n",
              "\n",
              "                       label  \n",
              "1713              [glaucoma]  \n",
              "1637                 [other]  \n",
              "929                  [other]  \n",
              "2966                 [other]  \n",
              "203                  [other]  \n",
              "1494                 [other]  \n",
              "2380              [glaucoma]  \n",
              "1465                 [other]  \n",
              "557                  [other]  \n",
              "567   [diabetic retinopathy]  "
            ]
          },
          "execution_count": 125,
          "metadata": {},
          "output_type": "execute_result"
        }
      ],
      "source": [
        "print(\"Validation Data:\")\n",
        "validation_data.head(10)"
      ]
    },
    {
      "cell_type": "markdown",
      "metadata": {},
      "source": [
        "## \"And on the 5th day, God said: 'Augment them tensors!'\" - Christian's Diary, Verse 10, Ch 1"
      ]
    },
    {
      "cell_type": "code",
      "execution_count": 126,
      "metadata": {},
      "outputs": [],
      "source": [
        "# but first, some hyper parameters (will define others later)\n",
        "IMAGE_SIZE = 224                            # Image size is [224x224]\n",
        "BATCH_SIZE = 64                             # I feel like 64 is a nice number.  "
      ]
    },
    {
      "cell_type": "code",
      "execution_count": 127,
      "metadata": {},
      "outputs": [
        {
          "name": "stdout",
          "output_type": "stream",
          "text": [
            "Found 2404 validated image filenames belonging to 3 classes.\n",
            "Found 1031 validated image filenames belonging to 3 classes.\n"
          ]
        }
      ],
      "source": [
        "# augment tensors\n",
        "train_gen = train_datagen.flow_from_dataframe(dataframe=train_data,\n",
        "                                              directory=TRAIN_IMAGE_DIR,\n",
        "                                              x_col=\"filename\",\n",
        "                                              y_col=\"label\",\n",
        "                                              class_mode=\"categorical\",\n",
        "                                              target_size=(\n",
        "                                                  IMAGE_SIZE, IMAGE_SIZE),\n",
        "                                              batch_size=BATCH_SIZE)\n",
        "\n",
        "validation_gen = train_datagen.flow_from_dataframe(dataframe=validation_data,\n",
        "                                            directory=TRAIN_IMAGE_DIR,\n",
        "                                            x_col=\"filename\",\n",
        "                                            y_col=\"label\",\n",
        "                                            class_mode=\"categorical\",\n",
        "                                            shuffle=False,\n",
        "                                            target_size=(\n",
        "                                                IMAGE_SIZE, IMAGE_SIZE),\n",
        "                                            batch_size=BATCH_SIZE)"
      ]
    },
    {
      "cell_type": "markdown",
      "metadata": {},
      "source": [
        "### Model Selection\n",
        "\n",
        "Why reinvent the wheel? Since the model has worked so well on similar image classification problems, I will attempt to use the ResNet50 model pretrained on the ImageNet dataset (spoiler, the model performes wonderfully). The classifier of the ResNet50 model will be replaced with a new dense layer to make the output suit our problem."
      ]
    },
    {
      "cell_type": "code",
      "execution_count": 128,
      "metadata": {},
      "outputs": [],
      "source": [
        "# additional hyperparameters for training\n",
        "LEARNING_RATE = 0.001\n",
        "LEARNING_RATE_SCHEDULE_FACTOR = 0.1           # Parameter used for reducing learning rate\n",
        "LEARNING_RATE_SCHEDULE_PATIENCE = 5           # Parameter used for reducing learning rate\n",
        "MAX_EPOCHS = 100             "
      ]
    },
    {
      "cell_type": "markdown",
      "metadata": {},
      "source": [
        "In my experience with classification models, 100 epoch should be enough and a low learning rate like 0.001 is a good starting point. The LEARNING_RATE_SCHEDULE_FACTOR and LEARNING_RATE_SCHEDULE_PATIENCE are values I found from another ResNet50 application."
      ]
    },
    {
      "cell_type": "code",
      "execution_count": 129,
      "metadata": {},
      "outputs": [
        {
          "name": "stdout",
          "output_type": "stream",
          "text": [
            "Model: \"sequential_1\"\n",
            "_________________________________________________________________\n",
            "Layer (type)                 Output Shape              Param #   \n",
            "=================================================================\n",
            "resnet50 (Functional)        (None, 7, 7, 2048)        23587712  \n",
            "_________________________________________________________________\n",
            "global_average_pooling2d_1 ( (None, 2048)              0         \n",
            "_________________________________________________________________\n",
            "dense_1 (Dense)              (None, 3)                 6147      \n",
            "=================================================================\n",
            "Total params: 23,593,859\n",
            "Trainable params: 23,540,739\n",
            "Non-trainable params: 53,120\n",
            "_________________________________________________________________\n"
          ]
        }
      ],
      "source": [
        "# modified ResNet50 model\n",
        "base_model = keras.applications.ResNet50(input_shape=(IMAGE_SIZE,IMAGE_SIZE,3),\n",
        "                                    include_top=False,\n",
        "                                    weights='imagenet')\n",
        "base_model.trainable = True\n",
        "\n",
        "model = keras.Sequential([\n",
        "  base_model,\n",
        "  keras.layers.GlobalAveragePooling2D(),\n",
        "  keras.layers.Dense(len(LABELS), activation='sigmoid')\n",
        "])\n",
        "\n",
        "# print out model summary\n",
        "model.summary()"
      ]
    },
    {
      "cell_type": "markdown",
      "metadata": {},
      "source": [
        "### Model Callbacks\n",
        "```\n",
        "There are two callbacks that are necessary for training:\n",
        "\n",
        "1. Saving the best model on the validation set\n",
        "2. Reducing learning rate during training\n",
        "```"
      ]
    },
    {
      "cell_type": "code",
      "execution_count": 130,
      "metadata": {},
      "outputs": [],
      "source": [
        "# define callbacks\n",
        "\n",
        "# callback to save the best model based off of the validation set\n",
        "save_best_model_cb = keras.callbacks.ModelCheckpoint(\n",
        "        \"resnet50.h5\", monitor=\"val_accuracy\", save_best_only=True, save_weights_only=True, verbose=1, mode='max'),\n",
        "\n",
        "# callback to reduce the learning rate\n",
        "reduce_lr_cb = keras.callbacks.ReduceLROnPlateau(\n",
        "        monitor='val_accuracy', factor=LEARNING_RATE_SCHEDULE_FACTOR,\n",
        "        mode='max', patience=LEARNING_RATE_SCHEDULE_PATIENCE, min_lr=1e-8, verbose=1)\n",
        "\n",
        "callbacks = [save_best_model_cb, reduce_lr_cb]"
      ]
    },
    {
      "cell_type": "markdown",
      "metadata": {},
      "source": [
        "### Train Model\n",
        "\n",
        "Silent prayer that training does not take forever"
      ]
    },
    {
      "cell_type": "code",
      "execution_count": 131,
      "metadata": {},
      "outputs": [
        {
          "name": "stdout",
          "output_type": "stream",
          "text": [
            "TensorFlow is using the CPU only\n"
          ]
        }
      ],
      "source": [
        "# tensorflow needs to know if the GPU is going to be available during training\n",
        "if len(tf.config.experimental.list_physical_devices('GPU')):\n",
        "    DEVICE = '/gpu:0'\n",
        "    print(\"TensorFlow is using the GPU\")\n",
        "else: \n",
        "    DEVICE = '/cpu:0' \n",
        "    print(\"TensorFlow is using the CPU only\")"
      ]
    },
    {
      "cell_type": "code",
      "execution_count": 132,
      "metadata": {},
      "outputs": [
        {
          "name": "stderr",
          "output_type": "stream",
          "text": [
            "/Users/christianwelling/Fourthbrain/Fourthbrain/fourthbrain_venv/lib/python3.8/site-packages/keras_preprocessing/image/image_data_generator.py:720: UserWarning: This ImageDataGenerator specifies `featurewise_center`, but it hasn't been fit on any training data. Fit it first by calling `.fit(numpy_data)`.\n",
            "  warnings.warn('This ImageDataGenerator specifies '\n",
            "/Users/christianwelling/Fourthbrain/Fourthbrain/fourthbrain_venv/lib/python3.8/site-packages/keras_preprocessing/image/image_data_generator.py:728: UserWarning: This ImageDataGenerator specifies `featurewise_std_normalization`, but it hasn't been fit on any training data. Fit it first by calling `.fit(numpy_data)`.\n",
            "  warnings.warn('This ImageDataGenerator specifies '\n"
          ]
        },
        {
          "name": "stdout",
          "output_type": "stream",
          "text": [
            "Epoch 1/100\n",
            "37/37 [==============================] - 2124s 54s/step - loss: 0.5573 - accuracy: 0.6175 - val_loss: 1378.3130 - val_accuracy: 0.6055\n",
            "\n",
            "Epoch 00001: val_accuracy improved from -inf to 0.60547, saving model to resnet50.h5\n",
            "Epoch 2/100\n",
            "37/37 [==============================] - 1859s 50s/step - loss: 0.4931 - accuracy: 0.6697 - val_loss: 4.6835 - val_accuracy: 0.6055\n",
            "\n",
            "Epoch 00002: val_accuracy did not improve from 0.60547\n",
            "Epoch 3/100\n",
            "37/37 [==============================] - 1419s 38s/step - loss: 0.4348 - accuracy: 0.7085 - val_loss: 0.6409 - val_accuracy: 0.6055\n",
            "\n",
            "Epoch 00003: val_accuracy did not improve from 0.60547\n",
            "Epoch 4/100\n",
            "37/37 [==============================] - 1406s 38s/step - loss: 0.3943 - accuracy: 0.7419 - val_loss: 0.7339 - val_accuracy: 0.6055\n",
            "\n",
            "Epoch 00004: val_accuracy did not improve from 0.60547\n",
            "Epoch 5/100\n",
            "37/37 [==============================] - 1410s 38s/step - loss: 0.3733 - accuracy: 0.7479 - val_loss: 0.5855 - val_accuracy: 0.6055\n",
            "\n",
            "Epoch 00005: val_accuracy did not improve from 0.60547\n",
            "Epoch 6/100\n",
            "37/37 [==============================] - 1430s 39s/step - loss: 0.3494 - accuracy: 0.7752 - val_loss: 0.7723 - val_accuracy: 0.1631\n",
            "\n",
            "Epoch 00006: val_accuracy did not improve from 0.60547\n",
            "\n",
            "Epoch 00006: ReduceLROnPlateau reducing learning rate to 0.00010000000474974513.\n",
            "Epoch 7/100\n",
            "37/37 [==============================] - 1405s 38s/step - loss: 0.3374 - accuracy: 0.7850 - val_loss: 0.7055 - val_accuracy: 0.1631\n",
            "\n",
            "Epoch 00007: val_accuracy did not improve from 0.60547\n",
            "Epoch 8/100\n",
            "37/37 [==============================] - 1426s 39s/step - loss: 0.2966 - accuracy: 0.8124 - val_loss: 0.6796 - val_accuracy: 0.1631\n",
            "\n",
            "Epoch 00008: val_accuracy did not improve from 0.60547\n",
            "Epoch 9/100\n",
            "37/37 [==============================] - 1420s 38s/step - loss: 0.2796 - accuracy: 0.8201 - val_loss: 0.6469 - val_accuracy: 0.2070\n",
            "\n",
            "Epoch 00009: val_accuracy did not improve from 0.60547\n",
            "Epoch 10/100\n",
            "37/37 [==============================] - 1417s 38s/step - loss: 0.2811 - accuracy: 0.8231 - val_loss: 0.6961 - val_accuracy: 0.1631\n",
            "\n",
            "Epoch 00010: val_accuracy did not improve from 0.60547\n",
            "Epoch 11/100\n",
            "37/37 [==============================] - 1416s 38s/step - loss: 0.2725 - accuracy: 0.8338 - val_loss: 0.6453 - val_accuracy: 0.1953\n",
            "\n",
            "Epoch 00011: val_accuracy did not improve from 0.60547\n",
            "\n",
            "Epoch 00011: ReduceLROnPlateau reducing learning rate to 1.0000000474974514e-05.\n",
            "Epoch 12/100\n",
            "37/37 [==============================] - 1394s 38s/step - loss: 0.2566 - accuracy: 0.8419 - val_loss: 0.6546 - val_accuracy: 0.1787\n",
            "\n",
            "Epoch 00012: val_accuracy did not improve from 0.60547\n",
            "Epoch 13/100\n",
            "37/37 [==============================] - 1411s 38s/step - loss: 0.2509 - accuracy: 0.8462 - val_loss: 0.6536 - val_accuracy: 0.2031\n",
            "\n",
            "Epoch 00013: val_accuracy did not improve from 0.60547\n",
            "Epoch 14/100\n",
            "37/37 [==============================] - 1421s 38s/step - loss: 0.2509 - accuracy: 0.8402 - val_loss: 0.6466 - val_accuracy: 0.2490\n",
            "\n",
            "Epoch 00014: val_accuracy did not improve from 0.60547\n",
            "Epoch 15/100\n",
            "37/37 [==============================] - 1404s 38s/step - loss: 0.2542 - accuracy: 0.8410 - val_loss: 0.6625 - val_accuracy: 0.2090\n",
            "\n",
            "Epoch 00015: val_accuracy did not improve from 0.60547\n",
            "Epoch 16/100\n",
            "37/37 [==============================] - 1385s 38s/step - loss: 0.2455 - accuracy: 0.8474 - val_loss: 0.6475 - val_accuracy: 0.2852\n",
            "\n",
            "Epoch 00016: val_accuracy did not improve from 0.60547\n",
            "\n",
            "Epoch 00016: ReduceLROnPlateau reducing learning rate to 1.0000000656873453e-06.\n",
            "Epoch 17/100\n",
            "37/37 [==============================] - 1369s 37s/step - loss: 0.2531 - accuracy: 0.8444 - val_loss: 0.6426 - val_accuracy: 0.3389\n",
            "\n",
            "Epoch 00017: val_accuracy did not improve from 0.60547\n",
            "Epoch 18/100\n",
            "37/37 [==============================] - 1390s 38s/step - loss: 0.2549 - accuracy: 0.8406 - val_loss: 0.6350 - val_accuracy: 0.3711\n",
            "\n",
            "Epoch 00018: val_accuracy did not improve from 0.60547\n",
            "Epoch 19/100\n",
            "37/37 [==============================] - 1398s 38s/step - loss: 0.2489 - accuracy: 0.8397 - val_loss: 0.6241 - val_accuracy: 0.4121\n",
            "\n",
            "Epoch 00019: val_accuracy did not improve from 0.60547\n",
            "Epoch 20/100\n",
            "37/37 [==============================] - 1357s 37s/step - loss: 0.2483 - accuracy: 0.8397 - val_loss: 0.6190 - val_accuracy: 0.4482\n",
            "\n",
            "Epoch 00020: val_accuracy did not improve from 0.60547\n",
            "Epoch 21/100\n",
            "37/37 [==============================] - 1556s 42s/step - loss: 0.2405 - accuracy: 0.8534 - val_loss: 0.6061 - val_accuracy: 0.4668\n",
            "\n",
            "Epoch 00021: val_accuracy did not improve from 0.60547\n",
            "\n",
            "Epoch 00021: ReduceLROnPlateau reducing learning rate to 1.0000001111620805e-07.\n",
            "Epoch 22/100\n",
            "37/37 [==============================] - 1602s 43s/step - loss: 0.2471 - accuracy: 0.8479 - val_loss: 0.5930 - val_accuracy: 0.5166\n",
            "\n",
            "Epoch 00022: val_accuracy did not improve from 0.60547\n",
            "Epoch 23/100\n",
            "37/37 [==============================] - 1739s 47s/step - loss: 0.2447 - accuracy: 0.8521 - val_loss: 0.5781 - val_accuracy: 0.5498\n",
            "\n",
            "Epoch 00023: val_accuracy did not improve from 0.60547\n",
            "Epoch 24/100\n",
            " 4/37 [==>...........................] - ETA: 38:07 - loss: 0.2429 - accuracy: 0.8203"
          ]
        },
        {
          "ename": "KeyboardInterrupt",
          "evalue": "",
          "output_type": "error",
          "traceback": [
            "\u001b[0;31m---------------------------------------------------------------------------\u001b[0m",
            "\u001b[0;31mKeyboardInterrupt\u001b[0m                         Traceback (most recent call last)",
            "\u001b[0;32m/var/folders/qw/nxdjklks0lsd2yr222thlg8c0000gn/T/ipykernel_7730/2310565305.py\u001b[0m in \u001b[0;36m<module>\u001b[0;34m\u001b[0m\n\u001b[1;32m      7\u001b[0m                   loss='binary_crossentropy', metrics=['accuracy'])\n\u001b[1;32m      8\u001b[0m \u001b[0;34m\u001b[0m\u001b[0m\n\u001b[0;32m----> 9\u001b[0;31m     history = model.fit(train_gen,\n\u001b[0m\u001b[1;32m     10\u001b[0m                         \u001b[0msteps_per_epoch\u001b[0m\u001b[0;34m=\u001b[0m\u001b[0msteps_per_epoch\u001b[0m\u001b[0;34m,\u001b[0m\u001b[0;34m\u001b[0m\u001b[0;34m\u001b[0m\u001b[0m\n\u001b[1;32m     11\u001b[0m                         \u001b[0mepochs\u001b[0m\u001b[0;34m=\u001b[0m\u001b[0mMAX_EPOCHS\u001b[0m\u001b[0;34m,\u001b[0m\u001b[0;34m\u001b[0m\u001b[0;34m\u001b[0m\u001b[0m\n",
            "\u001b[0;32m~/Fourthbrain/Fourthbrain/fourthbrain_venv/lib/python3.8/site-packages/keras/engine/training.py\u001b[0m in \u001b[0;36mfit\u001b[0;34m(self, x, y, batch_size, epochs, verbose, callbacks, validation_split, validation_data, shuffle, class_weight, sample_weight, initial_epoch, steps_per_epoch, validation_steps, validation_batch_size, validation_freq, max_queue_size, workers, use_multiprocessing)\u001b[0m\n\u001b[1;32m   1182\u001b[0m                 _r=1):\n\u001b[1;32m   1183\u001b[0m               \u001b[0mcallbacks\u001b[0m\u001b[0;34m.\u001b[0m\u001b[0mon_train_batch_begin\u001b[0m\u001b[0;34m(\u001b[0m\u001b[0mstep\u001b[0m\u001b[0;34m)\u001b[0m\u001b[0;34m\u001b[0m\u001b[0;34m\u001b[0m\u001b[0m\n\u001b[0;32m-> 1184\u001b[0;31m               \u001b[0mtmp_logs\u001b[0m \u001b[0;34m=\u001b[0m \u001b[0mself\u001b[0m\u001b[0;34m.\u001b[0m\u001b[0mtrain_function\u001b[0m\u001b[0;34m(\u001b[0m\u001b[0miterator\u001b[0m\u001b[0;34m)\u001b[0m\u001b[0;34m\u001b[0m\u001b[0;34m\u001b[0m\u001b[0m\n\u001b[0m\u001b[1;32m   1185\u001b[0m               \u001b[0;32mif\u001b[0m \u001b[0mdata_handler\u001b[0m\u001b[0;34m.\u001b[0m\u001b[0mshould_sync\u001b[0m\u001b[0;34m:\u001b[0m\u001b[0;34m\u001b[0m\u001b[0;34m\u001b[0m\u001b[0m\n\u001b[1;32m   1186\u001b[0m                 \u001b[0mcontext\u001b[0m\u001b[0;34m.\u001b[0m\u001b[0masync_wait\u001b[0m\u001b[0;34m(\u001b[0m\u001b[0;34m)\u001b[0m\u001b[0;34m\u001b[0m\u001b[0;34m\u001b[0m\u001b[0m\n",
            "\u001b[0;32m~/Fourthbrain/Fourthbrain/fourthbrain_venv/lib/python3.8/site-packages/tensorflow/python/eager/def_function.py\u001b[0m in \u001b[0;36m__call__\u001b[0;34m(self, *args, **kwds)\u001b[0m\n\u001b[1;32m    883\u001b[0m \u001b[0;34m\u001b[0m\u001b[0m\n\u001b[1;32m    884\u001b[0m       \u001b[0;32mwith\u001b[0m \u001b[0mOptionalXlaContext\u001b[0m\u001b[0;34m(\u001b[0m\u001b[0mself\u001b[0m\u001b[0;34m.\u001b[0m\u001b[0m_jit_compile\u001b[0m\u001b[0;34m)\u001b[0m\u001b[0;34m:\u001b[0m\u001b[0;34m\u001b[0m\u001b[0;34m\u001b[0m\u001b[0m\n\u001b[0;32m--> 885\u001b[0;31m         \u001b[0mresult\u001b[0m \u001b[0;34m=\u001b[0m \u001b[0mself\u001b[0m\u001b[0;34m.\u001b[0m\u001b[0m_call\u001b[0m\u001b[0;34m(\u001b[0m\u001b[0;34m*\u001b[0m\u001b[0margs\u001b[0m\u001b[0;34m,\u001b[0m \u001b[0;34m**\u001b[0m\u001b[0mkwds\u001b[0m\u001b[0;34m)\u001b[0m\u001b[0;34m\u001b[0m\u001b[0;34m\u001b[0m\u001b[0m\n\u001b[0m\u001b[1;32m    886\u001b[0m \u001b[0;34m\u001b[0m\u001b[0m\n\u001b[1;32m    887\u001b[0m       \u001b[0mnew_tracing_count\u001b[0m \u001b[0;34m=\u001b[0m \u001b[0mself\u001b[0m\u001b[0;34m.\u001b[0m\u001b[0mexperimental_get_tracing_count\u001b[0m\u001b[0;34m(\u001b[0m\u001b[0;34m)\u001b[0m\u001b[0;34m\u001b[0m\u001b[0;34m\u001b[0m\u001b[0m\n",
            "\u001b[0;32m~/Fourthbrain/Fourthbrain/fourthbrain_venv/lib/python3.8/site-packages/tensorflow/python/eager/def_function.py\u001b[0m in \u001b[0;36m_call\u001b[0;34m(self, *args, **kwds)\u001b[0m\n\u001b[1;32m    915\u001b[0m       \u001b[0;31m# In this case we have created variables on the first call, so we run the\u001b[0m\u001b[0;34m\u001b[0m\u001b[0;34m\u001b[0m\u001b[0;34m\u001b[0m\u001b[0m\n\u001b[1;32m    916\u001b[0m       \u001b[0;31m# defunned version which is guaranteed to never create variables.\u001b[0m\u001b[0;34m\u001b[0m\u001b[0;34m\u001b[0m\u001b[0;34m\u001b[0m\u001b[0m\n\u001b[0;32m--> 917\u001b[0;31m       \u001b[0;32mreturn\u001b[0m \u001b[0mself\u001b[0m\u001b[0;34m.\u001b[0m\u001b[0m_stateless_fn\u001b[0m\u001b[0;34m(\u001b[0m\u001b[0;34m*\u001b[0m\u001b[0margs\u001b[0m\u001b[0;34m,\u001b[0m \u001b[0;34m**\u001b[0m\u001b[0mkwds\u001b[0m\u001b[0;34m)\u001b[0m  \u001b[0;31m# pylint: disable=not-callable\u001b[0m\u001b[0;34m\u001b[0m\u001b[0;34m\u001b[0m\u001b[0m\n\u001b[0m\u001b[1;32m    918\u001b[0m     \u001b[0;32melif\u001b[0m \u001b[0mself\u001b[0m\u001b[0;34m.\u001b[0m\u001b[0m_stateful_fn\u001b[0m \u001b[0;32mis\u001b[0m \u001b[0;32mnot\u001b[0m \u001b[0;32mNone\u001b[0m\u001b[0;34m:\u001b[0m\u001b[0;34m\u001b[0m\u001b[0;34m\u001b[0m\u001b[0m\n\u001b[1;32m    919\u001b[0m       \u001b[0;31m# Release the lock early so that multiple threads can perform the call\u001b[0m\u001b[0;34m\u001b[0m\u001b[0;34m\u001b[0m\u001b[0;34m\u001b[0m\u001b[0m\n",
            "\u001b[0;32m~/Fourthbrain/Fourthbrain/fourthbrain_venv/lib/python3.8/site-packages/tensorflow/python/eager/function.py\u001b[0m in \u001b[0;36m__call__\u001b[0;34m(self, *args, **kwargs)\u001b[0m\n\u001b[1;32m   3037\u001b[0m       (graph_function,\n\u001b[1;32m   3038\u001b[0m        filtered_flat_args) = self._maybe_define_function(args, kwargs)\n\u001b[0;32m-> 3039\u001b[0;31m     return graph_function._call_flat(\n\u001b[0m\u001b[1;32m   3040\u001b[0m         filtered_flat_args, captured_inputs=graph_function.captured_inputs)  # pylint: disable=protected-access\n\u001b[1;32m   3041\u001b[0m \u001b[0;34m\u001b[0m\u001b[0m\n",
            "\u001b[0;32m~/Fourthbrain/Fourthbrain/fourthbrain_venv/lib/python3.8/site-packages/tensorflow/python/eager/function.py\u001b[0m in \u001b[0;36m_call_flat\u001b[0;34m(self, args, captured_inputs, cancellation_manager)\u001b[0m\n\u001b[1;32m   1961\u001b[0m         and executing_eagerly):\n\u001b[1;32m   1962\u001b[0m       \u001b[0;31m# No tape is watching; skip to running the function.\u001b[0m\u001b[0;34m\u001b[0m\u001b[0;34m\u001b[0m\u001b[0;34m\u001b[0m\u001b[0m\n\u001b[0;32m-> 1963\u001b[0;31m       return self._build_call_outputs(self._inference_function.call(\n\u001b[0m\u001b[1;32m   1964\u001b[0m           ctx, args, cancellation_manager=cancellation_manager))\n\u001b[1;32m   1965\u001b[0m     forward_backward = self._select_forward_and_backward_functions(\n",
            "\u001b[0;32m~/Fourthbrain/Fourthbrain/fourthbrain_venv/lib/python3.8/site-packages/tensorflow/python/eager/function.py\u001b[0m in \u001b[0;36mcall\u001b[0;34m(self, ctx, args, cancellation_manager)\u001b[0m\n\u001b[1;32m    589\u001b[0m       \u001b[0;32mwith\u001b[0m \u001b[0m_InterpolateFunctionError\u001b[0m\u001b[0;34m(\u001b[0m\u001b[0mself\u001b[0m\u001b[0;34m)\u001b[0m\u001b[0;34m:\u001b[0m\u001b[0;34m\u001b[0m\u001b[0;34m\u001b[0m\u001b[0m\n\u001b[1;32m    590\u001b[0m         \u001b[0;32mif\u001b[0m \u001b[0mcancellation_manager\u001b[0m \u001b[0;32mis\u001b[0m \u001b[0;32mNone\u001b[0m\u001b[0;34m:\u001b[0m\u001b[0;34m\u001b[0m\u001b[0;34m\u001b[0m\u001b[0m\n\u001b[0;32m--> 591\u001b[0;31m           outputs = execute.execute(\n\u001b[0m\u001b[1;32m    592\u001b[0m               \u001b[0mstr\u001b[0m\u001b[0;34m(\u001b[0m\u001b[0mself\u001b[0m\u001b[0;34m.\u001b[0m\u001b[0msignature\u001b[0m\u001b[0;34m.\u001b[0m\u001b[0mname\u001b[0m\u001b[0;34m)\u001b[0m\u001b[0;34m,\u001b[0m\u001b[0;34m\u001b[0m\u001b[0;34m\u001b[0m\u001b[0m\n\u001b[1;32m    593\u001b[0m               \u001b[0mnum_outputs\u001b[0m\u001b[0;34m=\u001b[0m\u001b[0mself\u001b[0m\u001b[0;34m.\u001b[0m\u001b[0m_num_outputs\u001b[0m\u001b[0;34m,\u001b[0m\u001b[0;34m\u001b[0m\u001b[0;34m\u001b[0m\u001b[0m\n",
            "\u001b[0;32m~/Fourthbrain/Fourthbrain/fourthbrain_venv/lib/python3.8/site-packages/tensorflow/python/eager/execute.py\u001b[0m in \u001b[0;36mquick_execute\u001b[0;34m(op_name, num_outputs, inputs, attrs, ctx, name)\u001b[0m\n\u001b[1;32m     57\u001b[0m   \u001b[0;32mtry\u001b[0m\u001b[0;34m:\u001b[0m\u001b[0;34m\u001b[0m\u001b[0;34m\u001b[0m\u001b[0m\n\u001b[1;32m     58\u001b[0m     \u001b[0mctx\u001b[0m\u001b[0;34m.\u001b[0m\u001b[0mensure_initialized\u001b[0m\u001b[0;34m(\u001b[0m\u001b[0;34m)\u001b[0m\u001b[0;34m\u001b[0m\u001b[0;34m\u001b[0m\u001b[0m\n\u001b[0;32m---> 59\u001b[0;31m     tensors = pywrap_tfe.TFE_Py_Execute(ctx._handle, device_name, op_name,\n\u001b[0m\u001b[1;32m     60\u001b[0m                                         inputs, attrs, num_outputs)\n\u001b[1;32m     61\u001b[0m   \u001b[0;32mexcept\u001b[0m \u001b[0mcore\u001b[0m\u001b[0;34m.\u001b[0m\u001b[0m_NotOkStatusException\u001b[0m \u001b[0;32mas\u001b[0m \u001b[0me\u001b[0m\u001b[0;34m:\u001b[0m\u001b[0;34m\u001b[0m\u001b[0;34m\u001b[0m\u001b[0m\n",
            "\u001b[0;31mKeyboardInterrupt\u001b[0m: "
          ]
        }
      ],
      "source": [
        "# train model\n",
        "with tf.device(DEVICE):\n",
        "    steps_per_epoch = train_gen.n // BATCH_SIZE\n",
        "    validation_steps = validation_gen.n // BATCH_SIZE\n",
        "\n",
        "    model.compile(optimizer=keras.optimizers.Adam(learning_rate=LEARNING_RATE),\n",
        "                  loss='binary_crossentropy', metrics=['accuracy'])\n",
        "\n",
        "    history = model.fit(train_gen,\n",
        "                        steps_per_epoch=steps_per_epoch,\n",
        "                        epochs=MAX_EPOCHS,\n",
        "                        verbose=1,\n",
        "                        validation_data=validation_gen,\n",
        "                        validation_steps=validation_steps,\n",
        "                        callbacks=callbacks)"
      ]
    },
    {
      "cell_type": "markdown",
      "metadata": {},
      "source": [
        "### Display Loss and accuracy for both training and validation data"
      ]
    },
    {
      "cell_type": "code",
      "execution_count": 103,
      "metadata": {},
      "outputs": [],
      "source": [
        "from helper_functions import *"
      ]
    },
    {
      "cell_type": "code",
      "execution_count": 104,
      "metadata": {},
      "outputs": [
        {
          "ename": "NameError",
          "evalue": "name 'history' is not defined",
          "output_type": "error",
          "traceback": [
            "\u001b[0;31m---------------------------------------------------------------------------\u001b[0m",
            "\u001b[0;31mNameError\u001b[0m                                 Traceback (most recent call last)",
            "\u001b[0;32m/var/folders/qw/nxdjklks0lsd2yr222thlg8c0000gn/T/ipykernel_7730/2373406453.py\u001b[0m in \u001b[0;36m<module>\u001b[0;34m\u001b[0m\n\u001b[0;32m----> 1\u001b[0;31m \u001b[0mprint_loss_history\u001b[0m\u001b[0;34m(\u001b[0m\u001b[0mhistory\u001b[0m\u001b[0;34m)\u001b[0m\u001b[0;34m\u001b[0m\u001b[0;34m\u001b[0m\u001b[0m\n\u001b[0m\u001b[1;32m      2\u001b[0m \u001b[0mprint_accuracy_history\u001b[0m\u001b[0;34m(\u001b[0m\u001b[0mhistory\u001b[0m\u001b[0;34m)\u001b[0m\u001b[0;34m\u001b[0m\u001b[0;34m\u001b[0m\u001b[0m\n",
            "\u001b[0;31mNameError\u001b[0m: name 'history' is not defined"
          ]
        }
      ],
      "source": [
        "print_loss_history(history)\n",
        "print_accuracy_history(history)"
      ]
    },
    {
      "cell_type": "markdown",
      "metadata": {},
      "source": [
        "## Task 2: Visualize the heatmap/saliency/features using any method of your choice to demonstrate what regions of interest contribute to Diabetic Retinopathy and Glaucoma, respectively.\n",
        "```\n",
        "Submit images/folder of images with heatmaps/features aligned on top of the images, or corresponding bounding boxes, and report what regions of interest in your opinion represent the pathological sites.\n",
        "```"
      ]
    },
    {
      "cell_type": "code",
      "execution_count": 102,
      "metadata": {},
      "outputs": [
        {
          "data": {
            "text/plain": [
              "<AxesSubplot:>"
            ]
          },
          "execution_count": 102,
          "metadata": {},
          "output_type": "execute_result"
        },
        {
          "data": {
            "image/png": "[encoded data removed]",
            "text/plain": [
              "<Figure size 432x288 with 1 Axes>"
            ]
          },
          "metadata": {
            "needs_background": "light"
          },
          "output_type": "display_data"
        }
      ],
      "source": [
        "# Data visualization\n",
        "data.plot.bar()"
      ]
    },
    {
      "cell_type": "markdown",
      "metadata": {},
      "source": [
        "### Visualize Activations\n",
        "\n",
        "We can see a heatmap/saliency/features which the CNN model uses to make predictions. Visualizing activations between different layers will give insight to what features matter."
      ]
    },
    {
      "cell_type": "code",
      "execution_count": null,
      "metadata": {},
      "outputs": [],
      "source": [
        "from keras.models import Model"
      ]
    },
    {
      "cell_type": "code",
      "execution_count": null,
      "metadata": {},
      "outputs": [],
      "source": [
        "# Use a list comprehension to extract the output of each layer in the model\n",
        "layer_outputs = [layer.output for layer in model.layers]\n",
        "# Define a new model with the same input shape as the original model \n",
        "# and layer_outputs as its outputs\n",
        "activation_model = Model(inputs=model.input, outputs=layer_outputs)\n",
        "# Get all the activations by calling the predict() method on the training generator\n",
        "# Make sure to reshape the image so it has a new 0 axis of length 1 (training_gen takes care of this)\n",
        "activations = activation_model.predict(train_gen)"
      ]
    },
    {
      "cell_type": "code",
      "execution_count": null,
      "metadata": {},
      "outputs": [],
      "source": [
        "# what do our layers look like\n",
        "model.layers"
      ]
    },
    {
      "cell_type": "code",
      "execution_count": null,
      "metadata": {},
      "outputs": [],
      "source": [
        "# display the activations\n",
        "display_activation(activations, 8, 8, 1) # height, width, layer"
      ]
    }
  ],
  "metadata": {
    "colab": {
      "name": "ML_for_Computer_Vision.ipynb",
      "provenance": []
    },
    "kernelspec": {
      "display_name": "Python 3",
      "language": "python",
      "name": "python3"
    },
    "language_info": {
      "codemirror_mode": {
        "name": "ipython",
        "version": 3
      },
      "file_extension": ".py",
      "mimetype": "text/x-python",
      "name": "python",
      "nbconvert_exporter": "python",
      "pygments_lexer": "ipython3",
      "version": "3.8.5"
    }
  },
  "nbformat": 4,
  "nbformat_minor": 0
}
