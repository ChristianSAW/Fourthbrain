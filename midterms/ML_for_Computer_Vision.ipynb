{
  "cells": [
    {
      "cell_type": "markdown",
      "metadata": {
        "id": "YOp38ejm5-zc"
      },
      "source": [
        "## This assignment is designed for automated pathology detection for Medical Images in a relalistic setup, i.e. each image may have multiple pathologies/disorders. \n",
        "### The goal, for you as an MLE, is to design models and methods to predictively detect pathological images and explain the pathology sites in the image data."
      ]
    },
    {
      "cell_type": "markdown",
      "metadata": {
        "id": "MQC4-tgE5-zj"
      },
      "source": [
        "## Data for this assignment is taken from a Kaggle contest: https://www.kaggle.com/c/vietai-advance-course-retinal-disease-detection/overview\n",
        "Explanation of the data set:\n",
        "The training data set contains 3435 retinal images that represent multiple pathological disorders. The patholgy classes and corresponding labels are: included in 'train.csv' file and each image can have more than one class category (multiple pathologies).\n",
        "The labels for each image are\n",
        "\n",
        "```\n",
        "-opacity (0), \n",
        "-diabetic retinopathy (1), \n",
        "-glaucoma (2),\n",
        "-macular edema (3),\n",
        "-macular degeneration (4),\n",
        "-retinal vascular occlusion (5)\n",
        "-normal (6)\n",
        "```\n",
        "The test data set contains 350 unlabelled images."
      ]
    },
    {
      "cell_type": "markdown",
      "metadata": {
        "id": "ybY-yABV5-zk"
      },
      "source": [
        "# For this assignment, you are working with specialists for Diabetic Retinopathy and Glaucoma only, and your client is interested in a predictive learning model along with feature explanability and self-learning for Diabetic Retinopathy and Glaucoma vs. Normal images.\n",
        "# Design models and methods for the following tasks. Each task should be accompanied by code, plots/images (if applicable), tables (if applicable) and text:\n",
        "## Task 1: Build a classification model for Diabetic Retinopathy and Glaucoma vs normal images. You may consider multi-class classification vs. all-vs-one classification. Clearly state your choice and share details of your model, paremeters and hyper-paramaterization pprocess. (60 points)\n",
        "```\n",
        "a. Perform 70/30 data split and report performance scores on the test data set.\n",
        "b. You can choose to apply any data augmentation strategy. \n",
        "Explain your methods and rationale behind parameter selection.\n",
        "c. Show Training-validation curves to ensure overfitting and underfitting is avoided.\n",
        "```\n",
        "## Task 2: Visualize the heatmap/saliency/features using any method of your choice to demonstrate what regions of interest contribute to Diabetic Retinopathy and Glaucoma, respectively. (25 points)\n",
        "```\n",
        "Submit images/folder of images with heatmaps/features aligned on top of the images, or corresponding bounding boxes, and report what regions of interest in your opinion represent the pathological sites.\n",
        "```\n",
        "\n",
        "## Task 3: Using the unlabelled data set in the 'test' folder augment the training data (semi-supervised learning) and report the variation in classification performance on test data set.(15 points)\n",
        "[You may use any method of your choice, one possible way is mentioned below.] \n",
        "\n",
        "```\n",
        "Hint: \n",
        "a. Train a model using the 'train' split.\n",
        "b. Pass the unlabelled images through the trained model and retrieve the dense layer feature prior to classification layer. Using this dense layer as representative of the image, apply label propagation to retrieve labels correspndng to the unbalelled data.\n",
        "c. Next, concatenate the train data with the unlabelled data (that has now been self labelled) and retrain the network.\n",
        "d. Report classification performance on test data\n",
        "Use the unlabelled test data  to improve classification performance by using a semi-supervised label-propagation/self-labelling approach. (20 points)\n",
        "```\n",
        "\n",
        "## [Hint: If you are wondering how to use the \"dense layer representative of an image\" in step 2, see this exercise that extracts a [1,2048] dense representattive from an image using the InceptionV3 pre-trained model.]\n",
        "https://colab.research.google.com/drive/14-6qRGARgBSj4isZk86zKQtyIT2f9Wu1#scrollTo=_IqraxtP4Ex3\n",
        "\n",
        "\n",
        "## Good Luck!"
      ]
    },
    {
      "cell_type": "code",
      "execution_count": 1,
      "metadata": {},
      "outputs": [
        {
          "name": "stdout",
          "output_type": "stream",
          "text": [
            "TensorFlow Version:  2.6.1\n"
          ]
        }
      ],
      "source": [
        "# General Imports\n",
        "import os               # importing data\n",
        "import sys\n",
        "import numpy as np      # linear algebra\n",
        "import pandas as pd     # data processing, CSV file I/O (e.g. pd.read_csv)\n",
        "\n",
        "# Tensorflow\n",
        "import tensorflow as tf\n",
        "import tensorflow.keras as keras\n",
        "from tensorflow.keras.preprocessing.image import ImageDataGenerator\n",
        "print(\"TensorFlow Version: \", tf.__version__) # In case there are issues with model fitting, I know what version of tensorflow I have\n",
        "\n",
        "# Image Stuff\n",
        "import IPython.display as display\n",
        "import PIL.Image"
      ]
    },
    {
      "cell_type": "markdown",
      "metadata": {},
      "source": [
        "## Task 0: Data Wrangling"
      ]
    },
    {
      "cell_type": "code",
      "execution_count": 4,
      "metadata": {},
      "outputs": [
        {
          "name": "stdout",
          "output_type": "stream",
          "text": [
            "['.DS_Store', 'train', 'train.csv']\n"
          ]
        }
      ],
      "source": [
        "# Unzip midterm data (note, if you are running this, add Data.zip ~ renamed to midterm_data.zip to ../hidden_files/)\n",
        "if not os.path.exists('../hidden_files/midterm_data/train'):\n",
        "    !unzip ../hidden_files/midterm_data.zip\n",
        "\n",
        "print(os.listdir(\"../hidden_files/midterm_data/train\"))\n",
        "# should return ['train', 'train.csv'].\n",
        "# *NOTE: .DS_Store might also appear in this directory if on mac. This file is ignored in the .gitignore."
      ]
    },
    {
      "cell_type": "code",
      "execution_count": 7,
      "metadata": {},
      "outputs": [
        {
          "data": {
            "text/html": [
              "<div>\n",
              "<style scoped>\n",
              "    .dataframe tbody tr th:only-of-type {\n",
              "        vertical-align: middle;\n",
              "    }\n",
              "\n",
              "    .dataframe tbody tr th {\n",
              "        vertical-align: top;\n",
              "    }\n",
              "\n",
              "    .dataframe thead th {\n",
              "        text-align: right;\n",
              "    }\n",
              "</style>\n",
              "<table border=\"1\" class=\"dataframe\">\n",
              "  <thead>\n",
              "    <tr style=\"text-align: right;\">\n",
              "      <th></th>\n",
              "      <th>filename</th>\n",
              "      <th>opacity</th>\n",
              "      <th>diabetic retinopathy</th>\n",
              "      <th>glaucoma</th>\n",
              "      <th>macular edema</th>\n",
              "      <th>macular degeneration</th>\n",
              "      <th>retinal vascular occlusion</th>\n",
              "      <th>normal</th>\n",
              "    </tr>\n",
              "  </thead>\n",
              "  <tbody>\n",
              "    <tr>\n",
              "      <th>0</th>\n",
              "      <td>c24a1b14d253.jpg</td>\n",
              "      <td>0</td>\n",
              "      <td>0</td>\n",
              "      <td>0</td>\n",
              "      <td>0</td>\n",
              "      <td>0</td>\n",
              "      <td>1</td>\n",
              "      <td>0</td>\n",
              "    </tr>\n",
              "    <tr>\n",
              "      <th>1</th>\n",
              "      <td>9ee905a41651.jpg</td>\n",
              "      <td>0</td>\n",
              "      <td>0</td>\n",
              "      <td>0</td>\n",
              "      <td>0</td>\n",
              "      <td>0</td>\n",
              "      <td>1</td>\n",
              "      <td>0</td>\n",
              "    </tr>\n",
              "    <tr>\n",
              "      <th>2</th>\n",
              "      <td>3f58d128caf6.jpg</td>\n",
              "      <td>0</td>\n",
              "      <td>0</td>\n",
              "      <td>1</td>\n",
              "      <td>0</td>\n",
              "      <td>0</td>\n",
              "      <td>0</td>\n",
              "      <td>0</td>\n",
              "    </tr>\n",
              "    <tr>\n",
              "      <th>3</th>\n",
              "      <td>4ce6599e7b20.jpg</td>\n",
              "      <td>1</td>\n",
              "      <td>0</td>\n",
              "      <td>0</td>\n",
              "      <td>0</td>\n",
              "      <td>1</td>\n",
              "      <td>0</td>\n",
              "      <td>0</td>\n",
              "    </tr>\n",
              "    <tr>\n",
              "      <th>4</th>\n",
              "      <td>0def470360e4.jpg</td>\n",
              "      <td>1</td>\n",
              "      <td>0</td>\n",
              "      <td>0</td>\n",
              "      <td>0</td>\n",
              "      <td>1</td>\n",
              "      <td>0</td>\n",
              "      <td>0</td>\n",
              "    </tr>\n",
              "  </tbody>\n",
              "</table>\n",
              "</div>"
            ],
            "text/plain": [
              "           filename  opacity  diabetic retinopathy  glaucoma  macular edema  \\\n",
              "0  c24a1b14d253.jpg        0                     0         0              0   \n",
              "1  9ee905a41651.jpg        0                     0         0              0   \n",
              "2  3f58d128caf6.jpg        0                     0         1              0   \n",
              "3  4ce6599e7b20.jpg        1                     0         0              0   \n",
              "4  0def470360e4.jpg        1                     0         0              0   \n",
              "\n",
              "   macular degeneration  retinal vascular occlusion  normal  \n",
              "0                     0                           1       0  \n",
              "1                     0                           1       0  \n",
              "2                     0                           0       0  \n",
              "3                     1                           0       0  \n",
              "4                     1                           0       0  "
            ]
          },
          "execution_count": 7,
          "metadata": {},
          "output_type": "execute_result"
        }
      ],
      "source": [
        "# Load training data\n",
        "data = pd.read_csv(\"../hidden_files/midterm_data/train/train.csv\")\n",
        "\n",
        "# Examine first few rows to better understand data\n",
        "data.head()"
      ]
    },
    {
      "cell_type": "code",
      "execution_count": 8,
      "metadata": {},
      "outputs": [
        {
          "name": "stdout",
          "output_type": "stream",
          "text": [
            "<class 'pandas.core.frame.DataFrame'>\n",
            "RangeIndex: 3435 entries, 0 to 3434\n",
            "Data columns (total 8 columns):\n",
            " #   Column                      Non-Null Count  Dtype \n",
            "---  ------                      --------------  ----- \n",
            " 0   filename                    3435 non-null   object\n",
            " 1   opacity                     3435 non-null   int64 \n",
            " 2   diabetic retinopathy        3435 non-null   int64 \n",
            " 3   glaucoma                    3435 non-null   int64 \n",
            " 4   macular edema               3435 non-null   int64 \n",
            " 5   macular degeneration        3435 non-null   int64 \n",
            " 6   retinal vascular occlusion  3435 non-null   int64 \n",
            " 7   normal                      3435 non-null   int64 \n",
            "dtypes: int64(7), object(1)\n",
            "memory usage: 214.8+ KB\n"
          ]
        }
      ],
      "source": [
        "# Take a look a the data types, count\n",
        "data.info(memory_usage=True)"
      ]
    },
    {
      "cell_type": "markdown",
      "metadata": {},
      "source": [
        "### Visualizng a single image"
      ]
    },
    {
      "cell_type": "markdown",
      "metadata": {
        "id": "kA22LsLx5-zl"
      },
      "source": [
        "## Task 1: Classification of Diabetic Retanopathy and Glaucoma vs Normal Images:"
      ]
    },
    {
      "cell_type": "markdown",
      "metadata": {},
      "source": [
        "### Options: Multi-class vs. all-vs-one model\n",
        "\n",
        "**Multi-Class:**\n",
        "1. can use one-hot-encoding approach to generate probabilities for multiple classes\n",
        "2. easier to add additional classifications schemes\n",
        "\n",
        "**All-vs-one:**\n",
        "1. will probably need more than one model for each class trying to identify.\n",
        "2. Can probabably share some of the eariler NN (transfer learning) for each model."
      ]
    },
    {
      "cell_type": "code",
      "execution_count": 2,
      "metadata": {},
      "outputs": [
        {
          "name": "stdout",
          "output_type": "stream",
          "text": [
            "['.DS_Store', 'train', 'train.csv']\n"
          ]
        }
      ],
      "source": [
        "import numpy as np # linear algebra\n",
        "import pandas as pd # data processing, CSV file I/O (e.g. pd.read_csv)\n",
        "\n",
        "# Input data files are available in the \"../input/\" directory.\n",
        "# For example, running this (by clicking run or pressing Shift+Enter) will list the files in the input directory\n",
        "\n",
        "import os\n",
        "\n",
        "if not os.path.exists('../hidden_files/midterm_data/train'):\n",
        "    !unzip ../hidden_files/midterm_data.zip\n",
        "\n",
        "print(os.listdir(\"../hidden_files/midterm_data/train\"))"
      ]
    },
    {
      "cell_type": "code",
      "execution_count": 3,
      "metadata": {},
      "outputs": [
        {
          "data": {
            "text/html": [
              "<div>\n",
              "<style scoped>\n",
              "    .dataframe tbody tr th:only-of-type {\n",
              "        vertical-align: middle;\n",
              "    }\n",
              "\n",
              "    .dataframe tbody tr th {\n",
              "        vertical-align: top;\n",
              "    }\n",
              "\n",
              "    .dataframe thead th {\n",
              "        text-align: right;\n",
              "    }\n",
              "</style>\n",
              "<table border=\"1\" class=\"dataframe\">\n",
              "  <thead>\n",
              "    <tr style=\"text-align: right;\">\n",
              "      <th></th>\n",
              "      <th>filename</th>\n",
              "      <th>opacity</th>\n",
              "      <th>diabetic retinopathy</th>\n",
              "      <th>glaucoma</th>\n",
              "      <th>macular edema</th>\n",
              "      <th>macular degeneration</th>\n",
              "      <th>retinal vascular occlusion</th>\n",
              "      <th>normal</th>\n",
              "    </tr>\n",
              "  </thead>\n",
              "  <tbody>\n",
              "    <tr>\n",
              "      <th>0</th>\n",
              "      <td>c24a1b14d253.jpg</td>\n",
              "      <td>0</td>\n",
              "      <td>0</td>\n",
              "      <td>0</td>\n",
              "      <td>0</td>\n",
              "      <td>0</td>\n",
              "      <td>1</td>\n",
              "      <td>0</td>\n",
              "    </tr>\n",
              "    <tr>\n",
              "      <th>1</th>\n",
              "      <td>9ee905a41651.jpg</td>\n",
              "      <td>0</td>\n",
              "      <td>0</td>\n",
              "      <td>0</td>\n",
              "      <td>0</td>\n",
              "      <td>0</td>\n",
              "      <td>1</td>\n",
              "      <td>0</td>\n",
              "    </tr>\n",
              "    <tr>\n",
              "      <th>2</th>\n",
              "      <td>3f58d128caf6.jpg</td>\n",
              "      <td>0</td>\n",
              "      <td>0</td>\n",
              "      <td>1</td>\n",
              "      <td>0</td>\n",
              "      <td>0</td>\n",
              "      <td>0</td>\n",
              "      <td>0</td>\n",
              "    </tr>\n",
              "    <tr>\n",
              "      <th>3</th>\n",
              "      <td>4ce6599e7b20.jpg</td>\n",
              "      <td>1</td>\n",
              "      <td>0</td>\n",
              "      <td>0</td>\n",
              "      <td>0</td>\n",
              "      <td>1</td>\n",
              "      <td>0</td>\n",
              "      <td>0</td>\n",
              "    </tr>\n",
              "    <tr>\n",
              "      <th>4</th>\n",
              "      <td>0def470360e4.jpg</td>\n",
              "      <td>1</td>\n",
              "      <td>0</td>\n",
              "      <td>0</td>\n",
              "      <td>0</td>\n",
              "      <td>1</td>\n",
              "      <td>0</td>\n",
              "      <td>0</td>\n",
              "    </tr>\n",
              "  </tbody>\n",
              "</table>\n",
              "</div>"
            ],
            "text/plain": [
              "           filename  opacity  diabetic retinopathy  glaucoma  macular edema  \\\n",
              "0  c24a1b14d253.jpg        0                     0         0              0   \n",
              "1  9ee905a41651.jpg        0                     0         0              0   \n",
              "2  3f58d128caf6.jpg        0                     0         1              0   \n",
              "3  4ce6599e7b20.jpg        1                     0         0              0   \n",
              "4  0def470360e4.jpg        1                     0         0              0   \n",
              "\n",
              "   macular degeneration  retinal vascular occlusion  normal  \n",
              "0                     0                           1       0  \n",
              "1                     0                           1       0  \n",
              "2                     0                           0       0  \n",
              "3                     1                           0       0  \n",
              "4                     1                           0       0  "
            ]
          },
          "execution_count": 3,
          "metadata": {},
          "output_type": "execute_result"
        }
      ],
      "source": [
        "data = pd.read_csv(\"../hidden_files/midterm_data/train/train.csv\")\n",
        "data.head()"
      ]
    },
    {
      "cell_type": "code",
      "execution_count": 4,
      "metadata": {},
      "outputs": [
        {
          "name": "stdout",
          "output_type": "stream",
          "text": [
            "<class 'pandas.core.frame.DataFrame'>\n",
            "RangeIndex: 3435 entries, 0 to 3434\n",
            "Data columns (total 8 columns):\n",
            " #   Column                      Non-Null Count  Dtype \n",
            "---  ------                      --------------  ----- \n",
            " 0   filename                    3435 non-null   object\n",
            " 1   opacity                     3435 non-null   int64 \n",
            " 2   diabetic retinopathy        3435 non-null   int64 \n",
            " 3   glaucoma                    3435 non-null   int64 \n",
            " 4   macular edema               3435 non-null   int64 \n",
            " 5   macular degeneration        3435 non-null   int64 \n",
            " 6   retinal vascular occlusion  3435 non-null   int64 \n",
            " 7   normal                      3435 non-null   int64 \n",
            "dtypes: int64(7), object(1)\n",
            "memory usage: 214.8+ KB\n"
          ]
        }
      ],
      "source": [
        "data.info()"
      ]
    },
    {
      "cell_type": "code",
      "execution_count": 5,
      "metadata": {},
      "outputs": [
        {
          "name": "stdout",
          "output_type": "stream",
          "text": [
            "Distribution of diabetic retinopathy\n",
            "0    2680\n",
            "1     755\n",
            "Name: diabetic retinopathy, dtype: int64\n",
            "Distribution of glaucoma\n",
            "0    2838\n",
            "1     597\n",
            "Name: glaucoma, dtype: int64\n",
            "Distribution of opacity\n",
            "0    1902\n",
            "1    1533\n",
            "Name: opacity, dtype: int64\n",
            "Distribution of macular edema\n",
            "0    2919\n",
            "1     516\n",
            "Name: macular edema, dtype: int64\n",
            "Distribution of macular degeneration\n",
            "0    2861\n",
            "1     574\n",
            "Name: macular degeneration, dtype: int64\n",
            "Distribution of retinal vascular occlusion\n",
            "0    2995\n",
            "1     440\n",
            "Name: retinal vascular occlusion, dtype: int64\n",
            "Distribution of normal\n",
            "0    2910\n",
            "1     525\n",
            "Name: normal, dtype: int64\n"
          ]
        }
      ],
      "source": [
        "for label in data[['diabetic retinopathy', 'glaucoma', 'opacity', 'macular edema', 'macular degeneration', 'retinal vascular occlusion', 'normal']]:\n",
        "    print(\"Distribution of\", label)\n",
        "    print(data[label].value_counts())"
      ]
    },
    {
      "cell_type": "markdown",
      "metadata": {},
      "source": [
        "## Create new labels\n",
        "\n",
        "We only care about diabetic retinopathy and glaucoma, we will group the rest of the labels together and drop the other columns."
      ]
    },
    {
      "cell_type": "code",
      "execution_count": 9,
      "metadata": {},
      "outputs": [],
      "source": [
        "# drop the columns that we dont care about \n",
        "data = data[['filename','diabetic retinopathy', 'glaucoma']]"
      ]
    },
    {
      "cell_type": "code",
      "execution_count": 10,
      "metadata": {},
      "outputs": [
        {
          "data": {
            "text/html": [
              "<div>\n",
              "<style scoped>\n",
              "    .dataframe tbody tr th:only-of-type {\n",
              "        vertical-align: middle;\n",
              "    }\n",
              "\n",
              "    .dataframe tbody tr th {\n",
              "        vertical-align: top;\n",
              "    }\n",
              "\n",
              "    .dataframe thead th {\n",
              "        text-align: right;\n",
              "    }\n",
              "</style>\n",
              "<table border=\"1\" class=\"dataframe\">\n",
              "  <thead>\n",
              "    <tr style=\"text-align: right;\">\n",
              "      <th></th>\n",
              "      <th>filename</th>\n",
              "      <th>diabetic retinopathy</th>\n",
              "      <th>glaucoma</th>\n",
              "    </tr>\n",
              "  </thead>\n",
              "  <tbody>\n",
              "    <tr>\n",
              "      <th>0</th>\n",
              "      <td>c24a1b14d253.jpg</td>\n",
              "      <td>0</td>\n",
              "      <td>0</td>\n",
              "    </tr>\n",
              "    <tr>\n",
              "      <th>1</th>\n",
              "      <td>9ee905a41651.jpg</td>\n",
              "      <td>0</td>\n",
              "      <td>0</td>\n",
              "    </tr>\n",
              "    <tr>\n",
              "      <th>2</th>\n",
              "      <td>3f58d128caf6.jpg</td>\n",
              "      <td>0</td>\n",
              "      <td>1</td>\n",
              "    </tr>\n",
              "    <tr>\n",
              "      <th>3</th>\n",
              "      <td>4ce6599e7b20.jpg</td>\n",
              "      <td>0</td>\n",
              "      <td>0</td>\n",
              "    </tr>\n",
              "    <tr>\n",
              "      <th>4</th>\n",
              "      <td>0def470360e4.jpg</td>\n",
              "      <td>0</td>\n",
              "      <td>0</td>\n",
              "    </tr>\n",
              "  </tbody>\n",
              "</table>\n",
              "</div>"
            ],
            "text/plain": [
              "           filename  diabetic retinopathy  glaucoma\n",
              "0  c24a1b14d253.jpg                     0         0\n",
              "1  9ee905a41651.jpg                     0         0\n",
              "2  3f58d128caf6.jpg                     0         1\n",
              "3  4ce6599e7b20.jpg                     0         0\n",
              "4  0def470360e4.jpg                     0         0"
            ]
          },
          "execution_count": 10,
          "metadata": {},
          "output_type": "execute_result"
        }
      ],
      "source": [
        "data.head()"
      ]
    },
    {
      "cell_type": "code",
      "execution_count": 12,
      "metadata": {},
      "outputs": [
        {
          "data": {
            "text/html": [
              "<div>\n",
              "<style scoped>\n",
              "    .dataframe tbody tr th:only-of-type {\n",
              "        vertical-align: middle;\n",
              "    }\n",
              "\n",
              "    .dataframe tbody tr th {\n",
              "        vertical-align: top;\n",
              "    }\n",
              "\n",
              "    .dataframe thead th {\n",
              "        text-align: right;\n",
              "    }\n",
              "</style>\n",
              "<table border=\"1\" class=\"dataframe\">\n",
              "  <thead>\n",
              "    <tr style=\"text-align: right;\">\n",
              "      <th></th>\n",
              "      <th>filename</th>\n",
              "      <th>diabetic retinopathy</th>\n",
              "      <th>glaucoma</th>\n",
              "      <th>other</th>\n",
              "    </tr>\n",
              "  </thead>\n",
              "  <tbody>\n",
              "    <tr>\n",
              "      <th>0</th>\n",
              "      <td>c24a1b14d253.jpg</td>\n",
              "      <td>0</td>\n",
              "      <td>0</td>\n",
              "      <td>0</td>\n",
              "    </tr>\n",
              "    <tr>\n",
              "      <th>1</th>\n",
              "      <td>9ee905a41651.jpg</td>\n",
              "      <td>0</td>\n",
              "      <td>0</td>\n",
              "      <td>0</td>\n",
              "    </tr>\n",
              "    <tr>\n",
              "      <th>2</th>\n",
              "      <td>3f58d128caf6.jpg</td>\n",
              "      <td>0</td>\n",
              "      <td>1</td>\n",
              "      <td>0</td>\n",
              "    </tr>\n",
              "    <tr>\n",
              "      <th>3</th>\n",
              "      <td>4ce6599e7b20.jpg</td>\n",
              "      <td>0</td>\n",
              "      <td>0</td>\n",
              "      <td>0</td>\n",
              "    </tr>\n",
              "    <tr>\n",
              "      <th>4</th>\n",
              "      <td>0def470360e4.jpg</td>\n",
              "      <td>0</td>\n",
              "      <td>0</td>\n",
              "      <td>0</td>\n",
              "    </tr>\n",
              "  </tbody>\n",
              "</table>\n",
              "</div>"
            ],
            "text/plain": [
              "           filename  diabetic retinopathy  glaucoma  other\n",
              "0  c24a1b14d253.jpg                     0         0      0\n",
              "1  9ee905a41651.jpg                     0         0      0\n",
              "2  3f58d128caf6.jpg                     0         1      0\n",
              "3  4ce6599e7b20.jpg                     0         0      0\n",
              "4  0def470360e4.jpg                     0         0      0"
            ]
          },
          "execution_count": 12,
          "metadata": {},
          "output_type": "execute_result"
        }
      ],
      "source": [
        "data['other'] = 0\n",
        "data.head()"
      ]
    },
    {
      "cell_type": "code",
      "execution_count": 21,
      "metadata": {},
      "outputs": [
        {
          "data": {
            "text/html": [
              "<div>\n",
              "<style scoped>\n",
              "    .dataframe tbody tr th:only-of-type {\n",
              "        vertical-align: middle;\n",
              "    }\n",
              "\n",
              "    .dataframe tbody tr th {\n",
              "        vertical-align: top;\n",
              "    }\n",
              "\n",
              "    .dataframe thead th {\n",
              "        text-align: right;\n",
              "    }\n",
              "</style>\n",
              "<table border=\"1\" class=\"dataframe\">\n",
              "  <thead>\n",
              "    <tr style=\"text-align: right;\">\n",
              "      <th></th>\n",
              "      <th>filename</th>\n",
              "      <th>diabetic retinopathy</th>\n",
              "      <th>glaucoma</th>\n",
              "      <th>other</th>\n",
              "    </tr>\n",
              "  </thead>\n",
              "  <tbody>\n",
              "    <tr>\n",
              "      <th>0</th>\n",
              "      <td>c24a1b14d253.jpg</td>\n",
              "      <td>0</td>\n",
              "      <td>0</td>\n",
              "      <td>1</td>\n",
              "    </tr>\n",
              "    <tr>\n",
              "      <th>1</th>\n",
              "      <td>9ee905a41651.jpg</td>\n",
              "      <td>0</td>\n",
              "      <td>0</td>\n",
              "      <td>1</td>\n",
              "    </tr>\n",
              "    <tr>\n",
              "      <th>2</th>\n",
              "      <td>3f58d128caf6.jpg</td>\n",
              "      <td>0</td>\n",
              "      <td>1</td>\n",
              "      <td>0</td>\n",
              "    </tr>\n",
              "    <tr>\n",
              "      <th>3</th>\n",
              "      <td>4ce6599e7b20.jpg</td>\n",
              "      <td>0</td>\n",
              "      <td>0</td>\n",
              "      <td>1</td>\n",
              "    </tr>\n",
              "    <tr>\n",
              "      <th>4</th>\n",
              "      <td>0def470360e4.jpg</td>\n",
              "      <td>0</td>\n",
              "      <td>0</td>\n",
              "      <td>1</td>\n",
              "    </tr>\n",
              "  </tbody>\n",
              "</table>\n",
              "</div>"
            ],
            "text/plain": [
              "           filename  diabetic retinopathy  glaucoma  other\n",
              "0  c24a1b14d253.jpg                     0         0      1\n",
              "1  9ee905a41651.jpg                     0         0      1\n",
              "2  3f58d128caf6.jpg                     0         1      0\n",
              "3  4ce6599e7b20.jpg                     0         0      1\n",
              "4  0def470360e4.jpg                     0         0      1"
            ]
          },
          "execution_count": 21,
          "metadata": {},
          "output_type": "execute_result"
        }
      ],
      "source": [
        "data['other'] = ((data['glaucoma'] == 0) & (data['diabetic retinopathy'] == 0)).astype(int)\n",
        "data.head()"
      ]
    },
    {
      "cell_type": "code",
      "execution_count": 22,
      "metadata": {},
      "outputs": [
        {
          "name": "stdout",
          "output_type": "stream",
          "text": [
            "<class 'pandas.core.frame.DataFrame'>\n",
            "RangeIndex: 3435 entries, 0 to 3434\n",
            "Data columns (total 4 columns):\n",
            " #   Column                Non-Null Count  Dtype \n",
            "---  ------                --------------  ----- \n",
            " 0   filename              3435 non-null   object\n",
            " 1   diabetic retinopathy  3435 non-null   int64 \n",
            " 2   glaucoma              3435 non-null   int64 \n",
            " 3   other                 3435 non-null   int64 \n",
            "dtypes: int64(3), object(1)\n",
            "memory usage: 107.5+ KB\n",
            "Distribution of diabetic retinopathy\n",
            "0    2680\n",
            "1     755\n",
            "Name: diabetic retinopathy, dtype: int64\n",
            "Distribution of glaucoma\n",
            "0    2838\n",
            "1     597\n",
            "Name: glaucoma, dtype: int64\n",
            "Distribution of other\n",
            "1    2102\n",
            "0    1333\n",
            "Name: other, dtype: int64\n"
          ]
        }
      ],
      "source": [
        "data.info()\n",
        "for label in data.columns[1:]:\n",
        "    print(\"Distribution of\", label)\n",
        "    print(data[label].value_counts())"
      ]
    },
    {
      "cell_type": "code",
      "execution_count": 23,
      "metadata": {},
      "outputs": [
        {
          "data": {
            "text/plain": [
              "other                            2102\n",
              "diabetic retinopathy              736\n",
              "glaucoma                          578\n",
              "diabetic retinopathy,glaucoma      19\n",
              "dtype: int64"
            ]
          },
          "execution_count": 23,
          "metadata": {},
          "output_type": "execute_result"
        }
      ],
      "source": [
        "# Check new lables, and that all of the combinations add up to the total numbe of rows.\n",
        "LABELS = data.columns[1:]\n",
        "def build_label(row):\n",
        "    return \",\".join([LABELS[idx] for idx, val in enumerate(row[1:]) if val == 1])\n",
        "        \n",
        "data.apply(lambda x: build_label(x), axis=1).value_counts()"
      ]
    },
    {
      "cell_type": "code",
      "execution_count": 27,
      "metadata": {},
      "outputs": [],
      "source": [
        "from sklearn.model_selection import train_test_split"
      ]
    },
    {
      "cell_type": "code",
      "execution_count": 28,
      "metadata": {},
      "outputs": [],
      "source": [
        "train_data, validation_data = train_test_split(data, test_size=0.3, random_state=42)"
      ]
    },
    {
      "cell_type": "code",
      "execution_count": null,
      "metadata": {},
      "outputs": [],
      "source": [
        "# lift code from MLE for training generator & data augmentation. use unet-helper functions and lift directly. \n",
        "\n",
        "# unet-helper functions -> prints out metrics later when we need it \n",
        "# "
      ]
    }
  ],
  "metadata": {
    "colab": {
      "name": "ML_for_Computer_Vision.ipynb",
      "provenance": []
    },
    "kernelspec": {
      "display_name": "Python 3",
      "language": "python",
      "name": "python3"
    },
    "language_info": {
      "codemirror_mode": {
        "name": "ipython",
        "version": 3
      },
      "file_extension": ".py",
      "mimetype": "text/x-python",
      "name": "python",
      "nbconvert_exporter": "python",
      "pygments_lexer": "ipython3",
      "version": "3.8.5"
    }
  },
  "nbformat": 4,
  "nbformat_minor": 0
}
